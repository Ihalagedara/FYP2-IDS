{
  "nbformat": 4,
  "nbformat_minor": 0,
  "metadata": {
    "colab": {
      "provenance": [],
      "gpuType": "T4",
      "include_colab_link": true
    },
    "kernelspec": {
      "name": "python3",
      "display_name": "Python 3"
    },
    "language_info": {
      "name": "python"
    },
    "accelerator": "GPU"
  },
  "cells": [
    {
      "cell_type": "markdown",
      "metadata": {
        "id": "view-in-github",
        "colab_type": "text"
      },
      "source": [
        "<a href=\"https://colab.research.google.com/github/Ihalagedara/FYP2-IDS/blob/main/Copy_of_loss_value_7_para.ipynb\" target=\"_parent\"><img src=\"https://colab.research.google.com/assets/colab-badge.svg\" alt=\"Open In Colab\"/></a>"
      ]
    },
    {
      "cell_type": "code",
      "execution_count": 1,
      "metadata": {
        "id": "oSbSaxh-6gQv"
      },
      "outputs": [],
      "source": [
        "import numpy as np\n",
        "import pandas as pd\n",
        "from sklearn.model_selection import train_test_split\n",
        "from sklearn.preprocessing import StandardScaler\n",
        "import tensorflow as tf\n",
        "import xgboost as xgb\n",
        "from sklearn.metrics import accuracy_score\n",
        "from sklearn.metrics import classification_report\n",
        "from sklearn.metrics import mean_absolute_error\n",
        "import numpy as np\n",
        "import tensorflow as tf\n",
        "from tensorflow import keras\n",
        "import matplotlib.pyplot as plt\n",
        "#import kerastuner as kt"
      ]
    },
    {
      "cell_type": "code",
      "execution_count": 2,
      "metadata": {
        "id": "5lcM4cfO5Ule",
        "colab": {
          "base_uri": "https://localhost:8080/"
        },
        "outputId": "2239d79e-0bd9-42eb-99c5-90ea27a28594"
      },
      "outputs": [
        {
          "output_type": "stream",
          "name": "stdout",
          "text": [
            "Mounted at /content/drive\n"
          ]
        }
      ],
      "source": [
        "from google.colab import drive\n",
        "drive.mount('/content/drive')"
      ]
    },
    {
      "cell_type": "code",
      "execution_count": 3,
      "metadata": {
        "id": "OAGMOojG7rxT"
      },
      "outputs": [],
      "source": [
        "import keras\n",
        "from keras.models import Sequential\n",
        "from keras.layers import Activation\n",
        "from keras.layers import Dense, Dropout\n",
        "from keras.optimizers import Adam\n",
        "from keras.metrics import categorical_crossentropy\n",
        "from sklearn.metrics import classification_report\n",
        "from tensorflow.keras.models import Sequential\n",
        "from tensorflow.keras.layers import Dense\n",
        "from sklearn.preprocessing import StandardScaler,MinMaxScaler\n",
        "from tensorflow.keras.losses import MeanSquaredLogarithmicError"
      ]
    },
    {
      "cell_type": "markdown",
      "metadata": {
        "id": "b9blWVySmQ-0"
      },
      "source": [
        "## testing"
      ]
    },
    {
      "cell_type": "code",
      "source": [
        "model = tf.keras.models.load_model(\"/content/drive/MyDrive/FYP2/Colab/model save/AE_model_7para_20122023_v_1\")#/content/drive/MyDrive/FYP2/Colab/model save/AE_model_11102023_v_2_1   #/content/drive/Shareddrives/FYP IDS SDN/FYP ML/Saved Models/AE_model_11102023_v_2"
      ],
      "metadata": {
        "id": "AInyZKT53siW"
      },
      "execution_count": 4,
      "outputs": []
    },
    {
      "cell_type": "code",
      "source": [
        "model.summary()"
      ],
      "metadata": {
        "colab": {
          "base_uri": "https://localhost:8080/"
        },
        "id": "S75Ux0R-yhvQ",
        "outputId": "f8186358-8681-4aec-d8ff-e93d9f0e9658"
      },
      "execution_count": 5,
      "outputs": [
        {
          "output_type": "stream",
          "name": "stdout",
          "text": [
            "Model: \"auto_encoder_1\"\n",
            "_________________________________________________________________\n",
            " Layer (type)                Output Shape              Param #   \n",
            "=================================================================\n",
            " sequential_2 (Sequential)   (None, 58)                1588252   \n",
            "                                                                 \n",
            " sequential_3 (Sequential)   (None, 7)                 1588201   \n",
            "                                                                 \n",
            "=================================================================\n",
            "Total params: 3176453 (12.12 MB)\n",
            "Trainable params: 3176453 (12.12 MB)\n",
            "Non-trainable params: 0 (0.00 Byte)\n",
            "_________________________________________________________________\n"
          ]
        }
      ]
    },
    {
      "cell_type": "code",
      "source": [
        "def cor(true_val, Pred_val):\n",
        "  corr = []\n",
        "  for i in range(len(true_val)):\n",
        "    corr.append(np.abs(np.corrcoef(true_val[i], Pred_val[i])[0,1]))\n",
        "\n",
        "  return np.array(corr)"
      ],
      "metadata": {
        "id": "pu2yAEW8jhQY"
      },
      "execution_count": 6,
      "outputs": []
    },
    {
      "cell_type": "code",
      "execution_count": 7,
      "metadata": {
        "id": "Xc4zrVgkwL7D"
      },
      "outputs": [],
      "source": [
        "#loss\n",
        "def loss(true_val,Pred_val):\n",
        "  #loss1 = tf.keras.losses.mean_squared_logarithmic_error(true_val, Pred_val)\n",
        "  loss1 = tf.keras.losses.mean_squared_logarithmic_error(true_val, Pred_val) - 0.3095703125*np.abs(cor(true_val, Pred_val))\n",
        "  return loss1"
      ]
    },
    {
      "cell_type": "markdown",
      "metadata": {
        "id": "lmnyXaIzdL89"
      },
      "source": [
        "### normal"
      ]
    },
    {
      "cell_type": "code",
      "execution_count": 8,
      "metadata": {
        "id": "SR-ITcyibUe2"
      },
      "outputs": [],
      "source": [
        "data = pd.read_csv('/content/drive/Shareddrives/FYP IDS SDN/FYP ML/InSDN_DatasetCSV/new_dataset.csv', sep=\",\")\n",
        "data = data.drop(['Flow ID','Src IP','Src Port','Dst IP', 'Dst Port', 'Timestamp'], axis=1)\n",
        "selected_features = ['Protocol', 'Tot Fwd Pkts', 'Flow Pkts/s', 'Fwd Header Len', 'Bwd Header Len', 'Bwd Pkts/s', 'Pkt Len Max', 'Init Bwd Win Byts' , 'Label']\n",
        "data = data.drop(columns=data.columns.difference(selected_features))\n",
        "condition4 = data['Label'] != 'Normal'\n",
        "data = data.drop(data[condition4].index)\n",
        "y_data_normal = data[\"Label\"]\n",
        "scaler = StandardScaler()\n",
        "data_normal = data.drop([\"Label\"],axis=1)\n",
        "data_scaled = scaler.fit(data_normal)\n",
        "data_normal = data_scaled.transform(data_normal)"
      ]
    },
    {
      "cell_type": "code",
      "execution_count": 9,
      "metadata": {
        "id": "5ep6Ilssbeww",
        "colab": {
          "base_uri": "https://localhost:8080/"
        },
        "outputId": "5eec0e30-a6e1-487d-f9b8-0dcc0da3554b"
      },
      "outputs": [
        {
          "output_type": "stream",
          "name": "stdout",
          "text": [
            "2139/2139 [==============================] - 7s 3ms/step\n"
          ]
        }
      ],
      "source": [
        "reconstructions_normal = model.predict(np.array(data_normal))\n",
        "mse_normal = loss(data_normal , reconstructions_normal)"
      ]
    },
    {
      "cell_type": "markdown",
      "metadata": {
        "id": "PN0r-ZqqdONb"
      },
      "source": [
        "### bfa"
      ]
    },
    {
      "cell_type": "code",
      "execution_count": 10,
      "metadata": {
        "id": "r4U4b2YBbqcU"
      },
      "outputs": [],
      "source": [
        "data = pd.read_csv('/content/drive/Shareddrives/FYP IDS SDN/FYP ML/InSDN_DatasetCSV/new_dataset.csv', sep=\",\")\n",
        "data = data.drop(['Flow ID','Src IP','Src Port','Dst IP', 'Dst Port', 'Timestamp'], axis=1)\n",
        "selected_features = ['Protocol', 'Tot Fwd Pkts', 'Flow Pkts/s', 'Fwd Header Len', 'Bwd Header Len', 'Bwd Pkts/s', 'Pkt Len Max', 'Init Bwd Win Byts' , 'Label']\n",
        "data = data.drop(columns=data.columns.difference(selected_features))\n",
        "condition4 = data['Label'] != 'BFA'\n",
        "data = data.drop(data[condition4].index)\n",
        "y_data_bfa = data[\"Label\"]\n",
        "data_bfa = data.drop([\"Label\"],axis=1)\n",
        "scaler = StandardScaler()\n",
        "data_scaled = scaler.fit(data_bfa)\n",
        "data_bfa = data_scaled.transform(data_bfa)"
      ]
    },
    {
      "cell_type": "code",
      "execution_count": 11,
      "metadata": {
        "id": "diwi-ptebsiv",
        "colab": {
          "base_uri": "https://localhost:8080/"
        },
        "outputId": "99fba7a4-7a84-4f87-f72f-4914cfe68ce5"
      },
      "outputs": [
        {
          "output_type": "stream",
          "name": "stdout",
          "text": [
            "44/44 [==============================] - 0s 3ms/step\n"
          ]
        }
      ],
      "source": [
        "reconstructions_bfa = model.predict(np.array(data_bfa))\n",
        "mse_bfa = loss(data_bfa , reconstructions_bfa)"
      ]
    },
    {
      "cell_type": "markdown",
      "metadata": {
        "id": "q4pHKanKdPyz"
      },
      "source": [
        "### ddos"
      ]
    },
    {
      "cell_type": "code",
      "execution_count": 12,
      "metadata": {
        "id": "tAPtsCEsc5v_"
      },
      "outputs": [],
      "source": [
        "data = pd.read_csv('/content/drive/Shareddrives/FYP IDS SDN/FYP ML/InSDN_DatasetCSV/new_dataset.csv', sep=\",\")\n",
        "data = data.drop(['Flow ID','Src IP','Src Port','Dst IP', 'Dst Port', 'Timestamp'], axis=1)\n",
        "selected_features = ['Protocol', 'Tot Fwd Pkts', 'Flow Pkts/s', 'Fwd Header Len', 'Bwd Header Len', 'Bwd Pkts/s', 'Pkt Len Max', 'Init Bwd Win Byts' , 'Label']\n",
        "data = data.drop(columns=data.columns.difference(selected_features))\n",
        "condition4 = data['Label'] != 'DDoS '\n",
        "condition1 = data['Label'] != 'DDoS'\n",
        "data = data.drop(data[condition4 & condition1].index)\n",
        "y_data_ddos = data[\"Label\"]\n",
        "data_ddos = data.drop([\"Label\"],axis=1)\n",
        "scaler = StandardScaler()\n",
        "data_scaled = scaler.fit(data_ddos)\n",
        "data_ddos = data_scaled.transform(data_ddos)"
      ]
    },
    {
      "cell_type": "code",
      "execution_count": 13,
      "metadata": {
        "id": "TmAe8qYZcRr3",
        "colab": {
          "base_uri": "https://localhost:8080/"
        },
        "outputId": "eee9fefb-3f5e-4e9b-d54a-bb398a6a6be2"
      },
      "outputs": [
        {
          "output_type": "stream",
          "name": "stdout",
          "text": [
            "3811/3811 [==============================] - 10s 3ms/step\n"
          ]
        }
      ],
      "source": [
        "reconstructions_ddos = model.predict(np.array(data_ddos))\n",
        "mse_ddos = loss(data_ddos, reconstructions_ddos)\n"
      ]
    },
    {
      "cell_type": "markdown",
      "metadata": {
        "id": "ToCyjrg-ig4Z"
      },
      "source": [
        "### dos"
      ]
    },
    {
      "cell_type": "code",
      "execution_count": 14,
      "metadata": {
        "id": "kBEFCM3JiiRY",
        "colab": {
          "base_uri": "https://localhost:8080/"
        },
        "outputId": "4cfbb557-2751-40f8-aecc-5920ca9dc916"
      },
      "outputs": [
        {
          "output_type": "stream",
          "name": "stderr",
          "text": [
            "/usr/local/lib/python3.10/dist-packages/sklearn/base.py:439: UserWarning: X does not have valid feature names, but StandardScaler was fitted with feature names\n",
            "  warnings.warn(\n"
          ]
        }
      ],
      "source": [
        "data = pd.read_csv('/content/drive/Shareddrives/FYP IDS SDN/FYP ML/InSDN_DatasetCSV/new_dataset.csv', sep=\",\")\n",
        "data = data.drop(['Flow ID','Src IP','Src Port','Dst IP', 'Dst Port', 'Timestamp'], axis=1)\n",
        "selected_features = ['Protocol', 'Tot Fwd Pkts', 'Flow Pkts/s', 'Fwd Header Len', 'Bwd Header Len', 'Bwd Pkts/s', 'Pkt Len Max', 'Init Bwd Win Byts' , 'Label']\n",
        "data = data.drop(columns=data.columns.difference(selected_features))\n",
        "condition4 = data['Label'] != 'DoS'\n",
        "data = data.drop(data[condition4].index)\n",
        "y_data_dos = data[\"Label\"]\n",
        "data_dos = data.drop([\"Label\"],axis=1)\n",
        "scaler = StandardScaler()\n",
        "data_scaled = scaler.fit(data_dos)\n",
        "data_dos = data_scaled.transform(data_ddos)"
      ]
    },
    {
      "cell_type": "code",
      "execution_count": 15,
      "metadata": {
        "id": "OnMiyMMQikEs",
        "colab": {
          "base_uri": "https://localhost:8080/"
        },
        "outputId": "6f86deba-faba-478d-df43-33e5bddbe6bd"
      },
      "outputs": [
        {
          "output_type": "stream",
          "name": "stdout",
          "text": [
            "3811/3811 [==============================] - 10s 3ms/step\n"
          ]
        }
      ],
      "source": [
        "reconstructions_dos = model.predict(np.array(data_dos))\n",
        "mse_dos = loss(data_dos ,reconstructions_dos)\n"
      ]
    },
    {
      "cell_type": "markdown",
      "metadata": {
        "id": "I_MfL8z7dQ7G"
      },
      "source": [
        "### Probe"
      ]
    },
    {
      "cell_type": "code",
      "execution_count": 16,
      "metadata": {
        "id": "G-9zahsedV7w"
      },
      "outputs": [],
      "source": [
        "data = pd.read_csv('/content/drive/Shareddrives/FYP IDS SDN/FYP ML/InSDN_DatasetCSV/new_dataset.csv', sep=\",\")\n",
        "data = data.drop(['Flow ID','Src IP','Src Port','Dst IP', 'Dst Port', 'Timestamp'], axis=1)\n",
        "selected_features = ['Protocol', 'Tot Fwd Pkts', 'Flow Pkts/s', 'Fwd Header Len', 'Bwd Header Len', 'Bwd Pkts/s', 'Pkt Len Max', 'Init Bwd Win Byts' , 'Label']\n",
        "data = data.drop(columns=data.columns.difference(selected_features))\n",
        "condition4 = data['Label'] != 'Probe'\n",
        "data = data.drop(data[condition4].index)\n",
        "y_data_prob = data[\"Label\"]\n",
        "data_prob = data.drop([\"Label\"],axis=1)\n",
        "scaler = StandardScaler()\n",
        "data_scaled = scaler.fit(data_prob)\n",
        "data_prob = data_scaled.transform(data_prob)"
      ]
    },
    {
      "cell_type": "code",
      "execution_count": 17,
      "metadata": {
        "id": "06KMTh7UdVxA",
        "colab": {
          "base_uri": "https://localhost:8080/"
        },
        "outputId": "1b66b65c-6325-4dbc-a4f0-06f638485772"
      },
      "outputs": [
        {
          "output_type": "stream",
          "name": "stdout",
          "text": [
            "3067/3067 [==============================] - 7s 2ms/step\n"
          ]
        }
      ],
      "source": [
        "reconstructions_prob = model.predict(np.array(data_prob))\n",
        "mse_prob = loss(data_prob , reconstructions_prob)"
      ]
    },
    {
      "cell_type": "markdown",
      "metadata": {
        "id": "wM9pznkEdikd"
      },
      "source": [
        "### Web-Attack"
      ]
    },
    {
      "cell_type": "code",
      "execution_count": 18,
      "metadata": {
        "id": "hO0iLc3Ydjg8"
      },
      "outputs": [],
      "source": [
        "data = pd.read_csv('/content/drive/Shareddrives/FYP IDS SDN/FYP ML/InSDN_DatasetCSV/new_dataset.csv', sep=\",\")\n",
        "data = data.drop(['Flow ID','Src IP','Src Port','Dst IP', 'Dst Port', 'Timestamp'], axis=1)\n",
        "selected_features = ['Protocol', 'Tot Fwd Pkts', 'Flow Pkts/s', 'Fwd Header Len', 'Bwd Header Len', 'Bwd Pkts/s', 'Pkt Len Max', 'Init Bwd Win Byts' , 'Label']\n",
        "data = data.drop(columns=data.columns.difference(selected_features))\n",
        "condition4 = data['Label'] != 'Web-Attack'\n",
        "data = data.drop(data[condition4].index)\n",
        "y_data_WebAttack = data[\"Label\"]\n",
        "data_WebAttack = data.drop([\"Label\"],axis=1)\n",
        "scaler = StandardScaler()\n",
        "data_scaled = scaler.fit(data_WebAttack)\n",
        "data_WebAttack = data_scaled.transform(data_WebAttack)"
      ]
    },
    {
      "cell_type": "code",
      "execution_count": 19,
      "metadata": {
        "id": "b3NWbbGCdjXG",
        "colab": {
          "base_uri": "https://localhost:8080/"
        },
        "outputId": "5d4b38eb-6972-4a98-d76c-59c4c0f3bf15"
      },
      "outputs": [
        {
          "output_type": "stream",
          "name": "stdout",
          "text": [
            "6/6 [==============================] - 0s 3ms/step\n"
          ]
        }
      ],
      "source": [
        "reconstructions_WebAttack = model.predict(np.array(data_WebAttack))\n",
        "mse_WebAttack = loss(data_WebAttack , reconstructions_WebAttack)"
      ]
    },
    {
      "cell_type": "markdown",
      "metadata": {
        "id": "vCBuv4qtdvu3"
      },
      "source": [
        "### BOTNET"
      ]
    },
    {
      "cell_type": "code",
      "execution_count": 20,
      "metadata": {
        "id": "BFCDYr9Vdwx2"
      },
      "outputs": [],
      "source": [
        "data = pd.read_csv('/content/drive/Shareddrives/FYP IDS SDN/FYP ML/InSDN_DatasetCSV/new_dataset.csv', sep=\",\")\n",
        "data = data.drop(['Flow ID','Src IP','Src Port','Dst IP', 'Dst Port', 'Timestamp'], axis=1)\n",
        "selected_features = ['Protocol', 'Tot Fwd Pkts', 'Flow Pkts/s', 'Fwd Header Len', 'Bwd Header Len', 'Bwd Pkts/s', 'Pkt Len Max', 'Init Bwd Win Byts' , 'Label']\n",
        "data = data.drop(columns=data.columns.difference(selected_features))\n",
        "condition4 = data['Label'] != 'BOTNET'\n",
        "data = data.drop(data[condition4].index)\n",
        "y_data_BOTNET = data[\"Label\"]\n",
        "data_BOTNET = data.drop([\"Label\"],axis=1)\n",
        "scaler = StandardScaler()\n",
        "data_scaled = scaler.fit(data_BOTNET)\n",
        "data_BOTNET = data_scaled.transform(data_BOTNET)"
      ]
    },
    {
      "cell_type": "code",
      "execution_count": 21,
      "metadata": {
        "id": "Vk8P7kRXdwsx",
        "colab": {
          "base_uri": "https://localhost:8080/"
        },
        "outputId": "1b7c76b0-58c4-4927-c435-297d3241f949"
      },
      "outputs": [
        {
          "output_type": "stream",
          "name": "stdout",
          "text": [
            "6/6 [==============================] - 0s 3ms/step\n"
          ]
        }
      ],
      "source": [
        "reconstructions_BOTNET = model.predict(np.array(data_BOTNET))\n",
        "mse_BOTNET = loss(data_BOTNET , reconstructions_BOTNET)"
      ]
    },
    {
      "cell_type": "markdown",
      "metadata": {
        "id": "U9FHNkSud5Vr"
      },
      "source": [
        "### U2R"
      ]
    },
    {
      "cell_type": "code",
      "execution_count": 22,
      "metadata": {
        "id": "4ZePuicbd6SS"
      },
      "outputs": [],
      "source": [
        "data = pd.read_csv('/content/drive/Shareddrives/FYP IDS SDN/FYP ML/InSDN_DatasetCSV/new_dataset.csv', sep=\",\")\n",
        "data = data.drop(['Flow ID','Src IP','Src Port','Dst IP', 'Dst Port', 'Timestamp'], axis=1)\n",
        "selected_features = ['Protocol', 'Tot Fwd Pkts', 'Flow Pkts/s', 'Fwd Header Len', 'Bwd Header Len', 'Bwd Pkts/s', 'Pkt Len Max', 'Init Bwd Win Byts' , 'Label']\n",
        "data = data.drop(columns=data.columns.difference(selected_features))\n",
        "condition4 = data['Label'] != 'U2R'\n",
        "data = data.drop(data[condition4].index)\n",
        "y_data_U2R = data[\"Label\"]\n",
        "data_U2R = data.drop([\"Label\"],axis=1)\n",
        "scaler = StandardScaler()\n",
        "data_scaled = scaler.fit(data_U2R)\n",
        "data_U2R = data_scaled.transform(data_U2R)"
      ]
    },
    {
      "cell_type": "code",
      "execution_count": 23,
      "metadata": {
        "id": "ZkOtjXKrd6Jx",
        "colab": {
          "base_uri": "https://localhost:8080/"
        },
        "outputId": "f791917f-357a-4635-de35-6aafd8a01a24"
      },
      "outputs": [
        {
          "output_type": "stream",
          "name": "stdout",
          "text": [
            "1/1 [==============================] - 0s 31ms/step\n"
          ]
        }
      ],
      "source": [
        "reconstructions_U2R = model.predict(np.array(data_U2R))\n",
        "mse_U2R = loss(data_U2R , reconstructions_U2R)"
      ]
    },
    {
      "cell_type": "code",
      "execution_count": 24,
      "metadata": {
        "id": "MIHjUjyZceKN"
      },
      "outputs": [],
      "source": [
        "#threshold = np.percentile(mse, 95)\n",
        "\n",
        "#is_anomaly = mse < threshold"
      ]
    },
    {
      "cell_type": "markdown",
      "metadata": {
        "id": "EfxcPINifcq-"
      },
      "source": [
        "### out"
      ]
    },
    {
      "cell_type": "code",
      "execution_count": 25,
      "metadata": {
        "id": "T2FmHSfmhv8u",
        "colab": {
          "base_uri": "https://localhost:8080/"
        },
        "outputId": "7ffd1391-2aec-4841-a7a4-7772e360ab37"
      },
      "outputs": [
        {
          "output_type": "stream",
          "name": "stdout",
          "text": [
            "normal \t max 11.210081100463867 \t min -0.309561163187027\n",
            "mse_bfa \t max 3.156660556793213 \t min -0.19197292625904083\n",
            "mse_ddos \t max 4.849183559417725 \t min -0.16176198422908783\n",
            "mse_prob \t max 5.248542785644531 \t min -0.30779606103897095\n",
            "mse_WebAttack \t max 2.309251308441162 \t min -0.17059344053268433\n",
            "mse_BOTNET \t max 0.45810467004776 \t min -0.30539578199386597\n",
            "mse_U2R \t max 0.6647392511367798 \t min -0.18631960451602936\n",
            "mse_dos \t max 2.74008846282959 \t min -0.3091237545013428\n"
          ]
        }
      ],
      "source": [
        "print(f\"normal \\t max {np.max(mse_normal)} \\t min {np.min(mse_normal)}\")\n",
        "print(f\"mse_bfa \\t max {np.max(mse_bfa)} \\t min {np.min(mse_bfa)}\")\n",
        "print(f\"mse_ddos \\t max {np.max(mse_ddos)} \\t min {np.min(mse_ddos)}\")\n",
        "print(f\"mse_prob \\t max {np.max(mse_prob)} \\t min {np.min(mse_prob)}\")\n",
        "print(f\"mse_WebAttack \\t max {np.max(mse_WebAttack)} \\t min {np.min(mse_WebAttack)}\")\n",
        "print(f\"mse_BOTNET \\t max {np.max(mse_BOTNET)} \\t min {np.min(mse_BOTNET)}\")\n",
        "print(f\"mse_U2R \\t max {np.max(mse_U2R)} \\t min {np.min(mse_U2R)}\")\n",
        "print(f\"mse_dos \\t max {np.max(mse_dos)} \\t min {np.min(mse_dos)}\")"
      ]
    },
    {
      "cell_type": "code",
      "execution_count": 26,
      "metadata": {
        "id": "FE0z-QcVh3Dt"
      },
      "outputs": [],
      "source": [
        "threshold_normal = np.percentile(mse_normal, 85)\n",
        "threshold_bfa = np.percentile(mse_bfa, 95)\n",
        "threshold_ddos = np.percentile(mse_ddos, 95)\n",
        "threshold_prob = np.percentile(mse_prob, 95)\n",
        "threshold_WebAttack = np.percentile(mse_WebAttack, 95)\n",
        "threshold_BOTNET = np.percentile(mse_BOTNET, 95)\n",
        "threshold_U2R = np.percentile(mse_U2R, 95)"
      ]
    },
    {
      "cell_type": "code",
      "execution_count": 27,
      "metadata": {
        "id": "oW0IZeH0jXTa",
        "colab": {
          "base_uri": "https://localhost:8080/"
        },
        "outputId": "bae2f1ee-e903-4044-e9bb-d6fa49b386d4"
      },
      "outputs": [
        {
          "output_type": "stream",
          "name": "stdout",
          "text": [
            "-0.23055320754647254\n",
            "0.35024760365486146\n",
            "0.189360111951828\n",
            "0.40967679023742676\n",
            "0.4307112693786621\n",
            "0.3186004444956779\n",
            "0.4081970453262327\n"
          ]
        }
      ],
      "source": [
        "print(threshold_normal)\n",
        "print(threshold_bfa)\n",
        "print(threshold_ddos)\n",
        "print(threshold_prob)\n",
        "print(threshold_WebAttack)\n",
        "print(threshold_BOTNET)\n",
        "print(threshold_U2R)"
      ]
    },
    {
      "cell_type": "markdown",
      "metadata": {
        "id": "WlAGyAeaL_ku"
      },
      "source": [
        "## accuracy"
      ]
    },
    {
      "cell_type": "code",
      "source": [
        "threshold_mae = np.percentile(mse_normal, 95)"
      ],
      "metadata": {
        "id": "848dH2-sMT9I"
      },
      "execution_count": 28,
      "outputs": []
    },
    {
      "cell_type": "code",
      "execution_count": 29,
      "metadata": {
        "id": "ludVVSGflCq1"
      },
      "outputs": [],
      "source": [
        "anom_normal = mse_normal < threshold_mae\n",
        "anom_bfa = mse_bfa > threshold_mae\n",
        "anom_ddos  = mse_ddos > threshold_mae\n",
        "anom_prob = mse_prob > threshold_mae\n",
        "anom_WebAttack = mse_WebAttack > threshold_mae\n",
        "anom_BOTNET = mse_BOTNET >  threshold_mae\n",
        "anom_U2R = mse_U2R > threshold_mae\n",
        "anom_dos = mse_dos > threshold_mae"
      ]
    },
    {
      "cell_type": "code",
      "execution_count": 30,
      "metadata": {
        "id": "okycfqvQuuWx"
      },
      "outputs": [],
      "source": [
        "def check(anom):\n",
        "  count =0\n",
        "  var_name = [name for name, value in globals().items() if value is anom][0]\n",
        "  for i in range(len(anom)):\n",
        "    if np.array(anom)[i]:\n",
        "      count = count +1\n",
        "\n",
        "  print(f\"{var_name} \\t  {count/len(anom)*100:.3f} \\t  {len(anom)}\")"
      ]
    },
    {
      "cell_type": "code",
      "execution_count": 31,
      "metadata": {
        "id": "IcOZKopAwe6C",
        "colab": {
          "base_uri": "https://localhost:8080/"
        },
        "outputId": "77f6592d-9a85-4786-c866-7420a27d7fc3"
      },
      "outputs": [
        {
          "output_type": "stream",
          "name": "stdout",
          "text": [
            "anom_normal \t  94.999 \t  68424\n",
            "anom_bfa \t  99.502 \t  1405\n",
            "anom_ddos \t  97.631 \t  121942\n",
            "anom_prob \t  50.132 \t  98129\n",
            "anom_WebAttack \t  91.667 \t  192\n",
            "anom_BOTNET \t  50.000 \t  164\n",
            "anom_U2R \t  88.235 \t  17\n",
            "anom_dos \t  0.413 \t  121942\n"
          ]
        }
      ],
      "source": [
        "check(anom_normal)\n",
        "check(anom_bfa)\n",
        "check(anom_ddos)\n",
        "check(anom_prob)\n",
        "check(anom_WebAttack)\n",
        "check(anom_BOTNET)\n",
        "check(anom_U2R)\n",
        "check(anom_dos)"
      ]
    },
    {
      "cell_type": "markdown",
      "source": [
        "## Plots\n"
      ],
      "metadata": {
        "id": "xU4XxoA8u4MD"
      }
    },
    {
      "cell_type": "code",
      "source": [
        "plt.hist(mse_normal, bins=50, label='normal',alpha=0.5, range=[-0.27, 2.8], color = 'black')\n",
        "plt.hist(mse_bfa, bins=50, label='bfa',alpha=0.5, range=[-0.27, 2.8], color = 'blue')\n",
        "plt.hist(mse_ddos, bins=50, label='ddos',alpha=0.5, range=[-0.27, 2.8], color = 'red')\n",
        "plt.hist(mse_prob, bins=50, label='prob',alpha=0.5, range=[-0.27, 2.8], color = 'cyan')\n",
        "plt.hist(mse_WebAttack, bins=50, label='web',alpha=0.5, range=[-0.27, 2.8], color = 'orange')\n",
        "plt.hist(mse_BOTNET, bins=50, label='botnet',alpha=0.5, range=[-0.27, 2.8], color = 'green')\n",
        "plt.hist(mse_U2R, bins=50, label='u2r',alpha=0.5, range=[-0.27, 2.8], color = 'indigo')\n",
        "plt.hist(mse_dos, bins=50, label='dos',alpha=0.5, range=[-0.27, 2.8], color = 'pink')\n",
        "plt.axvline(threshold_mae, color='r', linewidth=1, linestyle='dashed', label='{:0.03f}'.format(threshold_mae))\n",
        "plt.legend()\n",
        "plt.show()"
      ],
      "metadata": {
        "colab": {
          "base_uri": "https://localhost:8080/",
          "height": 430
        },
        "id": "JKh4QjUou6TQ",
        "outputId": "e47e2a91-034a-41a0-dad2-ecf0af7d8c61"
      },
      "execution_count": 32,
      "outputs": [
        {
          "output_type": "display_data",
          "data": {
            "text/plain": [
              "<Figure size 640x480 with 1 Axes>"
            ],
            "image/png": "[encoded data removed]"
          },
          "metadata": {}
        }
      ]
    },
    {
      "cell_type": "code",
      "source": [
        "plt.subplot(4, 2, 1)\n",
        "plt.hist(mse_normal, bins=50, label='normal', range=[-0.27, 2.8], color = 'blue')\n",
        "plt.axvline(threshold_mae, color='r', linewidth=1, linestyle='dashed', label='{:0.03f}'.format(threshold_mae))\n",
        "plt.legend()\n",
        "plt.subplot(4, 2, 2)\n",
        "plt.hist(mse_bfa, bins=50, label='bfa', range=[-0.27, 2.8], color = 'blue')\n",
        "plt.axvline(threshold_mae, color='r', linewidth=1, linestyle='dashed', label='{:0.03f}'.format(threshold_mae))\n",
        "plt.legend()\n",
        "plt.subplot(4, 2, 3)\n",
        "plt.hist(mse_ddos, bins=50, label='ddos', range=[-0.27, 2.8], color = 'blue')\n",
        "plt.axvline(threshold_mae, color='r', linewidth=1, linestyle='dashed', label='{:0.03f}'.format(threshold_mae))\n",
        "plt.legend()\n",
        "plt.subplot(4, 2, 4)\n",
        "plt.hist(mse_prob, bins=50, label='prob', range=[-0.27, 2.8], color = 'blue')\n",
        "plt.axvline(threshold_mae, color='r', linewidth=1, linestyle='dashed', label='{:0.03f}'.format(threshold_mae))\n",
        "plt.legend()\n",
        "plt.subplot(4, 2, 5)\n",
        "plt.hist(mse_WebAttack, bins=50, label='web', range=[-0.27, 2.8], color = 'blue')\n",
        "plt.axvline(threshold_mae, color='r', linewidth=1, linestyle='dashed', label='{:0.03f}'.format(threshold_mae))\n",
        "plt.legend()\n",
        "plt.subplot(4, 2, 6)\n",
        "plt.hist(mse_BOTNET, bins=50, label='botnet', range=[-0.27, 2.8], color = 'blue')\n",
        "plt.axvline(threshold_mae, color='r', linewidth=1, linestyle='dashed', label='{:0.03f}'.format(threshold_mae))\n",
        "plt.legend()\n",
        "plt.subplot(4, 2, 7)\n",
        "plt.hist(mse_U2R, bins=50, label='u2r', range=[-0.27, 2.8], color = 'blue')\n",
        "plt.axvline(threshold_mae, color='r', linewidth=1, linestyle='dashed', label='{:0.03f}'.format(threshold_mae))\n",
        "plt.legend()\n",
        "plt.subplot(4, 2, 8)\n",
        "plt.hist(mse_dos, bins=50, label='dos', range=[-0.27, 2.8], color = 'blue')\n",
        "plt.axvline(threshold_mae, color='r', linewidth=1, linestyle='dashed', label='{:0.03f}'.format(threshold_mae))\n",
        "plt.legend()\n",
        "plt.show()"
      ],
      "metadata": {
        "colab": {
          "base_uri": "https://localhost:8080/",
          "height": 430
        },
        "id": "DIatC8PVycIC",
        "outputId": "7886534b-c05c-4726-8db1-53c2883c05fa"
      },
      "execution_count": 33,
      "outputs": [
        {
          "output_type": "display_data",
          "data": {
            "text/plain": [
              "<Figure size 640x480 with 8 Axes>"
            ],
            "image/png": "[encoded data removed]"
          },
          "metadata": {}
        }
      ]
    }
  ]
}