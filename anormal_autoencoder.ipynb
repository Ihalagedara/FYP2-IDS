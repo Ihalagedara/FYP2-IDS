{
  "nbformat": 4,
  "nbformat_minor": 0,
  "metadata": {
    "colab": {
      "provenance": [],
      "gpuType": "T4",
      "authorship_tag": "ABX9TyO2BbIWtnmdJ6WS53NxZ6bB",
      "include_colab_link": true
    },
    "kernelspec": {
      "name": "python3",
      "display_name": "Python 3"
    },
    "language_info": {
      "name": "python"
    },
    "accelerator": "GPU"
  },
  "cells": [
    {
      "cell_type": "markdown",
      "metadata": {
        "id": "view-in-github",
        "colab_type": "text"
      },
      "source": [
        "<a href=\"https://colab.research.google.com/github/Ihalagedara/FYP2-IDS/blob/colab/anormal_autoencoder.ipynb\" target=\"_parent\"><img src=\"https://colab.research.google.com/assets/colab-badge.svg\" alt=\"Open In Colab\"/></a>"
      ]
    },
    {
      "cell_type": "code",
      "source": [
        "!pip install keras-tuner"
      ],
      "metadata": {
        "colab": {
          "base_uri": "https://localhost:8080/"
        },
        "id": "O_w1YZPVbeCA",
        "outputId": "76ec33a1-5437-437e-df50-e2f352c5f870"
      },
      "execution_count": 1,
      "outputs": [
        {
          "output_type": "stream",
          "name": "stdout",
          "text": [
            "Collecting keras-tuner\n",
            "  Downloading keras_tuner-1.4.4-py3-none-any.whl (127 kB)\n",
            "\u001b[2K     \u001b[90m━━━━━━━━━━━━━━━━━━━━━━━━━━━━━━━━━━━━━━━\u001b[0m \u001b[32m128.0/128.0 kB\u001b[0m \u001b[31m3.2 MB/s\u001b[0m eta \u001b[36m0:00:00\u001b[0m\n",
            "\u001b[?25hCollecting keras-core (from keras-tuner)\n",
            "  Downloading keras_core-0.1.7-py3-none-any.whl (950 kB)\n",
            "\u001b[2K     \u001b[90m━━━━━━━━━━━━━━━━━━━━━━━━━━━━━━━━━━━━━━━\u001b[0m \u001b[32m950.8/950.8 kB\u001b[0m \u001b[31m9.3 MB/s\u001b[0m eta \u001b[36m0:00:00\u001b[0m\n",
            "\u001b[?25hRequirement already satisfied: packaging in /usr/local/lib/python3.10/dist-packages (from keras-tuner) (23.2)\n",
            "Requirement already satisfied: requests in /usr/local/lib/python3.10/dist-packages (from keras-tuner) (2.31.0)\n",
            "Collecting kt-legacy (from keras-tuner)\n",
            "  Downloading kt_legacy-1.0.5-py3-none-any.whl (9.6 kB)\n",
            "Requirement already satisfied: absl-py in /usr/local/lib/python3.10/dist-packages (from keras-core->keras-tuner) (1.4.0)\n",
            "Requirement already satisfied: numpy in /usr/local/lib/python3.10/dist-packages (from keras-core->keras-tuner) (1.23.5)\n",
            "Requirement already satisfied: rich in /usr/local/lib/python3.10/dist-packages (from keras-core->keras-tuner) (13.6.0)\n",
            "Collecting namex (from keras-core->keras-tuner)\n",
            "  Downloading namex-0.0.7-py3-none-any.whl (5.8 kB)\n",
            "Requirement already satisfied: h5py in /usr/local/lib/python3.10/dist-packages (from keras-core->keras-tuner) (3.9.0)\n",
            "Requirement already satisfied: dm-tree in /usr/local/lib/python3.10/dist-packages (from keras-core->keras-tuner) (0.1.8)\n",
            "Requirement already satisfied: charset-normalizer<4,>=2 in /usr/local/lib/python3.10/dist-packages (from requests->keras-tuner) (3.3.0)\n",
            "Requirement already satisfied: idna<4,>=2.5 in /usr/local/lib/python3.10/dist-packages (from requests->keras-tuner) (3.4)\n",
            "Requirement already satisfied: urllib3<3,>=1.21.1 in /usr/local/lib/python3.10/dist-packages (from requests->keras-tuner) (2.0.6)\n",
            "Requirement already satisfied: certifi>=2017.4.17 in /usr/local/lib/python3.10/dist-packages (from requests->keras-tuner) (2023.7.22)\n",
            "Requirement already satisfied: markdown-it-py>=2.2.0 in /usr/local/lib/python3.10/dist-packages (from rich->keras-core->keras-tuner) (3.0.0)\n",
            "Requirement already satisfied: pygments<3.0.0,>=2.13.0 in /usr/local/lib/python3.10/dist-packages (from rich->keras-core->keras-tuner) (2.16.1)\n",
            "Requirement already satisfied: mdurl~=0.1 in /usr/local/lib/python3.10/dist-packages (from markdown-it-py>=2.2.0->rich->keras-core->keras-tuner) (0.1.2)\n",
            "Installing collected packages: namex, kt-legacy, keras-core, keras-tuner\n",
            "Successfully installed keras-core-0.1.7 keras-tuner-1.4.4 kt-legacy-1.0.5 namex-0.0.7\n"
          ]
        }
      ]
    },
    {
      "cell_type": "code",
      "execution_count": 2,
      "metadata": {
        "colab": {
          "base_uri": "https://localhost:8080/"
        },
        "id": "5lcM4cfO5Ule",
        "outputId": "c72d59f0-66be-4da5-efb7-07b511b362f4"
      },
      "outputs": [
        {
          "output_type": "stream",
          "name": "stdout",
          "text": [
            "Mounted at /content/drive\n"
          ]
        }
      ],
      "source": [
        "from google.colab import drive\n",
        "drive.mount('/content/drive')"
      ]
    },
    {
      "cell_type": "code",
      "source": [
        "import numpy as np\n",
        "import pandas as pd\n",
        "from sklearn.model_selection import train_test_split\n",
        "from sklearn.preprocessing import StandardScaler\n",
        "import tensorflow as tf\n",
        "import xgboost as xgb\n",
        "from sklearn.metrics import accuracy_score\n",
        "from sklearn.metrics import classification_report\n",
        "from sklearn.metrics import mean_absolute_error\n",
        "import numpy as np\n",
        "import tensorflow as tf\n",
        "from tensorflow import keras\n",
        "import matplotlib.pyplot as plt\n",
        "import kerastuner as kt"
      ],
      "metadata": {
        "id": "oSbSaxh-6gQv",
        "colab": {
          "base_uri": "https://localhost:8080/"
        },
        "outputId": "2fcf6266-24fa-45b7-c027-ad8490cca971"
      },
      "execution_count": 3,
      "outputs": [
        {
          "output_type": "stream",
          "name": "stdout",
          "text": [
            "Using TensorFlow backend\n"
          ]
        },
        {
          "output_type": "stream",
          "name": "stderr",
          "text": [
            "<ipython-input-3-9d3291f76797>:14: DeprecationWarning: `import kerastuner` is deprecated, please use `import keras_tuner`.\n",
            "  import kerastuner as kt\n"
          ]
        }
      ]
    },
    {
      "cell_type": "code",
      "source": [
        "import keras\n",
        "from keras.models import Sequential\n",
        "from keras.layers import Activation\n",
        "from keras.layers import Dense, Dropout\n",
        "from keras.optimizers import Adam\n",
        "from keras.metrics import categorical_crossentropy\n",
        "from sklearn.metrics import classification_report\n",
        "from tensorflow.keras.models import Sequential\n",
        "from tensorflow.keras.layers import Dense\n",
        "from sklearn.preprocessing import StandardScaler\n",
        "from tensorflow.keras.losses import MeanSquaredLogarithmicError"
      ],
      "metadata": {
        "id": "OAGMOojG7rxT"
      },
      "execution_count": 4,
      "outputs": []
    },
    {
      "cell_type": "code",
      "source": [
        "data = pd.read_csv('/content/drive/Shareddrives/FYP IDS SDN/FYP ML/InSDN_DatasetCSV/new_dataset.csv', sep=\",\")"
      ],
      "metadata": {
        "id": "vYGObg3I6pLB"
      },
      "execution_count": 5,
      "outputs": []
    },
    {
      "cell_type": "code",
      "source": [
        "#condition3 = data['Label'] != 'Probe'\n",
        "condition4 = data['Label'] != 'Normal'\n",
        "data = data.drop(data[condition4].index)"
      ],
      "metadata": {
        "id": "0SHKfzqH6ykK"
      },
      "execution_count": 6,
      "outputs": []
    },
    {
      "cell_type": "code",
      "source": [
        "#data['Label'] = data['Label'].replace('Probe', 1)\n",
        "data['Label'] = data['Label'].replace('Normal', 0)"
      ],
      "metadata": {
        "id": "DSJt-VAm60cI"
      },
      "execution_count": 7,
      "outputs": []
    },
    {
      "cell_type": "code",
      "source": [
        "data = data.drop(['Flow ID','Src IP','Src Port','Dst IP', 'Dst Port', 'Timestamp'], axis=1)\n"
      ],
      "metadata": {
        "id": "oJ_T-nyD61yu"
      },
      "execution_count": 8,
      "outputs": []
    },
    {
      "cell_type": "code",
      "source": [
        "data, data_test = train_test_split(data, test_size=0.2)"
      ],
      "metadata": {
        "id": "nXapljTt7Dd5"
      },
      "execution_count": 9,
      "outputs": []
    },
    {
      "cell_type": "code",
      "source": [
        "y_data = data[\"Label\"]\n",
        "data = data.drop([\"Label\"],axis=1)\n",
        "y_data_test = data_test[\"Label\"]\n",
        "data_test = data_test.drop([\"Label\"],axis=1)"
      ],
      "metadata": {
        "id": "hG3fHM7P6_rZ"
      },
      "execution_count": 10,
      "outputs": []
    },
    {
      "cell_type": "code",
      "source": [
        "selected_features = ['Protocol', 'Tot Fwd Pkts', 'Flow Pkts/s', 'Fwd Header Len', 'Bwd Header Len', 'Bwd Pkts/s', 'Pkt Len Max', 'Init Bwd Win Byts']\n",
        "data = data.drop(columns=data.columns.difference(selected_features))\n",
        "data_test = data_test.drop(columns=data_test.columns.difference(selected_features))"
      ],
      "metadata": {
        "id": "Jd8V-XaG65w5"
      },
      "execution_count": 11,
      "outputs": []
    },
    {
      "cell_type": "code",
      "source": [
        "mean = np.mean(data, axis=0)\n",
        "std_dev = np.std(data, axis=0)\n",
        "\n",
        "normalized_data = (data - mean) / std_dev"
      ],
      "metadata": {
        "id": "aRRb0M6grPQD"
      },
      "execution_count": 12,
      "outputs": []
    },
    {
      "cell_type": "code",
      "source": [
        "msle = MeanSquaredLogarithmicError()"
      ],
      "metadata": {
        "id": "_UkWFUrTqMhI"
      },
      "execution_count": 13,
      "outputs": []
    },
    {
      "cell_type": "code",
      "source": [
        "def build_model(hp):\n",
        "  model = tf.keras.Sequential()\n",
        "\n",
        "  # Tune the number of units in the first Dense layer\n",
        "  # Choose an optimal value between 32-512\n",
        "  hp_units1 = hp.Int('units1', min_value=32, max_value=1024, step=32)\n",
        "  hp_units2 = hp.Int('units2', min_value=32, max_value=1024, step=32)\n",
        "  hp_units3 = hp.Int('units3', min_value=32, max_value=1024, step=32)\n",
        "  hp_units4 = hp.Int('units4', min_value=32, max_value=1024, step=32)\n",
        "  hp_units5 = hp.Int('units5', min_value=32, max_value=1024, step=32)\n",
        "  hp_units6 = hp.Int('units6', min_value=32, max_value=1024, step=32)\n",
        "  hp_units7 = hp.Int('units7', min_value=32, max_value=1024, step=32)\n",
        "  hp_units8 = hp.Int('units8', min_value=32, max_value=1024, step=32)\n",
        "  hp_units9 = hp.Int('units9', min_value=32, max_value=1024, step=32)\n",
        "  model.add(Dense(units=hp_units1, input_shape=(7,), activation='relu'))\n",
        "  model.add(tf.keras.layers.Dense(units=hp_units2, activation='relu'))\n",
        "  model.add(tf.keras.layers.Dense(units=hp_units3, activation='relu'))\n",
        "  model.add(tf.keras.layers.Dense(units=hp_units4, activation='relu'))\n",
        "  model.add(tf.keras.layers.Dense(units=hp_units5, activation='relu'))\n",
        "  model.add(tf.keras.layers.Dense(units=hp_units6, activation='relu'))\n",
        "  model.add(tf.keras.layers.Dense(units=hp_units7, activation='relu'))\n",
        "  model.add(tf.keras.layers.Dense(units=hp_units8, activation='relu'))\n",
        "  model.add(tf.keras.layers.Dense(units=hp_units9, activation='relu'))\n",
        "  model.add(tf.keras.layers.Dense(units=2, activation='relu'))\n",
        "  model.add(tf.keras.layers.Dense(units=hp_units9, activation='relu'))\n",
        "  model.add(tf.keras.layers.Dense(units=hp_units8, activation='relu'))\n",
        "  model.add(tf.keras.layers.Dense(units=hp_units7, activation='relu'))\n",
        "  model.add(tf.keras.layers.Dense(units=hp_units6, activation='relu'))\n",
        "  model.add(tf.keras.layers.Dense(units=hp_units5, activation='relu'))\n",
        "  model.add(tf.keras.layers.Dense(units=hp_units4, activation='relu'))\n",
        "  model.add(tf.keras.layers.Dense(units=hp_units3, activation='relu'))\n",
        "  model.add(tf.keras.layers.Dense(units=hp_units2, activation='relu'))\n",
        "  model.add(tf.keras.layers.Dense(units=hp_units1, activation='relu'))\n",
        "  model.add(Dense(7, activation='linear'))\n",
        "\n",
        "  # Tune the learning rate for the optimizer\n",
        "  # Choose an optimal value from 0.01, 0.001, or 0.0001\n",
        "  hp_learning_rate = hp.Choice('learning_rate', values=[1e-2, 1e-3, 1e-4])\n",
        "\n",
        "  model.compile(\n",
        "      optimizer=tf.keras.optimizers.Adam(learning_rate=hp_learning_rate),\n",
        "      loss='mse',\n",
        "      metrics=[\"accuracy\"]\n",
        "  )\n",
        "  return model"
      ],
      "metadata": {
        "id": "C4etmhb9bqv1"
      },
      "execution_count": 14,
      "outputs": []
    },
    {
      "cell_type": "code",
      "source": [
        "tuner1 = kt.Hyperband(\n",
        "    build_model,\n",
        "    objective=['accuracy', 'val_loss'],\n",
        "    max_epochs=20,\n",
        "    directory='keras_tuner_dir',\n",
        "    project_name='keras_tuner_demo'\n",
        ")"
      ],
      "metadata": {
        "id": "q74KVCjdbs_I"
      },
      "execution_count": 15,
      "outputs": []
    },
    {
      "cell_type": "code",
      "source": [
        "tuner1.search(normalized_data, normalized_data, epochs=20,batch_size = 68 ,validation_split=0.2)"
      ],
      "metadata": {
        "colab": {
          "base_uri": "https://localhost:8080/"
        },
        "id": "e3-Bj6yybuHn",
        "outputId": "9c39d70f-9083-4b12-b030-0ee117773c33"
      },
      "execution_count": 16,
      "outputs": [
        {
          "output_type": "stream",
          "name": "stdout",
          "text": [
            "Trial 30 Complete [00h 02m 05s]\n",
            "multi_objective: 0.7151806652545929\n",
            "\n",
            "Best multi_objective So Far: -0.7136264741420746\n",
            "Total elapsed time: 00h 30m 41s\n"
          ]
        }
      ]
    },
    {
      "cell_type": "code",
      "source": [
        "for h_param in [f\"units{i}\" for i in range(1,10)] + ['learning_rate']:\n",
        "  print(h_param, tuner1.get_best_hyperparameters()[0].get(h_param))"
      ],
      "metadata": {
        "colab": {
          "base_uri": "https://localhost:8080/"
        },
        "id": "j3c-r8MobvIO",
        "outputId": "676bc83e-d5ac-4d88-8ece-e2e46f12872a"
      },
      "execution_count": 17,
      "outputs": [
        {
          "output_type": "stream",
          "name": "stdout",
          "text": [
            "units1 320\n",
            "units2 416\n",
            "units3 320\n",
            "units4 128\n",
            "units5 704\n",
            "units6 608\n",
            "units7 224\n",
            "units8 224\n",
            "units9 576\n",
            "learning_rate 0.0001\n"
          ]
        }
      ]
    },
    {
      "cell_type": "code",
      "source": [
        "model = keras.Sequential([\n",
        "    Dense(units=640, input_shape=(7,), activation='relu'),\n",
        "    Dense(units=1024, activation='relu'),\n",
        "    Dense(units=192, activation='relu'),\n",
        "    Dense(units=608, activation='relu'),\n",
        "\n",
        "    Dense(units=608, activation='relu'),\n",
        "    Dense(units=352, activation='relu'),\n",
        "    Dense(units=160, activation='relu'),\n",
        "\n",
        "    Dense(units=1024, activation='relu'),\n",
        "    Dense(units=544, activation='relu'),\n",
        "\n",
        "    Dense(units=2, activation='relu'),\n",
        "\n",
        "    Dense(units=544, activation='relu'),\n",
        "    Dense(units=1024, activation='relu'),\n",
        "    Dense(units=160, activation='relu'),\n",
        "    Dense(units=352, activation='relu'),\n",
        "    Dense(units=608, activation='relu'),\n",
        "\n",
        "    Dense(units=608, activation='relu'),\n",
        "    Dense(units=192, activation='relu'),\n",
        "\n",
        "    Dense(units=1024, activation='relu'),\n",
        "    Dense(units=640, activation='relu'),\n",
        "\n",
        "    Dense(units=7, activation='linear')\n",
        "])"
      ],
      "metadata": {
        "id": "BZKPNzsf67Qa"
      },
      "execution_count": 18,
      "outputs": []
    },
    {
      "cell_type": "code",
      "source": [
        "model.compile(optimizer=tf.keras.optimizers.Adam(learning_rate=0.0001),loss='mse',metrics=[\"accuracy\"])"
      ],
      "metadata": {
        "id": "ZUe6Oy0t8TxR"
      },
      "execution_count": 19,
      "outputs": []
    },
    {
      "cell_type": "code",
      "source": [
        "model.summary()"
      ],
      "metadata": {
        "colab": {
          "base_uri": "https://localhost:8080/"
        },
        "id": "uCiw_cVPqB5L",
        "outputId": "3623b41b-d364-4485-d10b-b8525109bc2a"
      },
      "execution_count": 20,
      "outputs": [
        {
          "output_type": "stream",
          "name": "stdout",
          "text": [
            "Model: \"sequential_1\"\n",
            "_________________________________________________________________\n",
            " Layer (type)                Output Shape              Param #   \n",
            "=================================================================\n",
            " dense_20 (Dense)            (None, 640)               5120      \n",
            "                                                                 \n",
            " dense_21 (Dense)            (None, 1024)              656384    \n",
            "                                                                 \n",
            " dense_22 (Dense)            (None, 192)               196800    \n",
            "                                                                 \n",
            " dense_23 (Dense)            (None, 608)               117344    \n",
            "                                                                 \n",
            " dense_24 (Dense)            (None, 608)               370272    \n",
            "                                                                 \n",
            " dense_25 (Dense)            (None, 352)               214368    \n",
            "                                                                 \n",
            " dense_26 (Dense)            (None, 160)               56480     \n",
            "                                                                 \n",
            " dense_27 (Dense)            (None, 1024)              164864    \n",
            "                                                                 \n",
            " dense_28 (Dense)            (None, 544)               557600    \n",
            "                                                                 \n",
            " dense_29 (Dense)            (None, 2)                 1090      \n",
            "                                                                 \n",
            " dense_30 (Dense)            (None, 544)               1632      \n",
            "                                                                 \n",
            " dense_31 (Dense)            (None, 1024)              558080    \n",
            "                                                                 \n",
            " dense_32 (Dense)            (None, 160)               164000    \n",
            "                                                                 \n",
            " dense_33 (Dense)            (None, 352)               56672     \n",
            "                                                                 \n",
            " dense_34 (Dense)            (None, 608)               214624    \n",
            "                                                                 \n",
            " dense_35 (Dense)            (None, 608)               370272    \n",
            "                                                                 \n",
            " dense_36 (Dense)            (None, 192)               116928    \n",
            "                                                                 \n",
            " dense_37 (Dense)            (None, 1024)              197632    \n",
            "                                                                 \n",
            " dense_38 (Dense)            (None, 640)               656000    \n",
            "                                                                 \n",
            " dense_39 (Dense)            (None, 7)                 4487      \n",
            "                                                                 \n",
            "=================================================================\n",
            "Total params: 4680649 (17.86 MB)\n",
            "Trainable params: 4680649 (17.86 MB)\n",
            "Non-trainable params: 0 (0.00 Byte)\n",
            "_________________________________________________________________\n"
          ]
        }
      ]
    },
    {
      "cell_type": "code",
      "source": [
        "dl = model.fit(data, data, epochs=50, batch_size=68,validation_split=0.2)"
      ],
      "metadata": {
        "colab": {
          "base_uri": "https://localhost:8080/"
        },
        "id": "NyIVxlNM8ULh",
        "outputId": "ad3a6776-f66b-4a66-f593-8c1bee587316"
      },
      "execution_count": 21,
      "outputs": [
        {
          "output_type": "stream",
          "name": "stdout",
          "text": [
            "Epoch 1/50\n",
            "644/644 [==============================] - 14s 9ms/step - loss: 261909296.0000 - accuracy: 0.6444 - val_loss: 1189789568.0000 - val_accuracy: 0.6181\n",
            "Epoch 2/50\n",
            "644/644 [==============================] - 6s 9ms/step - loss: 76461048.0000 - accuracy: 0.6331 - val_loss: 13040979.0000 - val_accuracy: 0.6141\n",
            "Epoch 3/50\n",
            "644/644 [==============================] - 6s 10ms/step - loss: 80745840.0000 - accuracy: 0.7450 - val_loss: 38076920.0000 - val_accuracy: 0.8949\n",
            "Epoch 4/50\n",
            "644/644 [==============================] - 5s 8ms/step - loss: 29725166.0000 - accuracy: 0.7844 - val_loss: 104621792.0000 - val_accuracy: 0.8490\n",
            "Epoch 5/50\n",
            "644/644 [==============================] - 6s 10ms/step - loss: 573345216.0000 - accuracy: 0.8372 - val_loss: 419746048.0000 - val_accuracy: 0.9160\n",
            "Epoch 6/50\n",
            "644/644 [==============================] - 5s 8ms/step - loss: 15860590.0000 - accuracy: 0.9083 - val_loss: 11758192.0000 - val_accuracy: 0.9340\n",
            "Epoch 7/50\n",
            "644/644 [==============================] - 6s 9ms/step - loss: 14049656.0000 - accuracy: 0.9173 - val_loss: 11182164.0000 - val_accuracy: 0.8943\n",
            "Epoch 8/50\n",
            "644/644 [==============================] - 6s 9ms/step - loss: 8947857.0000 - accuracy: 0.8719 - val_loss: 11377856.0000 - val_accuracy: 0.9208\n",
            "Epoch 9/50\n",
            "644/644 [==============================] - 5s 8ms/step - loss: 16650025.0000 - accuracy: 0.9001 - val_loss: 11354475.0000 - val_accuracy: 0.9010\n",
            "Epoch 10/50\n",
            "644/644 [==============================] - 7s 10ms/step - loss: 18922124.0000 - accuracy: 0.8666 - val_loss: 13317618.0000 - val_accuracy: 0.8586\n",
            "Epoch 11/50\n",
            "644/644 [==============================] - 6s 9ms/step - loss: 68801264.0000 - accuracy: 0.8275 - val_loss: 11092154.0000 - val_accuracy: 0.8699\n",
            "Epoch 12/50\n",
            "644/644 [==============================] - 6s 9ms/step - loss: 10641798.0000 - accuracy: 0.8652 - val_loss: 19011190.0000 - val_accuracy: 0.8616\n",
            "Epoch 13/50\n",
            "644/644 [==============================] - 6s 9ms/step - loss: 101621488.0000 - accuracy: 0.8394 - val_loss: 11104385.0000 - val_accuracy: 0.7055\n",
            "Epoch 14/50\n",
            "644/644 [==============================] - 5s 8ms/step - loss: 10765050.0000 - accuracy: 0.7711 - val_loss: 12414820.0000 - val_accuracy: 0.7542\n",
            "Epoch 15/50\n",
            "644/644 [==============================] - 7s 10ms/step - loss: 29957358.0000 - accuracy: 0.7307 - val_loss: 245580560.0000 - val_accuracy: 0.7087\n",
            "Epoch 16/50\n",
            "644/644 [==============================] - 5s 8ms/step - loss: 144304800.0000 - accuracy: 0.7728 - val_loss: 12280459.0000 - val_accuracy: 0.7147\n",
            "Epoch 17/50\n",
            "644/644 [==============================] - 6s 9ms/step - loss: 84460560.0000 - accuracy: 0.7055 - val_loss: 11015872.0000 - val_accuracy: 0.7031\n",
            "Epoch 18/50\n",
            "644/644 [==============================] - 6s 9ms/step - loss: 8714354.0000 - accuracy: 0.7175 - val_loss: 11193216.0000 - val_accuracy: 0.6575\n",
            "Epoch 19/50\n",
            "644/644 [==============================] - 5s 8ms/step - loss: 151023360.0000 - accuracy: 0.6960 - val_loss: 11832082.0000 - val_accuracy: 0.6241\n",
            "Epoch 20/50\n",
            "644/644 [==============================] - 6s 10ms/step - loss: 8808416.0000 - accuracy: 0.8130 - val_loss: 10864579.0000 - val_accuracy: 0.8005\n",
            "Epoch 21/50\n",
            "644/644 [==============================] - 5s 8ms/step - loss: 179082832.0000 - accuracy: 0.7731 - val_loss: 2107072512.0000 - val_accuracy: 0.8595\n",
            "Epoch 22/50\n",
            "644/644 [==============================] - 6s 9ms/step - loss: 33264524.0000 - accuracy: 0.7934 - val_loss: 17994402.0000 - val_accuracy: 0.6408\n",
            "Epoch 23/50\n",
            "644/644 [==============================] - 6s 9ms/step - loss: 189331200.0000 - accuracy: 0.7027 - val_loss: 63326172.0000 - val_accuracy: 0.6991\n",
            "Epoch 24/50\n",
            "644/644 [==============================] - 5s 8ms/step - loss: 20676560.0000 - accuracy: 0.7438 - val_loss: 10866415.0000 - val_accuracy: 0.7304\n",
            "Epoch 25/50\n",
            "644/644 [==============================] - 7s 11ms/step - loss: 9950792.0000 - accuracy: 0.6456 - val_loss: 11734172.0000 - val_accuracy: 0.6667\n",
            "Epoch 26/50\n",
            "644/644 [==============================] - 6s 9ms/step - loss: 24079724.0000 - accuracy: 0.8026 - val_loss: 11499126.0000 - val_accuracy: 0.8455\n",
            "Epoch 27/50\n",
            "644/644 [==============================] - 7s 10ms/step - loss: 97149976.0000 - accuracy: 0.8637 - val_loss: 5402127.5000 - val_accuracy: 0.8687\n",
            "Epoch 28/50\n",
            "644/644 [==============================] - 6s 9ms/step - loss: 4839330.0000 - accuracy: 0.8580 - val_loss: 11042676.0000 - val_accuracy: 0.8615\n",
            "Epoch 29/50\n",
            "644/644 [==============================] - 5s 8ms/step - loss: 57180468.0000 - accuracy: 0.7832 - val_loss: 95791576.0000 - val_accuracy: 0.8528\n",
            "Epoch 30/50\n",
            "644/644 [==============================] - 6s 10ms/step - loss: 5956191.0000 - accuracy: 0.8652 - val_loss: 5514788.5000 - val_accuracy: 0.8845\n",
            "Epoch 31/50\n",
            "644/644 [==============================] - 5s 8ms/step - loss: 9478417.0000 - accuracy: 0.8855 - val_loss: 57183212.0000 - val_accuracy: 0.8894\n",
            "Epoch 32/50\n",
            "644/644 [==============================] - 7s 10ms/step - loss: 287741408.0000 - accuracy: 0.7679 - val_loss: 11586309.0000 - val_accuracy: 0.8317\n",
            "Epoch 33/50\n",
            "644/644 [==============================] - 6s 9ms/step - loss: 46147184.0000 - accuracy: 0.8560 - val_loss: 8406250.0000 - val_accuracy: 0.8355\n",
            "Epoch 34/50\n",
            "644/644 [==============================] - 6s 9ms/step - loss: 4799549.5000 - accuracy: 0.8560 - val_loss: 5652087.0000 - val_accuracy: 0.8665\n",
            "Epoch 35/50\n",
            "644/644 [==============================] - 6s 10ms/step - loss: 6535017.0000 - accuracy: 0.8740 - val_loss: 5653018.0000 - val_accuracy: 0.8822\n",
            "Epoch 36/50\n",
            "644/644 [==============================] - 5s 8ms/step - loss: 22688174.0000 - accuracy: 0.8326 - val_loss: 99666472.0000 - val_accuracy: 0.8592\n",
            "Epoch 37/50\n",
            "644/644 [==============================] - 7s 10ms/step - loss: 8149601.5000 - accuracy: 0.8963 - val_loss: 5499336.5000 - val_accuracy: 0.8882\n",
            "Epoch 38/50\n",
            "644/644 [==============================] - 5s 8ms/step - loss: 40091556.0000 - accuracy: 0.8934 - val_loss: 6327259.0000 - val_accuracy: 0.8898\n",
            "Epoch 39/50\n",
            "644/644 [==============================] - 6s 9ms/step - loss: 3274429.7500 - accuracy: 0.8820 - val_loss: 5349409.5000 - val_accuracy: 0.8815\n",
            "Epoch 40/50\n",
            "644/644 [==============================] - 6s 10ms/step - loss: 74255072.0000 - accuracy: 0.8771 - val_loss: 5316598.5000 - val_accuracy: 0.8742\n",
            "Epoch 41/50\n",
            "644/644 [==============================] - 6s 9ms/step - loss: 3176861.5000 - accuracy: 0.8800 - val_loss: 5574640.5000 - val_accuracy: 0.8856\n",
            "Epoch 42/50\n",
            "644/644 [==============================] - 6s 10ms/step - loss: 3291397.0000 - accuracy: 0.8872 - val_loss: 5488053.5000 - val_accuracy: 0.8859\n",
            "Epoch 43/50\n",
            "644/644 [==============================] - 5s 8ms/step - loss: 99889736.0000 - accuracy: 0.8860 - val_loss: 5421443.0000 - val_accuracy: 0.8949\n",
            "Epoch 44/50\n",
            "644/644 [==============================] - 6s 9ms/step - loss: 17301926.0000 - accuracy: 0.9047 - val_loss: 7277443.5000 - val_accuracy: 0.9054\n",
            "Epoch 45/50\n",
            "644/644 [==============================] - 6s 9ms/step - loss: 3031023.2500 - accuracy: 0.9070 - val_loss: 5299322.5000 - val_accuracy: 0.9120\n",
            "Epoch 46/50\n",
            "644/644 [==============================] - 5s 9ms/step - loss: 4458676.5000 - accuracy: 0.9029 - val_loss: 5558108.5000 - val_accuracy: 0.9064\n",
            "Epoch 47/50\n",
            "644/644 [==============================] - 7s 11ms/step - loss: 24777510.0000 - accuracy: 0.9137 - val_loss: 5844973.0000 - val_accuracy: 0.9175\n",
            "Epoch 48/50\n",
            "644/644 [==============================] - 5s 8ms/step - loss: 92961464.0000 - accuracy: 0.9090 - val_loss: 5316595.5000 - val_accuracy: 0.9058\n",
            "Epoch 49/50\n",
            "644/644 [==============================] - 6s 10ms/step - loss: 3387559.5000 - accuracy: 0.9052 - val_loss: 5284069.0000 - val_accuracy: 0.9151\n",
            "Epoch 50/50\n",
            "644/644 [==============================] - 6s 9ms/step - loss: 3088530.2500 - accuracy: 0.9196 - val_loss: 5532293.5000 - val_accuracy: 0.9231\n"
          ]
        }
      ]
    },
    {
      "cell_type": "code",
      "source": [
        "print(f\"max accuracy {max(dl.history['accuracy'])} : index {dl.history['accuracy'].index(max(dl.history['accuracy']))}\")\n",
        "print(f\"max val accuracy {max(dl.history['val_accuracy'])} : index {dl.history['val_accuracy'].index(max(dl.history['val_accuracy']))}\")\n",
        "print(f\"min loss {min(dl.history['loss'])} : index {dl.history['loss'].index(min(dl.history['loss']))}\")\n",
        "print(f\"min val loss {min(dl.history['val_loss'])} : index {dl.history['val_loss'].index(min(dl.history['val_loss']))}\")"
      ],
      "metadata": {
        "colab": {
          "base_uri": "https://localhost:8080/"
        },
        "id": "YIOSUerfrRKY",
        "outputId": "9a8838bf-a4b9-4cde-8edd-d631fa209b31"
      },
      "execution_count": 22,
      "outputs": [
        {
          "output_type": "stream",
          "name": "stdout",
          "text": [
            "max accuracy 0.9195953607559204 : index 49\n",
            "max val accuracy 0.9339605569839478 : index 5\n",
            "min loss 3031023.25 : index 44\n",
            "min val loss 5284069.0 : index 48\n"
          ]
        }
      ]
    },
    {
      "cell_type": "code",
      "source": [
        "from matplotlib import pyplot as plt\n"
      ],
      "metadata": {
        "id": "8JlAgeRzrTD1"
      },
      "execution_count": 23,
      "outputs": []
    },
    {
      "cell_type": "code",
      "source": [
        "plt.plot(dl.history['accuracy'])\n",
        "plt.plot(dl.history['val_accuracy'])\n",
        "plt.title('Model Accuracy')\n",
        "plt.ylabel('Accuracy')\n",
        "plt.xlabel('Epoch')\n",
        "plt.legend(['Train', 'Val'], loc='upper left')\n",
        "plt.show()"
      ],
      "metadata": {
        "colab": {
          "base_uri": "https://localhost:8080/",
          "height": 472
        },
        "id": "L9eWrAu8rUP8",
        "outputId": "6426d641-1b38-4554-b342-2fd7a29616f3"
      },
      "execution_count": 24,
      "outputs": [
        {
          "output_type": "display_data",
          "data": {
            "text/plain": [
              "<Figure size 640x480 with 1 Axes>"
            ],
            "image/png": "[encoded data removed]"
          },
          "metadata": {}
        }
      ]
    },
    {
      "cell_type": "code",
      "source": [
        "plt.plot(dl.history['loss'])\n",
        "plt.plot(dl.history['val_loss'])\n",
        "plt.title('Model Loss')\n",
        "plt.ylabel('Loss')\n",
        "plt.xlabel('Epoch')\n",
        "plt.legend(['Train', 'Val'], loc='upper left')\n",
        "plt.show()"
      ],
      "metadata": {
        "colab": {
          "base_uri": "https://localhost:8080/",
          "height": 472
        },
        "id": "nTPcCNNsrVVw",
        "outputId": "7a4a39a0-1ae9-4fd0-8ace-65e6752a92a6"
      },
      "execution_count": 25,
      "outputs": [
        {
          "output_type": "display_data",
          "data": {
            "text/plain": [
              "<Figure size 640x480 with 1 Axes>"
            ],
            "image/png": "[encoded data removed]"
          },
          "metadata": {}
        }
      ]
    },
    {
      "cell_type": "code",
      "source": [
        "data = pd.read_csv('/content/drive/Shareddrives/FYP IDS SDN/FYP ML/InSDN_DatasetCSV/new_dataset.csv', sep=\",\")"
      ],
      "metadata": {
        "id": "Shd-NuYxy7G1"
      },
      "execution_count": 139,
      "outputs": []
    },
    {
      "cell_type": "code",
      "source": [
        "data = data.drop(['Flow ID','Src IP','Src Port','Dst IP', 'Dst Port', 'Timestamp'], axis=1)"
      ],
      "metadata": {
        "id": "NC2BiyEOzB7l"
      },
      "execution_count": 140,
      "outputs": []
    },
    {
      "cell_type": "code",
      "source": [
        "selected_features = ['Protocol', 'Tot Fwd Pkts', 'Flow Pkts/s', 'Fwd Header Len', 'Bwd Header Len', 'Bwd Pkts/s', 'Pkt Len Max', 'Init Bwd Win Byts','Label']\n",
        "data = data.drop(columns=data.columns.difference(selected_features))"
      ],
      "metadata": {
        "id": "CR-YLWLAzBJf"
      },
      "execution_count": 141,
      "outputs": []
    },
    {
      "cell_type": "code",
      "source": [
        "data['Label'][data['Label'] != 'Normal'] = 1"
      ],
      "metadata": {
        "id": "2QUWRShJzWCy",
        "colab": {
          "base_uri": "https://localhost:8080/"
        },
        "outputId": "f9c43ff7-2341-4dc6-aefd-018428fa989c"
      },
      "execution_count": 142,
      "outputs": [
        {
          "output_type": "stream",
          "name": "stderr",
          "text": [
            "<ipython-input-142-e55ce4b1c867>:1: SettingWithCopyWarning: \n",
            "A value is trying to be set on a copy of a slice from a DataFrame\n",
            "\n",
            "See the caveats in the documentation: https://pandas.pydata.org/pandas-docs/stable/user_guide/indexing.html#returning-a-view-versus-a-copy\n",
            "  data['Label'][data['Label'] != 'Normal'] = 1\n"
          ]
        }
      ]
    },
    {
      "cell_type": "code",
      "source": [
        "data['Label'][data['Label']=='Normal'] = 0"
      ],
      "metadata": {
        "id": "XQTNL-tIz7qS",
        "colab": {
          "base_uri": "https://localhost:8080/"
        },
        "outputId": "3ced7c51-b134-424c-8493-02f416d284c9"
      },
      "execution_count": 143,
      "outputs": [
        {
          "output_type": "stream",
          "name": "stderr",
          "text": [
            "<ipython-input-143-0d0b528d951f>:1: SettingWithCopyWarning: \n",
            "A value is trying to be set on a copy of a slice from a DataFrame\n",
            "\n",
            "See the caveats in the documentation: https://pandas.pydata.org/pandas-docs/stable/user_guide/indexing.html#returning-a-view-versus-a-copy\n",
            "  data['Label'][data['Label']=='Normal'] = 0\n"
          ]
        }
      ]
    },
    {
      "cell_type": "code",
      "source": [
        "y_data = data[\"Label\"]\n",
        "data = data.drop([\"Label\"],axis=1)"
      ],
      "metadata": {
        "id": "agZMupd00CKS"
      },
      "execution_count": 144,
      "outputs": []
    },
    {
      "cell_type": "code",
      "source": [
        "mean = np.mean(data, axis=0)\n",
        "std_dev = np.std(data, axis=0)\n",
        "\n",
        "norm_data = (data - mean) / std_dev"
      ],
      "metadata": {
        "id": "vTLuoWEf1yAV"
      },
      "execution_count": 99,
      "outputs": []
    },
    {
      "cell_type": "code",
      "source": [
        "y_data.unique()"
      ],
      "metadata": {
        "colab": {
          "base_uri": "https://localhost:8080/"
        },
        "id": "ZZK9FfWT0YJN",
        "outputId": "8399499f-54d9-46ee-9439-7d076ff6658b"
      },
      "execution_count": 145,
      "outputs": [
        {
          "output_type": "execute_result",
          "data": {
            "text/plain": [
              "array([1, 0], dtype=object)"
            ]
          },
          "metadata": {},
          "execution_count": 145
        }
      ]
    },
    {
      "cell_type": "code",
      "source": [
        "data = np.array(data)"
      ],
      "metadata": {
        "id": "m626uXN25aOZ"
      },
      "execution_count": 146,
      "outputs": []
    },
    {
      "cell_type": "code",
      "source": [
        "data[0]"
      ],
      "metadata": {
        "colab": {
          "base_uri": "https://localhost:8080/"
        },
        "id": "ixr72PEhD1jv",
        "outputId": "61b2380a-6961-430d-f90e-3a57516dcd12"
      },
      "execution_count": 147,
      "outputs": [
        {
          "output_type": "execute_result",
          "data": {
            "text/plain": [
              "array([   6.      ,    2.      , 1730.53152 ,   64.      ,  176.      ,\n",
              "       1236.093943, 1803.      ])"
            ]
          },
          "metadata": {},
          "execution_count": 147
        }
      ]
    },
    {
      "cell_type": "code",
      "source": [
        "reconstructions = model.predict(data)"
      ],
      "metadata": {
        "colab": {
          "base_uri": "https://localhost:8080/"
        },
        "id": "MLSPfeOz9J5K",
        "outputId": "3cbbe968-dc72-427a-980a-6e0ceb1340b5"
      },
      "execution_count": 150,
      "outputs": [
        {
          "output_type": "stream",
          "name": "stdout",
          "text": [
            "10747/10747 [==============================] - 26s 2ms/step\n"
          ]
        }
      ]
    },
    {
      "cell_type": "code",
      "source": [
        "mse = np.mean(np.square(data - reconstructions*3), axis=1)"
      ],
      "metadata": {
        "id": "wrgambDnE5QP"
      },
      "execution_count": 152,
      "outputs": []
    },
    {
      "cell_type": "code",
      "source": [
        "threshold = np.percentile(mse/1000, 95)\n",
        "\n",
        "is_anomaly = mse > threshold"
      ],
      "metadata": {
        "id": "p_6um1rP1bRU"
      },
      "execution_count": 154,
      "outputs": []
    },
    {
      "cell_type": "code",
      "source": [
        "reconstructions"
      ],
      "metadata": {
        "colab": {
          "base_uri": "https://localhost:8080/"
        },
        "id": "W8-NZoZk1khb",
        "outputId": "875d8591-ea94-4e43-9936-ce15a4f0ff74"
      },
      "execution_count": 151,
      "outputs": [
        {
          "output_type": "execute_result",
          "data": {
            "text/plain": [
              "array([[7.6615076e+00, 5.5885391e+00, 9.0324806e+01, ..., 4.4003220e+02,\n",
              "        4.7903778e+01, 1.1867208e+03],\n",
              "       [3.7683620e+00, 7.8033641e-02, 7.1017163e+03, ..., 6.3180089e+00,\n",
              "        3.5541479e+03, 3.7532933e+00],\n",
              "       [3.3956623e+00, 6.7064667e+00, 4.7100571e+01, ..., 5.5256128e+02,\n",
              "        2.7508438e+01, 1.4879493e+03],\n",
              "       ...,\n",
              "       [3.4616871e+00, 1.5682471e+00, 8.4813515e+01, ..., 2.0367378e+01,\n",
              "        4.3241539e+01, 6.8425430e+01],\n",
              "       [3.5701213e+00, 1.6689770e+00, 8.7678894e+01, ..., 2.2264189e+01,\n",
              "        4.4610920e+01, 7.3527306e+01],\n",
              "       [2.8446870e+00, 1.6362841e+00, 8.8037949e+01, ..., 1.4212748e+01,\n",
              "        4.4697956e+01, 5.1002895e+01]], dtype=float32)"
            ]
          },
          "metadata": {},
          "execution_count": 151
        }
      ]
    },
    {
      "cell_type": "code",
      "source": [
        "mse"
      ],
      "metadata": {
        "colab": {
          "base_uri": "https://localhost:8080/"
        },
        "id": "DxsmQAdm1ol0",
        "outputId": "26c9e0da-267d-46e7-8a85-8405f3a30e2b"
      },
      "execution_count": 153,
      "outputs": [
        {
          "output_type": "execute_result",
          "data": {
            "text/plain": [
              "array([1.16772799e+06, 3.63471895e+07, 1.91010937e+06, ...,\n",
              "       2.06039829e+04, 1.66416155e+04, 1.98693040e+04])"
            ]
          },
          "metadata": {},
          "execution_count": 153
        }
      ]
    },
    {
      "cell_type": "code",
      "source": [
        "is_anomaly[is_anomaly != 'False'] = 0"
      ],
      "metadata": {
        "colab": {
          "base_uri": "https://localhost:8080/"
        },
        "id": "kZR908dtMlTR",
        "outputId": "cd5be746-595c-40fa-a96b-eec5ec81e4f7"
      },
      "execution_count": 161,
      "outputs": [
        {
          "output_type": "stream",
          "name": "stderr",
          "text": [
            "<ipython-input-161-2f45274dd573>:1: FutureWarning: elementwise comparison failed; returning scalar instead, but in the future will perform elementwise comparison\n",
            "  is_anomaly[is_anomaly != 'False'] = 0\n"
          ]
        }
      ]
    },
    {
      "cell_type": "code",
      "source": [
        "is_anomaly[is_anomaly == 'False'] = 1"
      ],
      "metadata": {
        "colab": {
          "base_uri": "https://localhost:8080/"
        },
        "id": "Nntc6CkDMyF6",
        "outputId": "aeef8818-c014-42a6-d732-f2b63a26c2d8"
      },
      "execution_count": 162,
      "outputs": [
        {
          "output_type": "stream",
          "name": "stderr",
          "text": [
            "<ipython-input-162-41ce8964219f>:1: FutureWarning: elementwise comparison failed; returning scalar instead, but in the future will perform elementwise comparison\n",
            "  is_anomaly[is_anomaly == 'False'] = 1\n"
          ]
        }
      ]
    },
    {
      "cell_type": "code",
      "source": [
        "an = []\n",
        "for i in range(len(is_anomaly)):\n",
        "  if is_anomaly[i]:\n",
        "    an.append(0)\n",
        "  else:\n",
        "    an.append(1)"
      ],
      "metadata": {
        "id": "W8n3wGQCNeW8"
      },
      "execution_count": 183,
      "outputs": []
    },
    {
      "cell_type": "code",
      "source": [
        "an =np.array(an)"
      ],
      "metadata": {
        "id": "p30MvUbeOGYI"
      },
      "execution_count": 184,
      "outputs": []
    },
    {
      "cell_type": "code",
      "source": [
        "y_data = np.array(y_data)"
      ],
      "metadata": {
        "id": "IXicGa81Oc5Q"
      },
      "execution_count": 185,
      "outputs": []
    },
    {
      "cell_type": "code",
      "source": [
        "an"
      ],
      "metadata": {
        "colab": {
          "base_uri": "https://localhost:8080/"
        },
        "id": "nonSep9AOoqS",
        "outputId": "fcaea8f0-2629-4a5a-d59e-cc916039707a"
      },
      "execution_count": 201,
      "outputs": [
        {
          "output_type": "execute_result",
          "data": {
            "text/plain": [
              "array([1, 1, 1, ..., 1, 1, 1])"
            ]
          },
          "metadata": {},
          "execution_count": 201
        }
      ]
    },
    {
      "cell_type": "code",
      "source": [
        "y_data"
      ],
      "metadata": {
        "colab": {
          "base_uri": "https://localhost:8080/"
        },
        "id": "PDoXwh9xO3MW",
        "outputId": "5d96d871-197b-4661-da0f-aa841c345ff2"
      },
      "execution_count": 202,
      "outputs": [
        {
          "output_type": "execute_result",
          "data": {
            "text/plain": [
              "array([1, 1, 1, ..., 1, 1, 1], dtype=object)"
            ]
          },
          "metadata": {},
          "execution_count": 202
        }
      ]
    },
    {
      "cell_type": "code",
      "source": [
        "mse1 = np.mean(np.square(y_data - an))"
      ],
      "metadata": {
        "id": "zd6BrFgDPuna"
      },
      "execution_count": 192,
      "outputs": []
    },
    {
      "cell_type": "code",
      "source": [
        "mse1"
      ],
      "metadata": {
        "colab": {
          "base_uri": "https://localhost:8080/"
        },
        "id": "jtXScwUeP3xp",
        "outputId": "c6459432-a5d5-489a-d882-b194a25b8aa7"
      },
      "execution_count": 194,
      "outputs": [
        {
          "output_type": "execute_result",
          "data": {
            "text/plain": [
              "0.19897117965389996"
            ]
          },
          "metadata": {},
          "execution_count": 194
        }
      ]
    },
    {
      "cell_type": "code",
      "source": [
        "count =0\n",
        "for i in range(len(an)):\n",
        "  if an[i] == y_data[i]:\n",
        "    count = count +1\n",
        "\n",
        "count/len(an)"
      ],
      "metadata": {
        "colab": {
          "base_uri": "https://localhost:8080/"
        },
        "id": "WUNGN4iDQPe4",
        "outputId": "ff9fc6df-a558-445c-e1f9-39aebef650a1"
      },
      "execution_count": 199,
      "outputs": [
        {
          "output_type": "execute_result",
          "data": {
            "text/plain": [
              "0.8010288203461"
            ]
          },
          "metadata": {},
          "execution_count": 199
        }
      ]
    },
    {
      "cell_type": "code",
      "source": [],
      "metadata": {
        "id": "kCqJ6U7zQwUC"
      },
      "execution_count": null,
      "outputs": []
    },
    {
      "cell_type": "code",
      "source": [
        "accuracy_score(y_data, an)"
      ],
      "metadata": {
        "colab": {
          "base_uri": "https://localhost:8080/",
          "height": 321
        },
        "id": "xniQyel-PD22",
        "outputId": "d8bfc6cb-6afa-4466-89d0-c794305d4c5e"
      },
      "execution_count": 188,
      "outputs": [
        {
          "output_type": "error",
          "ename": "ValueError",
          "evalue": "ignored",
          "traceback": [
            "\u001b[0;31m---------------------------------------------------------------------------\u001b[0m",
            "\u001b[0;31mValueError\u001b[0m                                Traceback (most recent call last)",
            "\u001b[0;32m<ipython-input-188-eb50735b6e3f>\u001b[0m in \u001b[0;36m<cell line: 1>\u001b[0;34m()\u001b[0m\n\u001b[0;32m----> 1\u001b[0;31m \u001b[0maccuracy_score\u001b[0m\u001b[0;34m(\u001b[0m\u001b[0my_data\u001b[0m\u001b[0;34m,\u001b[0m \u001b[0man\u001b[0m\u001b[0;34m)\u001b[0m\u001b[0;34m\u001b[0m\u001b[0;34m\u001b[0m\u001b[0m\n\u001b[0m",
            "\u001b[0;32m/usr/local/lib/python3.10/dist-packages/sklearn/utils/_param_validation.py\u001b[0m in \u001b[0;36mwrapper\u001b[0;34m(*args, **kwargs)\u001b[0m\n\u001b[1;32m    190\u001b[0m \u001b[0;34m\u001b[0m\u001b[0m\n\u001b[1;32m    191\u001b[0m             \u001b[0;32mtry\u001b[0m\u001b[0;34m:\u001b[0m\u001b[0;34m\u001b[0m\u001b[0;34m\u001b[0m\u001b[0m\n\u001b[0;32m--> 192\u001b[0;31m                 \u001b[0;32mreturn\u001b[0m \u001b[0mfunc\u001b[0m\u001b[0;34m(\u001b[0m\u001b[0;34m*\u001b[0m\u001b[0margs\u001b[0m\u001b[0;34m,\u001b[0m \u001b[0;34m**\u001b[0m\u001b[0mkwargs\u001b[0m\u001b[0;34m)\u001b[0m\u001b[0;34m\u001b[0m\u001b[0;34m\u001b[0m\u001b[0m\n\u001b[0m\u001b[1;32m    193\u001b[0m             \u001b[0;32mexcept\u001b[0m \u001b[0mInvalidParameterError\u001b[0m \u001b[0;32mas\u001b[0m \u001b[0me\u001b[0m\u001b[0;34m:\u001b[0m\u001b[0;34m\u001b[0m\u001b[0;34m\u001b[0m\u001b[0m\n\u001b[1;32m    194\u001b[0m                 \u001b[0;31m# When the function is just a wrapper around an estimator, we allow\u001b[0m\u001b[0;34m\u001b[0m\u001b[0;34m\u001b[0m\u001b[0m\n",
            "\u001b[0;32m/usr/local/lib/python3.10/dist-packages/sklearn/metrics/_classification.py\u001b[0m in \u001b[0;36maccuracy_score\u001b[0;34m(y_true, y_pred, normalize, sample_weight)\u001b[0m\n\u001b[1;32m    219\u001b[0m \u001b[0;34m\u001b[0m\u001b[0m\n\u001b[1;32m    220\u001b[0m     \u001b[0;31m# Compute accuracy for each possible representation\u001b[0m\u001b[0;34m\u001b[0m\u001b[0;34m\u001b[0m\u001b[0m\n\u001b[0;32m--> 221\u001b[0;31m     \u001b[0my_type\u001b[0m\u001b[0;34m,\u001b[0m \u001b[0my_true\u001b[0m\u001b[0;34m,\u001b[0m \u001b[0my_pred\u001b[0m \u001b[0;34m=\u001b[0m \u001b[0m_check_targets\u001b[0m\u001b[0;34m(\u001b[0m\u001b[0my_true\u001b[0m\u001b[0;34m,\u001b[0m \u001b[0my_pred\u001b[0m\u001b[0;34m)\u001b[0m\u001b[0;34m\u001b[0m\u001b[0;34m\u001b[0m\u001b[0m\n\u001b[0m\u001b[1;32m    222\u001b[0m     \u001b[0mcheck_consistent_length\u001b[0m\u001b[0;34m(\u001b[0m\u001b[0my_true\u001b[0m\u001b[0;34m,\u001b[0m \u001b[0my_pred\u001b[0m\u001b[0;34m,\u001b[0m \u001b[0msample_weight\u001b[0m\u001b[0;34m)\u001b[0m\u001b[0;34m\u001b[0m\u001b[0;34m\u001b[0m\u001b[0m\n\u001b[1;32m    223\u001b[0m     \u001b[0;32mif\u001b[0m \u001b[0my_type\u001b[0m\u001b[0;34m.\u001b[0m\u001b[0mstartswith\u001b[0m\u001b[0;34m(\u001b[0m\u001b[0;34m\"multilabel\"\u001b[0m\u001b[0;34m)\u001b[0m\u001b[0;34m:\u001b[0m\u001b[0;34m\u001b[0m\u001b[0;34m\u001b[0m\u001b[0m\n",
            "\u001b[0;32m/usr/local/lib/python3.10/dist-packages/sklearn/metrics/_classification.py\u001b[0m in \u001b[0;36m_check_targets\u001b[0;34m(y_true, y_pred)\u001b[0m\n\u001b[1;32m     93\u001b[0m \u001b[0;34m\u001b[0m\u001b[0m\n\u001b[1;32m     94\u001b[0m     \u001b[0;32mif\u001b[0m \u001b[0mlen\u001b[0m\u001b[0;34m(\u001b[0m\u001b[0my_type\u001b[0m\u001b[0;34m)\u001b[0m \u001b[0;34m>\u001b[0m \u001b[0;36m1\u001b[0m\u001b[0;34m:\u001b[0m\u001b[0;34m\u001b[0m\u001b[0;34m\u001b[0m\u001b[0m\n\u001b[0;32m---> 95\u001b[0;31m         raise ValueError(\n\u001b[0m\u001b[1;32m     96\u001b[0m             \"Classification metrics can't handle a mix of {0} and {1} targets\".format(\n\u001b[1;32m     97\u001b[0m                 \u001b[0mtype_true\u001b[0m\u001b[0;34m,\u001b[0m \u001b[0mtype_pred\u001b[0m\u001b[0;34m\u001b[0m\u001b[0;34m\u001b[0m\u001b[0m\n",
            "\u001b[0;31mValueError\u001b[0m: Classification metrics can't handle a mix of unknown and binary targets"
          ]
        }
      ]
    },
    {
      "cell_type": "code",
      "source": [
        "print(classification_report(y_data, an))"
      ],
      "metadata": {
        "colab": {
          "base_uri": "https://localhost:8080/",
          "height": 321
        },
        "id": "k0Iuh4YRM5g6",
        "outputId": "504945c0-aa65-417e-9784-99f7f9821a96"
      },
      "execution_count": 200,
      "outputs": [
        {
          "output_type": "error",
          "ename": "ValueError",
          "evalue": "ignored",
          "traceback": [
            "\u001b[0;31m---------------------------------------------------------------------------\u001b[0m",
            "\u001b[0;31mValueError\u001b[0m                                Traceback (most recent call last)",
            "\u001b[0;32m<ipython-input-200-eb8716da3836>\u001b[0m in \u001b[0;36m<cell line: 1>\u001b[0;34m()\u001b[0m\n\u001b[0;32m----> 1\u001b[0;31m \u001b[0mprint\u001b[0m\u001b[0;34m(\u001b[0m\u001b[0mclassification_report\u001b[0m\u001b[0;34m(\u001b[0m\u001b[0my_data\u001b[0m\u001b[0;34m,\u001b[0m \u001b[0man\u001b[0m\u001b[0;34m)\u001b[0m\u001b[0;34m)\u001b[0m\u001b[0;34m\u001b[0m\u001b[0;34m\u001b[0m\u001b[0m\n\u001b[0m",
            "\u001b[0;32m/usr/local/lib/python3.10/dist-packages/sklearn/metrics/_classification.py\u001b[0m in \u001b[0;36mclassification_report\u001b[0;34m(y_true, y_pred, labels, target_names, sample_weight, digits, output_dict, zero_division)\u001b[0m\n\u001b[1;32m   2308\u001b[0m     \"\"\"\n\u001b[1;32m   2309\u001b[0m \u001b[0;34m\u001b[0m\u001b[0m\n\u001b[0;32m-> 2310\u001b[0;31m     \u001b[0my_type\u001b[0m\u001b[0;34m,\u001b[0m \u001b[0my_true\u001b[0m\u001b[0;34m,\u001b[0m \u001b[0my_pred\u001b[0m \u001b[0;34m=\u001b[0m \u001b[0m_check_targets\u001b[0m\u001b[0;34m(\u001b[0m\u001b[0my_true\u001b[0m\u001b[0;34m,\u001b[0m \u001b[0my_pred\u001b[0m\u001b[0;34m)\u001b[0m\u001b[0;34m\u001b[0m\u001b[0;34m\u001b[0m\u001b[0m\n\u001b[0m\u001b[1;32m   2311\u001b[0m \u001b[0;34m\u001b[0m\u001b[0m\n\u001b[1;32m   2312\u001b[0m     \u001b[0;32mif\u001b[0m \u001b[0mlabels\u001b[0m \u001b[0;32mis\u001b[0m \u001b[0;32mNone\u001b[0m\u001b[0;34m:\u001b[0m\u001b[0;34m\u001b[0m\u001b[0;34m\u001b[0m\u001b[0m\n",
            "\u001b[0;32m/usr/local/lib/python3.10/dist-packages/sklearn/metrics/_classification.py\u001b[0m in \u001b[0;36m_check_targets\u001b[0;34m(y_true, y_pred)\u001b[0m\n\u001b[1;32m     93\u001b[0m \u001b[0;34m\u001b[0m\u001b[0m\n\u001b[1;32m     94\u001b[0m     \u001b[0;32mif\u001b[0m \u001b[0mlen\u001b[0m\u001b[0;34m(\u001b[0m\u001b[0my_type\u001b[0m\u001b[0;34m)\u001b[0m \u001b[0;34m>\u001b[0m \u001b[0;36m1\u001b[0m\u001b[0;34m:\u001b[0m\u001b[0;34m\u001b[0m\u001b[0;34m\u001b[0m\u001b[0m\n\u001b[0;32m---> 95\u001b[0;31m         raise ValueError(\n\u001b[0m\u001b[1;32m     96\u001b[0m             \"Classification metrics can't handle a mix of {0} and {1} targets\".format(\n\u001b[1;32m     97\u001b[0m                 \u001b[0mtype_true\u001b[0m\u001b[0;34m,\u001b[0m \u001b[0mtype_pred\u001b[0m\u001b[0;34m\u001b[0m\u001b[0;34m\u001b[0m\u001b[0m\n",
            "\u001b[0;31mValueError\u001b[0m: Classification metrics can't handle a mix of unknown and binary targets"
          ]
        }
      ]
    },
    {
      "cell_type": "code",
      "source": [
        "plt.plot(is_anomaly)"
      ],
      "metadata": {
        "id": "T4a6x5NOxB5J"
      },
      "execution_count": null,
      "outputs": []
    },
    {
      "cell_type": "code",
      "source": [
        "plt.scatter(data[:54739],data[:54739],c=is_anomaly, cmap='viridis')\n",
        "plt.title(\"Autoencoder-Based Anomaly Detection\")\n",
        "plt.show()"
      ],
      "metadata": {
        "colab": {
          "base_uri": "https://localhost:8080/",
          "height": 860
        },
        "id": "miqILJZEw8pl",
        "outputId": "6a9206cc-6070-475d-f1bc-1d1aa5f65a18"
      },
      "execution_count": 40,
      "outputs": [
        {
          "output_type": "error",
          "ename": "ValueError",
          "evalue": "ignored",
          "traceback": [
            "\u001b[0;31m---------------------------------------------------------------------------\u001b[0m",
            "\u001b[0;31mValueError\u001b[0m                                Traceback (most recent call last)",
            "\u001b[0;32m/usr/local/lib/python3.10/dist-packages/matplotlib/axes/_axes.py\u001b[0m in \u001b[0;36m_parse_scatter_color_args\u001b[0;34m(c, edgecolors, kwargs, xsize, get_next_color_func)\u001b[0m\n\u001b[1;32m   4438\u001b[0m             \u001b[0;32mtry\u001b[0m\u001b[0;34m:\u001b[0m  \u001b[0;31m# Is 'c' acceptable as PathCollection facecolors?\u001b[0m\u001b[0;34m\u001b[0m\u001b[0;34m\u001b[0m\u001b[0m\n\u001b[0;32m-> 4439\u001b[0;31m                 \u001b[0mcolors\u001b[0m \u001b[0;34m=\u001b[0m \u001b[0mmcolors\u001b[0m\u001b[0;34m.\u001b[0m\u001b[0mto_rgba_array\u001b[0m\u001b[0;34m(\u001b[0m\u001b[0mc\u001b[0m\u001b[0;34m)\u001b[0m\u001b[0;34m\u001b[0m\u001b[0;34m\u001b[0m\u001b[0m\n\u001b[0m\u001b[1;32m   4440\u001b[0m             \u001b[0;32mexcept\u001b[0m \u001b[0;34m(\u001b[0m\u001b[0mTypeError\u001b[0m\u001b[0;34m,\u001b[0m \u001b[0mValueError\u001b[0m\u001b[0;34m)\u001b[0m \u001b[0;32mas\u001b[0m \u001b[0merr\u001b[0m\u001b[0;34m:\u001b[0m\u001b[0;34m\u001b[0m\u001b[0;34m\u001b[0m\u001b[0m\n",
            "\u001b[0;32m/usr/local/lib/python3.10/dist-packages/matplotlib/colors.py\u001b[0m in \u001b[0;36mto_rgba_array\u001b[0;34m(c, alpha)\u001b[0m\n\u001b[1;32m    486\u001b[0m     \u001b[0;32melse\u001b[0m\u001b[0;34m:\u001b[0m\u001b[0;34m\u001b[0m\u001b[0;34m\u001b[0m\u001b[0m\n\u001b[0;32m--> 487\u001b[0;31m         \u001b[0mrgba\u001b[0m \u001b[0;34m=\u001b[0m \u001b[0mnp\u001b[0m\u001b[0;34m.\u001b[0m\u001b[0marray\u001b[0m\u001b[0;34m(\u001b[0m\u001b[0;34m[\u001b[0m\u001b[0mto_rgba\u001b[0m\u001b[0;34m(\u001b[0m\u001b[0mcc\u001b[0m\u001b[0;34m)\u001b[0m \u001b[0;32mfor\u001b[0m \u001b[0mcc\u001b[0m \u001b[0;32min\u001b[0m \u001b[0mc\u001b[0m\u001b[0;34m]\u001b[0m\u001b[0;34m)\u001b[0m\u001b[0;34m\u001b[0m\u001b[0;34m\u001b[0m\u001b[0m\n\u001b[0m\u001b[1;32m    488\u001b[0m \u001b[0;34m\u001b[0m\u001b[0m\n",
            "\u001b[0;32m/usr/local/lib/python3.10/dist-packages/matplotlib/colors.py\u001b[0m in \u001b[0;36m<listcomp>\u001b[0;34m(.0)\u001b[0m\n\u001b[1;32m    486\u001b[0m     \u001b[0;32melse\u001b[0m\u001b[0;34m:\u001b[0m\u001b[0;34m\u001b[0m\u001b[0;34m\u001b[0m\u001b[0m\n\u001b[0;32m--> 487\u001b[0;31m         \u001b[0mrgba\u001b[0m \u001b[0;34m=\u001b[0m \u001b[0mnp\u001b[0m\u001b[0;34m.\u001b[0m\u001b[0marray\u001b[0m\u001b[0;34m(\u001b[0m\u001b[0;34m[\u001b[0m\u001b[0mto_rgba\u001b[0m\u001b[0;34m(\u001b[0m\u001b[0mcc\u001b[0m\u001b[0;34m)\u001b[0m \u001b[0;32mfor\u001b[0m \u001b[0mcc\u001b[0m \u001b[0;32min\u001b[0m \u001b[0mc\u001b[0m\u001b[0;34m]\u001b[0m\u001b[0;34m)\u001b[0m\u001b[0;34m\u001b[0m\u001b[0;34m\u001b[0m\u001b[0m\n\u001b[0m\u001b[1;32m    488\u001b[0m \u001b[0;34m\u001b[0m\u001b[0m\n",
            "\u001b[0;32m/usr/local/lib/python3.10/dist-packages/matplotlib/colors.py\u001b[0m in \u001b[0;36mto_rgba\u001b[0;34m(c, alpha)\u001b[0m\n\u001b[1;32m    298\u001b[0m     \u001b[0;32mif\u001b[0m \u001b[0mrgba\u001b[0m \u001b[0;32mis\u001b[0m \u001b[0;32mNone\u001b[0m\u001b[0;34m:\u001b[0m  \u001b[0;31m# Suppress exception chaining of cache lookup failure.\u001b[0m\u001b[0;34m\u001b[0m\u001b[0;34m\u001b[0m\u001b[0m\n\u001b[0;32m--> 299\u001b[0;31m         \u001b[0mrgba\u001b[0m \u001b[0;34m=\u001b[0m \u001b[0m_to_rgba_no_colorcycle\u001b[0m\u001b[0;34m(\u001b[0m\u001b[0mc\u001b[0m\u001b[0;34m,\u001b[0m \u001b[0malpha\u001b[0m\u001b[0;34m)\u001b[0m\u001b[0;34m\u001b[0m\u001b[0;34m\u001b[0m\u001b[0m\n\u001b[0m\u001b[1;32m    300\u001b[0m         \u001b[0;32mtry\u001b[0m\u001b[0;34m:\u001b[0m\u001b[0;34m\u001b[0m\u001b[0;34m\u001b[0m\u001b[0m\n",
            "\u001b[0;32m/usr/local/lib/python3.10/dist-packages/matplotlib/colors.py\u001b[0m in \u001b[0;36m_to_rgba_no_colorcycle\u001b[0;34m(c, alpha)\u001b[0m\n\u001b[1;32m    380\u001b[0m     \u001b[0;32mif\u001b[0m \u001b[0;32mnot\u001b[0m \u001b[0mnp\u001b[0m\u001b[0;34m.\u001b[0m\u001b[0miterable\u001b[0m\u001b[0;34m(\u001b[0m\u001b[0mc\u001b[0m\u001b[0;34m)\u001b[0m\u001b[0;34m:\u001b[0m\u001b[0;34m\u001b[0m\u001b[0;34m\u001b[0m\u001b[0m\n\u001b[0;32m--> 381\u001b[0;31m         \u001b[0;32mraise\u001b[0m \u001b[0mValueError\u001b[0m\u001b[0;34m(\u001b[0m\u001b[0;34mf\"Invalid RGBA argument: {orig_c!r}\"\u001b[0m\u001b[0;34m)\u001b[0m\u001b[0;34m\u001b[0m\u001b[0;34m\u001b[0m\u001b[0m\n\u001b[0m\u001b[1;32m    382\u001b[0m     \u001b[0;32mif\u001b[0m \u001b[0mlen\u001b[0m\u001b[0;34m(\u001b[0m\u001b[0mc\u001b[0m\u001b[0;34m)\u001b[0m \u001b[0;32mnot\u001b[0m \u001b[0;32min\u001b[0m \u001b[0;34m[\u001b[0m\u001b[0;36m3\u001b[0m\u001b[0;34m,\u001b[0m \u001b[0;36m4\u001b[0m\u001b[0;34m]\u001b[0m\u001b[0;34m:\u001b[0m\u001b[0;34m\u001b[0m\u001b[0;34m\u001b[0m\u001b[0m\n",
            "\u001b[0;31mValueError\u001b[0m: Invalid RGBA argument: 0.0",
            "\nThe above exception was the direct cause of the following exception:\n",
            "\u001b[0;31mValueError\u001b[0m                                Traceback (most recent call last)",
            "\u001b[0;32m<ipython-input-40-1c7b22c82fd7>\u001b[0m in \u001b[0;36m<cell line: 1>\u001b[0;34m()\u001b[0m\n\u001b[0;32m----> 1\u001b[0;31m \u001b[0mplt\u001b[0m\u001b[0;34m.\u001b[0m\u001b[0mscatter\u001b[0m\u001b[0;34m(\u001b[0m\u001b[0mdata\u001b[0m\u001b[0;34m[\u001b[0m\u001b[0;34m:\u001b[0m\u001b[0;36m54739\u001b[0m\u001b[0;34m]\u001b[0m\u001b[0;34m,\u001b[0m\u001b[0mdata\u001b[0m\u001b[0;34m[\u001b[0m\u001b[0;34m:\u001b[0m\u001b[0;36m54739\u001b[0m\u001b[0;34m]\u001b[0m\u001b[0;34m,\u001b[0m\u001b[0mc\u001b[0m\u001b[0;34m=\u001b[0m\u001b[0mis_anomaly\u001b[0m\u001b[0;34m,\u001b[0m \u001b[0mcmap\u001b[0m\u001b[0;34m=\u001b[0m\u001b[0;34m'viridis'\u001b[0m\u001b[0;34m)\u001b[0m\u001b[0;34m\u001b[0m\u001b[0;34m\u001b[0m\u001b[0m\n\u001b[0m\u001b[1;32m      2\u001b[0m \u001b[0mplt\u001b[0m\u001b[0;34m.\u001b[0m\u001b[0mtitle\u001b[0m\u001b[0;34m(\u001b[0m\u001b[0;34m\"Autoencoder-Based Anomaly Detection\"\u001b[0m\u001b[0;34m)\u001b[0m\u001b[0;34m\u001b[0m\u001b[0;34m\u001b[0m\u001b[0m\n\u001b[1;32m      3\u001b[0m \u001b[0mplt\u001b[0m\u001b[0;34m.\u001b[0m\u001b[0mshow\u001b[0m\u001b[0;34m(\u001b[0m\u001b[0;34m)\u001b[0m\u001b[0;34m\u001b[0m\u001b[0;34m\u001b[0m\u001b[0m\n",
            "\u001b[0;32m/usr/local/lib/python3.10/dist-packages/matplotlib/pyplot.py\u001b[0m in \u001b[0;36mscatter\u001b[0;34m(x, y, s, c, marker, cmap, norm, vmin, vmax, alpha, linewidths, edgecolors, plotnonfinite, data, **kwargs)\u001b[0m\n\u001b[1;32m   2860\u001b[0m         \u001b[0mvmin\u001b[0m\u001b[0;34m=\u001b[0m\u001b[0;32mNone\u001b[0m\u001b[0;34m,\u001b[0m \u001b[0mvmax\u001b[0m\u001b[0;34m=\u001b[0m\u001b[0;32mNone\u001b[0m\u001b[0;34m,\u001b[0m \u001b[0malpha\u001b[0m\u001b[0;34m=\u001b[0m\u001b[0;32mNone\u001b[0m\u001b[0;34m,\u001b[0m \u001b[0mlinewidths\u001b[0m\u001b[0;34m=\u001b[0m\u001b[0;32mNone\u001b[0m\u001b[0;34m,\u001b[0m \u001b[0;34m*\u001b[0m\u001b[0;34m,\u001b[0m\u001b[0;34m\u001b[0m\u001b[0;34m\u001b[0m\u001b[0m\n\u001b[1;32m   2861\u001b[0m         edgecolors=None, plotnonfinite=False, data=None, **kwargs):\n\u001b[0;32m-> 2862\u001b[0;31m     __ret = gca().scatter(\n\u001b[0m\u001b[1;32m   2863\u001b[0m         \u001b[0mx\u001b[0m\u001b[0;34m,\u001b[0m \u001b[0my\u001b[0m\u001b[0;34m,\u001b[0m \u001b[0ms\u001b[0m\u001b[0;34m=\u001b[0m\u001b[0ms\u001b[0m\u001b[0;34m,\u001b[0m \u001b[0mc\u001b[0m\u001b[0;34m=\u001b[0m\u001b[0mc\u001b[0m\u001b[0;34m,\u001b[0m \u001b[0mmarker\u001b[0m\u001b[0;34m=\u001b[0m\u001b[0mmarker\u001b[0m\u001b[0;34m,\u001b[0m \u001b[0mcmap\u001b[0m\u001b[0;34m=\u001b[0m\u001b[0mcmap\u001b[0m\u001b[0;34m,\u001b[0m \u001b[0mnorm\u001b[0m\u001b[0;34m=\u001b[0m\u001b[0mnorm\u001b[0m\u001b[0;34m,\u001b[0m\u001b[0;34m\u001b[0m\u001b[0;34m\u001b[0m\u001b[0m\n\u001b[1;32m   2864\u001b[0m         \u001b[0mvmin\u001b[0m\u001b[0;34m=\u001b[0m\u001b[0mvmin\u001b[0m\u001b[0;34m,\u001b[0m \u001b[0mvmax\u001b[0m\u001b[0;34m=\u001b[0m\u001b[0mvmax\u001b[0m\u001b[0;34m,\u001b[0m \u001b[0malpha\u001b[0m\u001b[0;34m=\u001b[0m\u001b[0malpha\u001b[0m\u001b[0;34m,\u001b[0m \u001b[0mlinewidths\u001b[0m\u001b[0;34m=\u001b[0m\u001b[0mlinewidths\u001b[0m\u001b[0;34m,\u001b[0m\u001b[0;34m\u001b[0m\u001b[0;34m\u001b[0m\u001b[0m\n",
            "\u001b[0;32m/usr/local/lib/python3.10/dist-packages/matplotlib/__init__.py\u001b[0m in \u001b[0;36minner\u001b[0;34m(ax, data, *args, **kwargs)\u001b[0m\n\u001b[1;32m   1440\u001b[0m     \u001b[0;32mdef\u001b[0m \u001b[0minner\u001b[0m\u001b[0;34m(\u001b[0m\u001b[0max\u001b[0m\u001b[0;34m,\u001b[0m \u001b[0;34m*\u001b[0m\u001b[0margs\u001b[0m\u001b[0;34m,\u001b[0m \u001b[0mdata\u001b[0m\u001b[0;34m=\u001b[0m\u001b[0;32mNone\u001b[0m\u001b[0;34m,\u001b[0m \u001b[0;34m**\u001b[0m\u001b[0mkwargs\u001b[0m\u001b[0;34m)\u001b[0m\u001b[0;34m:\u001b[0m\u001b[0;34m\u001b[0m\u001b[0;34m\u001b[0m\u001b[0m\n\u001b[1;32m   1441\u001b[0m         \u001b[0;32mif\u001b[0m \u001b[0mdata\u001b[0m \u001b[0;32mis\u001b[0m \u001b[0;32mNone\u001b[0m\u001b[0;34m:\u001b[0m\u001b[0;34m\u001b[0m\u001b[0;34m\u001b[0m\u001b[0m\n\u001b[0;32m-> 1442\u001b[0;31m             \u001b[0;32mreturn\u001b[0m \u001b[0mfunc\u001b[0m\u001b[0;34m(\u001b[0m\u001b[0max\u001b[0m\u001b[0;34m,\u001b[0m \u001b[0;34m*\u001b[0m\u001b[0mmap\u001b[0m\u001b[0;34m(\u001b[0m\u001b[0msanitize_sequence\u001b[0m\u001b[0;34m,\u001b[0m \u001b[0margs\u001b[0m\u001b[0;34m)\u001b[0m\u001b[0;34m,\u001b[0m \u001b[0;34m**\u001b[0m\u001b[0mkwargs\u001b[0m\u001b[0;34m)\u001b[0m\u001b[0;34m\u001b[0m\u001b[0;34m\u001b[0m\u001b[0m\n\u001b[0m\u001b[1;32m   1443\u001b[0m \u001b[0;34m\u001b[0m\u001b[0m\n\u001b[1;32m   1444\u001b[0m         \u001b[0mbound\u001b[0m \u001b[0;34m=\u001b[0m \u001b[0mnew_sig\u001b[0m\u001b[0;34m.\u001b[0m\u001b[0mbind\u001b[0m\u001b[0;34m(\u001b[0m\u001b[0max\u001b[0m\u001b[0;34m,\u001b[0m \u001b[0;34m*\u001b[0m\u001b[0margs\u001b[0m\u001b[0;34m,\u001b[0m \u001b[0;34m**\u001b[0m\u001b[0mkwargs\u001b[0m\u001b[0;34m)\u001b[0m\u001b[0;34m\u001b[0m\u001b[0;34m\u001b[0m\u001b[0m\n",
            "\u001b[0;32m/usr/local/lib/python3.10/dist-packages/matplotlib/axes/_axes.py\u001b[0m in \u001b[0;36mscatter\u001b[0;34m(self, x, y, s, c, marker, cmap, norm, vmin, vmax, alpha, linewidths, edgecolors, plotnonfinite, **kwargs)\u001b[0m\n\u001b[1;32m   4600\u001b[0m             \u001b[0morig_edgecolor\u001b[0m \u001b[0;34m=\u001b[0m \u001b[0mkwargs\u001b[0m\u001b[0;34m.\u001b[0m\u001b[0mget\u001b[0m\u001b[0;34m(\u001b[0m\u001b[0;34m'edgecolor'\u001b[0m\u001b[0;34m,\u001b[0m \u001b[0;32mNone\u001b[0m\u001b[0;34m)\u001b[0m\u001b[0;34m\u001b[0m\u001b[0;34m\u001b[0m\u001b[0m\n\u001b[1;32m   4601\u001b[0m         \u001b[0mc\u001b[0m\u001b[0;34m,\u001b[0m \u001b[0mcolors\u001b[0m\u001b[0;34m,\u001b[0m \u001b[0medgecolors\u001b[0m \u001b[0;34m=\u001b[0m\u001b[0;31m \u001b[0m\u001b[0;31m\\\u001b[0m\u001b[0;34m\u001b[0m\u001b[0;34m\u001b[0m\u001b[0m\n\u001b[0;32m-> 4602\u001b[0;31m             self._parse_scatter_color_args(\n\u001b[0m\u001b[1;32m   4603\u001b[0m                 \u001b[0mc\u001b[0m\u001b[0;34m,\u001b[0m \u001b[0medgecolors\u001b[0m\u001b[0;34m,\u001b[0m \u001b[0mkwargs\u001b[0m\u001b[0;34m,\u001b[0m \u001b[0mx\u001b[0m\u001b[0;34m.\u001b[0m\u001b[0msize\u001b[0m\u001b[0;34m,\u001b[0m\u001b[0;34m\u001b[0m\u001b[0;34m\u001b[0m\u001b[0m\n\u001b[1;32m   4604\u001b[0m                 get_next_color_func=self._get_patches_for_fill.get_next_color)\n",
            "\u001b[0;32m/usr/local/lib/python3.10/dist-packages/matplotlib/axes/_axes.py\u001b[0m in \u001b[0;36m_parse_scatter_color_args\u001b[0;34m(c, edgecolors, kwargs, xsize, get_next_color_func)\u001b[0m\n\u001b[1;32m   4443\u001b[0m                 \u001b[0;32melse\u001b[0m\u001b[0;34m:\u001b[0m\u001b[0;34m\u001b[0m\u001b[0;34m\u001b[0m\u001b[0m\n\u001b[1;32m   4444\u001b[0m                     \u001b[0;32mif\u001b[0m \u001b[0;32mnot\u001b[0m \u001b[0mvalid_shape\u001b[0m\u001b[0;34m:\u001b[0m\u001b[0;34m\u001b[0m\u001b[0;34m\u001b[0m\u001b[0m\n\u001b[0;32m-> 4445\u001b[0;31m                         \u001b[0;32mraise\u001b[0m \u001b[0minvalid_shape_exception\u001b[0m\u001b[0;34m(\u001b[0m\u001b[0mc\u001b[0m\u001b[0;34m.\u001b[0m\u001b[0msize\u001b[0m\u001b[0;34m,\u001b[0m \u001b[0mxsize\u001b[0m\u001b[0;34m)\u001b[0m \u001b[0;32mfrom\u001b[0m \u001b[0merr\u001b[0m\u001b[0;34m\u001b[0m\u001b[0;34m\u001b[0m\u001b[0m\n\u001b[0m\u001b[1;32m   4446\u001b[0m                     \u001b[0;31m# Both the mapping *and* the RGBA conversion failed: pretty\u001b[0m\u001b[0;34m\u001b[0m\u001b[0;34m\u001b[0m\u001b[0m\n\u001b[1;32m   4447\u001b[0m                     \u001b[0;31m# severe failure => one may appreciate a verbose feedback.\u001b[0m\u001b[0;34m\u001b[0m\u001b[0;34m\u001b[0m\u001b[0m\n",
            "\u001b[0;31mValueError\u001b[0m: 'c' argument has 343889 elements, which is inconsistent with 'x' and 'y' with size 383173."
          ]
        },
        {
          "output_type": "display_data",
          "data": {
            "text/plain": [
              "<Figure size 640x480 with 1 Axes>"
            ],
            "image/png": "[encoded data removed]"
          },
          "metadata": {}
        }
      ]
    }
  ]
}