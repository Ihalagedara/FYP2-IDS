{
  "cells": [
    {
      "cell_type": "markdown",
      "metadata": {
        "id": "view-in-github",
        "colab_type": "text"
      },
      "source": [
        "<a href=\"https://colab.research.google.com/github/Ihalagedara/FYP2-IDS/blob/main/test_loss_function_msle_loss.ipynb\" target=\"_parent\"><img src=\"https://colab.research.google.com/assets/colab-badge.svg\" alt=\"Open In Colab\"/></a>"
      ]
    },
    {
      "cell_type": "markdown",
      "metadata": {
        "id": "HiySEU9TfF0e"
      },
      "source": [
        "### Data analysis"
      ]
    },
    {
      "cell_type": "code",
      "execution_count": 1,
      "metadata": {
        "id": "5lcM4cfO5Ule",
        "colab": {
          "base_uri": "https://localhost:8080/"
        },
        "outputId": "a6fd66bb-d563-4d96-9281-5ae00686cbbc"
      },
      "outputs": [
        {
          "output_type": "stream",
          "name": "stdout",
          "text": [
            "Mounted at /content/drive\n"
          ]
        }
      ],
      "source": [
        "from google.colab import drive\n",
        "drive.mount('/content/drive')"
      ]
    },
    {
      "cell_type": "code",
      "execution_count": 2,
      "metadata": {
        "id": "oSbSaxh-6gQv"
      },
      "outputs": [],
      "source": [
        "import numpy as np\n",
        "import pandas as pd\n",
        "from sklearn.model_selection import train_test_split\n",
        "from sklearn.preprocessing import StandardScaler\n",
        "import tensorflow as tf\n",
        "import xgboost as xgb\n",
        "from sklearn.metrics import accuracy_score\n",
        "from sklearn.metrics import classification_report\n",
        "from sklearn.metrics import mean_absolute_error\n",
        "import numpy as np\n",
        "import tensorflow as tf\n",
        "from tensorflow import keras\n",
        "import matplotlib.pyplot as plt\n",
        "#import kerastuner as kt"
      ]
    },
    {
      "cell_type": "code",
      "execution_count": 3,
      "metadata": {
        "id": "OAGMOojG7rxT"
      },
      "outputs": [],
      "source": [
        "import keras\n",
        "from keras.models import Sequential\n",
        "from keras.layers import Activation\n",
        "from keras.layers import Dense, Dropout\n",
        "from keras.optimizers import Adam\n",
        "from keras.metrics import categorical_crossentropy\n",
        "from sklearn.metrics import classification_report\n",
        "from tensorflow.keras.models import Sequential\n",
        "from tensorflow.keras.layers import Dense\n",
        "from sklearn.preprocessing import StandardScaler,MinMaxScaler\n",
        "from tensorflow.keras.losses import MeanSquaredLogarithmicError"
      ]
    },
    {
      "cell_type": "code",
      "execution_count": null,
      "metadata": {
        "id": "vYGObg3I6pLB"
      },
      "outputs": [],
      "source": [
        "data = pd.read_csv('/content/drive/Shareddrives/FYP IDS SDN/FYP ML/InSDN_DatasetCSV/new_dataset.csv', sep=\",\")\n",
        "data_a = pd.read_csv('/content/drive/Shareddrives/FYP IDS SDN/FYP ML/InSDN_DatasetCSV/new_dataset.csv', sep=\",\")"
      ]
    },
    {
      "cell_type": "code",
      "execution_count": null,
      "metadata": {
        "id": "0SHKfzqH6ykK"
      },
      "outputs": [],
      "source": [
        "#condition3 = data['Label'] != 'Probe'\n",
        "condition4 = data['Label'] != 'Normal'\n",
        "condition3 = data['Label'] == 'Normal'\n",
        "data = data.drop(data[condition4].index)\n",
        "data_a = data_a.drop(data[condition3].index)"
      ]
    },
    {
      "cell_type": "code",
      "execution_count": null,
      "metadata": {
        "id": "DSJt-VAm60cI"
      },
      "outputs": [],
      "source": [
        "#data['Label'] = data['Label'].replace('Probe', 1)\n",
        "data['Label'] = data['Label'].replace('Normal', 0)"
      ]
    },
    {
      "cell_type": "code",
      "execution_count": null,
      "metadata": {
        "id": "oJ_T-nyD61yu"
      },
      "outputs": [],
      "source": [
        "data = data.drop(['Flow ID','Src IP','Src Port','Dst IP', 'Dst Port', 'Timestamp'], axis=1)\n",
        "data_a = data_a.drop(['Flow ID','Src IP','Src Port','Dst IP', 'Dst Port', 'Timestamp'], axis=1)\n"
      ]
    },
    {
      "cell_type": "code",
      "execution_count": null,
      "metadata": {
        "id": "nXapljTt7Dd5"
      },
      "outputs": [],
      "source": [
        "data_train, data_test = train_test_split(data, test_size=0.2)"
      ]
    },
    {
      "cell_type": "code",
      "execution_count": null,
      "metadata": {
        "id": "hG3fHM7P6_rZ"
      },
      "outputs": [],
      "source": [
        "y_data = data_train[\"Label\"]\n",
        "data_train = data_train.drop([\"Label\"],axis=1)\n",
        "y_data_test = data_test[\"Label\"]\n",
        "data_test = data_test.drop([\"Label\"],axis=1)\n",
        "y_data_a = data_a[\"Label\"]\n",
        "data_a = data_a.drop([\"Label\"],axis=1)\n"
      ]
    },
    {
      "cell_type": "code",
      "execution_count": null,
      "metadata": {
        "id": "eBZsgMHxJ2u6"
      },
      "outputs": [],
      "source": [
        "data = data.drop([\"Label\"],axis=1)"
      ]
    },
    {
      "cell_type": "code",
      "execution_count": null,
      "metadata": {
        "id": "Jd8V-XaG65w5"
      },
      "outputs": [],
      "source": [
        "#selected_features = ['Protocol', 'Tot Fwd Pkts', 'Flow Pkts/s', 'Fwd Header Len', 'Bwd Header Len', 'Bwd Pkts/s', 'Pkt Len Max', 'Init Bwd Win Byts']\n",
        "#data = data.drop(columns=data.columns.difference(selected_features))\n",
        "#data_test = data_test.drop(columns=data_test.columns.difference(selected_features))"
      ]
    },
    {
      "cell_type": "code",
      "execution_count": null,
      "metadata": {
        "id": "U4lkvvBAiP93"
      },
      "outputs": [],
      "source": [
        "data = tf.constant(data)\n",
        "data_train = tf.constant(data_train)\n",
        "data_test = tf.constant(data_test)\n",
        "data_a = tf.constant(data_a)"
      ]
    },
    {
      "cell_type": "code",
      "execution_count": null,
      "metadata": {
        "id": "aRRb0M6grPQD"
      },
      "outputs": [],
      "source": [
        "'''mean = np.mean(data, axis=0)\n",
        "std_dev = np.std(data, axis=0)\n",
        "\n",
        "normalized_data = (data - mean) / std_dev'''"
      ]
    },
    {
      "cell_type": "code",
      "execution_count": null,
      "metadata": {
        "id": "MDRXNGMKs3GQ"
      },
      "outputs": [],
      "source": [
        "scaler = StandardScaler()\n",
        "data_scaled = scaler.fit(data)"
      ]
    },
    {
      "cell_type": "code",
      "execution_count": null,
      "metadata": {
        "id": "6iHCJBaTtXd1"
      },
      "outputs": [],
      "source": [
        "data = data_scaled.transform(data)\n",
        "data_train = data_scaled.transform(data_train)\n",
        "data_test = data_scaled.transform(data_test)\n",
        "data_a = data_scaled.transform(data_a)"
      ]
    },
    {
      "cell_type": "markdown",
      "metadata": {
        "id": "JuF3sZ6wKO8y"
      },
      "source": [
        "### model"
      ]
    },
    {
      "cell_type": "code",
      "execution_count": null,
      "metadata": {
        "id": "BZKPNzsf67Qa"
      },
      "outputs": [],
      "source": [
        "class AutoEncoder(tf.keras.models.Model):\n",
        "  def __init__(self):\n",
        "    super(AutoEncoder, self).__init__()\n",
        "    self.encoder = tf.keras.Sequential([\n",
        "        #tf.keras.layers.Dense(units=120, input_shape=(77,), activation='relu'),\n",
        "        #tf.keras.layers.Embedding(input_dim=120, output_dim=66),\n",
        "        tf.keras.layers.Dense(126, input_shape=(77,), activation='relu'),\n",
        "        tf.keras.layers.Dense(460, activation='relu'),\n",
        "        tf.keras.layers.Dense(680, activation='relu'),\n",
        "        tf.keras.layers.Dense(148, activation='relu'),\n",
        "        tf.keras.layers.Dense(534, activation='relu'),\n",
        "        tf.keras.layers.Dense(762, activation='relu'),\n",
        "        tf.keras.layers.Dense(536, activation='relu'),\n",
        "        tf.keras.layers.Dense(228, activation='relu'),\n",
        "        tf.keras.layers.Dense(334, activation='relu'),\n",
        "        tf.keras.layers.Dense(58, activation='relu'),\n",
        "    ])\n",
        "\n",
        "    self.decoder = tf.keras.Sequential([\n",
        "        tf.keras.layers.Dense(334, activation='relu'),\n",
        "        tf.keras.layers.Dense(228, activation='relu'),\n",
        "        tf.keras.layers.Dense(536, activation='relu'),\n",
        "        tf.keras.layers.Dense(762, activation='relu'),\n",
        "        tf.keras.layers.Dense(534, activation='relu'),\n",
        "        tf.keras.layers.Dense(148, activation='relu'),\n",
        "        tf.keras.layers.Dense(680, activation='relu'),\n",
        "        tf.keras.layers.Dense(460, activation='linear'),\n",
        "        tf.keras.layers.Dense(126, activation='linear'),\n",
        "        tf.keras.layers.Dense(77, activation='linear'),\n",
        "    ])\n",
        "\n",
        "  def call(self, x):\n",
        "    encoded = self.encoder(x)\n",
        "    decoded = self.decoder(encoded)\n",
        "    return decoded"
      ]
    },
    {
      "cell_type": "code",
      "execution_count": null,
      "metadata": {
        "id": "ZUe6Oy0t8TxR"
      },
      "outputs": [],
      "source": [
        "model = AutoEncoder()\n",
        "model.compile(optimizer=tf.keras.optimizers.Adam(learning_rate=0.001),loss='mae',metrics=[\"accuracy\"])"
      ]
    },
    {
      "cell_type": "code",
      "execution_count": null,
      "metadata": {
        "id": "NyIVxlNM8ULh"
      },
      "outputs": [],
      "source": [
        "dl = model.fit(data_train, data_train, epochs=20, batch_size=64,validation_split=0.2)"
      ]
    },
    {
      "cell_type": "code",
      "execution_count": null,
      "metadata": {
        "id": "Olla3RgFWLpm"
      },
      "outputs": [],
      "source": [
        "#dl = best_model = tuner1.get_best_models(num_models=1)[0]"
      ]
    },
    {
      "cell_type": "code",
      "execution_count": null,
      "metadata": {
        "id": "YIOSUerfrRKY"
      },
      "outputs": [],
      "source": [
        "print(f\"max accuracy {max(dl.history['accuracy'])} : index {dl.history['accuracy'].index(max(dl.history['accuracy']))}\")\n",
        "print(f\"max val accuracy {max(dl.history['val_accuracy'])} : index {dl.history['val_accuracy'].index(max(dl.history['val_accuracy']))}\")\n",
        "print(f\"min loss {min(dl.history['loss'])} : index {dl.history['loss'].index(min(dl.history['loss']))}\")\n",
        "print(f\"min val loss {min(dl.history['val_loss'])} : index {dl.history['val_loss'].index(min(dl.history['val_loss']))}\")"
      ]
    },
    {
      "cell_type": "code",
      "execution_count": null,
      "metadata": {
        "id": "8JlAgeRzrTD1"
      },
      "outputs": [],
      "source": [
        "from matplotlib import pyplot as plt\n"
      ]
    },
    {
      "cell_type": "code",
      "execution_count": null,
      "metadata": {
        "id": "pfjb8aE-ZlPS"
      },
      "outputs": [],
      "source": [
        "encoder_out = model.encoder(data_test).numpy()\n",
        "decoder_out = model.decoder(encoder_out).numpy()"
      ]
    },
    {
      "cell_type": "code",
      "execution_count": null,
      "metadata": {
        "id": "Xz_Tjbkte_9t"
      },
      "outputs": [],
      "source": [
        "reconstruction = model.predict(data_test)\n",
        "train_loss = tf.keras.losses.mse(reconstruction,data_test)"
      ]
    },
    {
      "cell_type": "code",
      "execution_count": null,
      "metadata": {
        "id": "XRlt32QcgMTs"
      },
      "outputs": [],
      "source": [
        "threshold = np.mean(train_loss) + 2*np.std(train_loss)"
      ]
    },
    {
      "cell_type": "code",
      "execution_count": null,
      "metadata": {
        "id": "ifz-2eFkgMC3"
      },
      "outputs": [],
      "source": [
        "threshold"
      ]
    },
    {
      "cell_type": "code",
      "execution_count": null,
      "metadata": {
        "id": "TbCm58b0wXhc"
      },
      "outputs": [],
      "source": [
        "encoder_a = model.encoder(data_a).numpy()\n",
        "decoder_a = model.decoder(encoder_out).numpy()"
      ]
    },
    {
      "cell_type": "code",
      "execution_count": null,
      "metadata": {
        "id": "2LhZWd36ws3s"
      },
      "outputs": [],
      "source": [
        "reconstruction_a = model.predict(data_a)\n",
        "train_loss_a = tf.keras.losses.msle(reconstruction_a,data_a)"
      ]
    },
    {
      "cell_type": "markdown",
      "metadata": {
        "id": "azfH8OtAywVt"
      },
      "source": [
        "### Testing threshold"
      ]
    },
    {
      "cell_type": "code",
      "execution_count": null,
      "metadata": {
        "id": "3lgz3oTplWKe"
      },
      "outputs": [],
      "source": [
        "train_loss_msle = tf.keras.losses.msle(reconstruction,data_test)\n",
        "train_loss_mse = tf.keras.losses.mse(reconstruction,data_test)\n",
        "train_loss_mae = tf.keras.losses.mae(reconstruction,data_test)"
      ]
    },
    {
      "cell_type": "code",
      "execution_count": null,
      "metadata": {
        "id": "ppjze5ojlmhr"
      },
      "outputs": [],
      "source": [
        "threshold_msle = np.mean(train_loss_msle) + 2*np.std(train_loss_msle)\n",
        "threshold_mse = np.mean(train_loss_mse) + 2*np.std(train_loss_mse)\n",
        "threshold_mae = np.mean(train_loss_mae) + 2*np.std(train_loss_mae)"
      ]
    },
    {
      "cell_type": "code",
      "execution_count": null,
      "metadata": {
        "id": "31NflfcJl3CQ"
      },
      "outputs": [],
      "source": [
        "print(threshold_msle)\n",
        "print(threshold_mse)\n",
        "print(threshold_mae)"
      ]
    },
    {
      "cell_type": "code",
      "execution_count": null,
      "metadata": {
        "id": "KBPT-NOqoFAn"
      },
      "outputs": [],
      "source": [
        "print((tf.keras.losses.kld(reconstruction,data_test)))"
      ]
    },
    {
      "cell_type": "markdown",
      "metadata": {
        "id": "b9blWVySmQ-0"
      },
      "source": [
        "## testing"
      ]
    },
    {
      "cell_type": "code",
      "execution_count": null,
      "metadata": {
        "id": "Xc4zrVgkwL7D"
      },
      "outputs": [],
      "source": [
        "#loss\n",
        "def loss(true_val,Pred_val):\n",
        "  loss1 = tf.keras.losses.mean_squared_logarithmic_error(true_val, Pred_val)\n",
        "  return loss1"
      ]
    },
    {
      "cell_type": "markdown",
      "metadata": {
        "id": "lmnyXaIzdL89"
      },
      "source": [
        "### normal"
      ]
    },
    {
      "cell_type": "code",
      "execution_count": null,
      "metadata": {
        "id": "SR-ITcyibUe2"
      },
      "outputs": [],
      "source": [
        "data = pd.read_csv('/content/drive/Shareddrives/FYP IDS SDN/FYP ML/InSDN_DatasetCSV/new_dataset.csv', sep=\",\")\n",
        "data = data.drop(['Flow ID','Src IP','Src Port','Dst IP', 'Dst Port', 'Timestamp'], axis=1)\n",
        "#selected_features = ['Protocol', 'Tot Fwd Pkts', 'Flow Pkts/s', 'Fwd Header Len', 'Bwd Header Len', 'Bwd Pkts/s', 'Pkt Len Max', 'Init Bwd Win Byts' , 'Label']\n",
        "#data = data.drop(columns=data.columns.difference(selected_features))\n",
        "condition4 = data['Label'] != 'Normal'\n",
        "data = data.drop(data[condition4].index)\n",
        "y_data_normal = data[\"Label\"]\n",
        "data_normal = data.drop([\"Label\"],axis=1)\n",
        "data_normal = data_scaled.transform(data_normal)"
      ]
    },
    {
      "cell_type": "code",
      "execution_count": null,
      "metadata": {
        "id": "5ep6Ilssbeww"
      },
      "outputs": [],
      "source": [
        "reconstructions_normal = model.predict(np.array(data_normal))\n",
        "mse_normal = loss(data_normal , reconstructions_normal)"
      ]
    },
    {
      "cell_type": "code",
      "source": [],
      "metadata": {
        "id": "qk4-BXkKPhnm"
      },
      "execution_count": null,
      "outputs": []
    },
    {
      "cell_type": "code",
      "source": [
        "#eig_normal = np.linalg.eigvals(np.dot(data_normal,data_normal.T))\n",
        "#eig_normal"
      ],
      "metadata": {
        "id": "DDF6nP07O4A2"
      },
      "execution_count": null,
      "outputs": []
    },
    {
      "cell_type": "markdown",
      "metadata": {
        "id": "PN0r-ZqqdONb"
      },
      "source": [
        "### bfa"
      ]
    },
    {
      "cell_type": "code",
      "execution_count": null,
      "metadata": {
        "id": "r4U4b2YBbqcU"
      },
      "outputs": [],
      "source": [
        "data = pd.read_csv('/content/drive/Shareddrives/FYP IDS SDN/FYP ML/InSDN_DatasetCSV/new_dataset.csv', sep=\",\")\n",
        "data = data.drop(['Flow ID','Src IP','Src Port','Dst IP', 'Dst Port', 'Timestamp'], axis=1)\n",
        "selected_features = ['Protocol', 'Tot Fwd Pkts', 'Flow Pkts/s', 'Fwd Header Len', 'Bwd Header Len', 'Bwd Pkts/s', 'Pkt Len Max', 'Init Bwd Win Byts' , 'Label']\n",
        "#data = data.drop(columns=data.columns.difference(selected_features))\n",
        "condition4 = data['Label'] != 'BFA'\n",
        "data = data.drop(data[condition4].index)\n",
        "y_data_bfa = data[\"Label\"]\n",
        "data_bfa = data.drop([\"Label\"],axis=1)\n",
        "data_bfa = data_scaled.transform(data_bfa)"
      ]
    },
    {
      "cell_type": "code",
      "execution_count": null,
      "metadata": {
        "id": "diwi-ptebsiv"
      },
      "outputs": [],
      "source": [
        "reconstructions_bfa = model.predict(np.array(data_bfa))\n",
        "mse_bfa = loss(data_bfa , reconstructions_bfa)"
      ]
    },
    {
      "cell_type": "markdown",
      "metadata": {
        "id": "q4pHKanKdPyz"
      },
      "source": [
        "### ddos"
      ]
    },
    {
      "cell_type": "code",
      "execution_count": null,
      "metadata": {
        "id": "tAPtsCEsc5v_"
      },
      "outputs": [],
      "source": [
        "data = pd.read_csv('/content/drive/Shareddrives/FYP IDS SDN/FYP ML/InSDN_DatasetCSV/new_dataset.csv', sep=\",\")\n",
        "data = data.drop(['Flow ID','Src IP','Src Port','Dst IP', 'Dst Port', 'Timestamp'], axis=1)\n",
        "selected_features = ['Protocol', 'Tot Fwd Pkts', 'Flow Pkts/s', 'Fwd Header Len', 'Bwd Header Len', 'Bwd Pkts/s', 'Pkt Len Max', 'Init Bwd Win Byts' , 'Label']\n",
        "#data = data.drop(columns=data.columns.difference(selected_features))\n",
        "condition4 = data['Label'] != 'DDoS '\n",
        "condition1 = data['Label'] != 'DDoS'\n",
        "data = data.drop(data[condition4 & condition1].index)\n",
        "y_data_ddos = data[\"Label\"]\n",
        "data_ddos = data.drop([\"Label\"],axis=1)\n",
        "data_ddos = data_scaled.transform(data_ddos)"
      ]
    },
    {
      "cell_type": "code",
      "execution_count": null,
      "metadata": {
        "id": "TmAe8qYZcRr3"
      },
      "outputs": [],
      "source": [
        "reconstructions_ddos = model.predict(np.array(data_ddos))\n",
        "mse_ddos = loss(data_ddos , reconstructions_ddos)\n"
      ]
    },
    {
      "cell_type": "markdown",
      "metadata": {
        "id": "ToCyjrg-ig4Z"
      },
      "source": [
        "### dos"
      ]
    },
    {
      "cell_type": "code",
      "execution_count": null,
      "metadata": {
        "id": "kBEFCM3JiiRY"
      },
      "outputs": [],
      "source": [
        "data = pd.read_csv('/content/drive/Shareddrives/FYP IDS SDN/FYP ML/InSDN_DatasetCSV/new_dataset.csv', sep=\",\")\n",
        "data = data.drop(['Flow ID','Src IP','Src Port','Dst IP', 'Dst Port', 'Timestamp'], axis=1)\n",
        "selected_features = ['Protocol', 'Tot Fwd Pkts', 'Flow Pkts/s', 'Fwd Header Len', 'Bwd Header Len', 'Bwd Pkts/s', 'Pkt Len Max', 'Init Bwd Win Byts' , 'Label']\n",
        "#data = data.drop(columns=data.columns.difference(selected_features))\n",
        "condition4 = data['Label'] != 'DoS'\n",
        "data = data.drop(data[condition4].index)\n",
        "y_data_dos = data[\"Label\"]\n",
        "data_dos = data.drop([\"Label\"],axis=1)\n",
        "data_dos = data_scaled.transform(data_ddos)"
      ]
    },
    {
      "cell_type": "code",
      "execution_count": null,
      "metadata": {
        "id": "OnMiyMMQikEs"
      },
      "outputs": [],
      "source": [
        "reconstructions_dos = model.predict(np.array(data_dos))\n",
        "mse_dos = loss(data_dos ,reconstructions_dos)\n"
      ]
    },
    {
      "cell_type": "markdown",
      "metadata": {
        "id": "I_MfL8z7dQ7G"
      },
      "source": [
        "### Probe"
      ]
    },
    {
      "cell_type": "code",
      "execution_count": null,
      "metadata": {
        "id": "G-9zahsedV7w"
      },
      "outputs": [],
      "source": [
        "data = pd.read_csv('/content/drive/Shareddrives/FYP IDS SDN/FYP ML/InSDN_DatasetCSV/new_dataset.csv', sep=\",\")\n",
        "data = data.drop(['Flow ID','Src IP','Src Port','Dst IP', 'Dst Port', 'Timestamp'], axis=1)\n",
        "selected_features = ['Protocol', 'Tot Fwd Pkts', 'Flow Pkts/s', 'Fwd Header Len', 'Bwd Header Len', 'Bwd Pkts/s', 'Pkt Len Max', 'Init Bwd Win Byts' , 'Label']\n",
        "#data = data.drop(columns=data.columns.difference(selected_features))\n",
        "condition4 = data['Label'] != 'Probe'\n",
        "data = data.drop(data[condition4].index)\n",
        "y_data_prob = data[\"Label\"]\n",
        "data_prob = data.drop([\"Label\"],axis=1)\n",
        "data_prob = data_scaled.transform(data_prob)"
      ]
    },
    {
      "cell_type": "code",
      "execution_count": null,
      "metadata": {
        "id": "06KMTh7UdVxA"
      },
      "outputs": [],
      "source": [
        "reconstructions_prob = model.predict(np.array(data_prob))\n",
        "mse_prob = loss(data_prob , reconstructions_prob)"
      ]
    },
    {
      "cell_type": "markdown",
      "metadata": {
        "id": "wM9pznkEdikd"
      },
      "source": [
        "### Web-Attack"
      ]
    },
    {
      "cell_type": "code",
      "execution_count": null,
      "metadata": {
        "id": "hO0iLc3Ydjg8"
      },
      "outputs": [],
      "source": [
        "data = pd.read_csv('/content/drive/Shareddrives/FYP IDS SDN/FYP ML/InSDN_DatasetCSV/new_dataset.csv', sep=\",\")\n",
        "data = data.drop(['Flow ID','Src IP','Src Port','Dst IP', 'Dst Port', 'Timestamp'], axis=1)\n",
        "selected_features = ['Protocol', 'Tot Fwd Pkts', 'Flow Pkts/s', 'Fwd Header Len', 'Bwd Header Len', 'Bwd Pkts/s', 'Pkt Len Max', 'Init Bwd Win Byts' , 'Label']\n",
        "#data = data.drop(columns=data.columns.difference(selected_features))\n",
        "condition4 = data['Label'] != 'Web-Attack'\n",
        "data = data.drop(data[condition4].index)\n",
        "y_data_WebAttack = data[\"Label\"]\n",
        "data_WebAttack = data.drop([\"Label\"],axis=1)\n",
        "data_WebAttack = data_scaled.transform(data_WebAttack)"
      ]
    },
    {
      "cell_type": "code",
      "execution_count": null,
      "metadata": {
        "id": "b3NWbbGCdjXG"
      },
      "outputs": [],
      "source": [
        "reconstructions_WebAttack = model.predict(np.array(data_WebAttack))\n",
        "mse_WebAttack = loss(data_WebAttack , reconstructions_WebAttack)"
      ]
    },
    {
      "cell_type": "markdown",
      "metadata": {
        "id": "vCBuv4qtdvu3"
      },
      "source": [
        "### BOTNET"
      ]
    },
    {
      "cell_type": "code",
      "execution_count": null,
      "metadata": {
        "id": "BFCDYr9Vdwx2"
      },
      "outputs": [],
      "source": [
        "data = pd.read_csv('/content/drive/Shareddrives/FYP IDS SDN/FYP ML/InSDN_DatasetCSV/new_dataset.csv', sep=\",\")\n",
        "data = data.drop(['Flow ID','Src IP','Src Port','Dst IP', 'Dst Port', 'Timestamp'], axis=1)\n",
        "selected_features = ['Protocol', 'Tot Fwd Pkts', 'Flow Pkts/s', 'Fwd Header Len', 'Bwd Header Len', 'Bwd Pkts/s', 'Pkt Len Max', 'Init Bwd Win Byts' , 'Label']\n",
        "#data = data.drop(columns=data.columns.difference(selected_features))\n",
        "condition4 = data['Label'] != 'BOTNET'\n",
        "data = data.drop(data[condition4].index)\n",
        "y_data_BOTNET = data[\"Label\"]\n",
        "data_BOTNET = data.drop([\"Label\"],axis=1)\n",
        "data_BOTNET = data_scaled.transform(data_BOTNET)"
      ]
    },
    {
      "cell_type": "code",
      "execution_count": null,
      "metadata": {
        "id": "Vk8P7kRXdwsx"
      },
      "outputs": [],
      "source": [
        "reconstructions_BOTNET = model.predict(np.array(data_BOTNET))\n",
        "mse_BOTNET = loss(data_BOTNET , reconstructions_BOTNET)"
      ]
    },
    {
      "cell_type": "markdown",
      "metadata": {
        "id": "U9FHNkSud5Vr"
      },
      "source": [
        "### U2R"
      ]
    },
    {
      "cell_type": "code",
      "execution_count": null,
      "metadata": {
        "id": "4ZePuicbd6SS"
      },
      "outputs": [],
      "source": [
        "data = pd.read_csv('/content/drive/Shareddrives/FYP IDS SDN/FYP ML/InSDN_DatasetCSV/new_dataset.csv', sep=\",\")\n",
        "data = data.drop(['Flow ID','Src IP','Src Port','Dst IP', 'Dst Port', 'Timestamp'], axis=1)\n",
        "selected_features = ['Protocol', 'Tot Fwd Pkts', 'Flow Pkts/s', 'Fwd Header Len', 'Bwd Header Len', 'Bwd Pkts/s', 'Pkt Len Max', 'Init Bwd Win Byts' , 'Label']\n",
        "#data = data.drop(columns=data.columns.difference(selected_features))\n",
        "condition4 = data['Label'] != 'U2R'\n",
        "data = data.drop(data[condition4].index)\n",
        "y_data_U2R = data[\"Label\"]\n",
        "data_U2R = data.drop([\"Label\"],axis=1)\n",
        "data_U2R = data_scaled.transform(data_U2R)"
      ]
    },
    {
      "cell_type": "code",
      "execution_count": null,
      "metadata": {
        "id": "ZkOtjXKrd6Jx"
      },
      "outputs": [],
      "source": [
        "reconstructions_U2R = model.predict(np.array(data_U2R))\n",
        "mse_U2R = loss(data_U2R , reconstructions_U2R)"
      ]
    },
    {
      "cell_type": "code",
      "execution_count": null,
      "metadata": {
        "id": "MIHjUjyZceKN"
      },
      "outputs": [],
      "source": [
        "#threshold = np.percentile(mse, 95)\n",
        "\n",
        "#is_anomaly = mse < threshold"
      ]
    },
    {
      "cell_type": "markdown",
      "metadata": {
        "id": "EfxcPINifcq-"
      },
      "source": [
        "### out"
      ]
    },
    {
      "cell_type": "code",
      "execution_count": null,
      "metadata": {
        "id": "T2FmHSfmhv8u"
      },
      "outputs": [],
      "source": [
        "print(f\"normal \\t max {np.max(mse_normal)} \\t min {np.min(mse_normal)}\")\n",
        "print(f\"mse_bfa \\t max {np.max(mse_bfa)} \\t min {np.min(mse_bfa)}\")\n",
        "print(f\"mse_ddos \\t max {np.max(mse_ddos)} \\t min {np.min(mse_ddos)}\")\n",
        "print(f\"mse_prob \\t max {np.max(mse_prob)} \\t min {np.min(mse_prob)}\")\n",
        "print(f\"mse_WebAttack \\t max {np.max(mse_WebAttack)} \\t min {np.min(mse_WebAttack)}\")\n",
        "print(f\"mse_BOTNET \\t max {np.max(mse_BOTNET)} \\t min {np.min(mse_BOTNET)}\")\n",
        "print(f\"mse_U2R \\t max {np.max(mse_U2R)} \\t min {np.min(mse_U2R)}\")\n",
        "print(f\"mse_dos \\t max {np.max(mse_dos)} \\t min {np.min(mse_dos)}\")"
      ]
    },
    {
      "cell_type": "code",
      "execution_count": null,
      "metadata": {
        "id": "FE0z-QcVh3Dt"
      },
      "outputs": [],
      "source": [
        "threshold_normal = np.percentile(mse_normal, 85)\n",
        "threshold_bfa = np.percentile(mse_bfa, 95)\n",
        "threshold_ddos = np.percentile(mse_ddos, 95)\n",
        "threshold_prob = np.percentile(mse_prob, 95)\n",
        "threshold_WebAttack = np.percentile(mse_WebAttack, 95)\n",
        "threshold_BOTNET = np.percentile(mse_BOTNET, 95)\n",
        "threshold_U2R = np.percentile(mse_U2R, 95)"
      ]
    },
    {
      "cell_type": "code",
      "execution_count": null,
      "metadata": {
        "id": "oW0IZeH0jXTa"
      },
      "outputs": [],
      "source": [
        "print(threshold_normal)\n",
        "print(threshold_bfa)\n",
        "print(threshold_ddos)\n",
        "print(threshold_prob)\n",
        "print(threshold_WebAttack)\n",
        "print(threshold_BOTNET)\n",
        "print(threshold_U2R)"
      ]
    },
    {
      "cell_type": "markdown",
      "metadata": {
        "id": "WlAGyAeaL_ku"
      },
      "source": [
        "## accuracy"
      ]
    },
    {
      "cell_type": "code",
      "source": [
        "threshold_mae = np.percentile(mse_normal, 85)"
      ],
      "metadata": {
        "id": "848dH2-sMT9I"
      },
      "execution_count": null,
      "outputs": []
    },
    {
      "cell_type": "code",
      "source": [
        "threshold_mae"
      ],
      "metadata": {
        "id": "AD88D4oa0G_h"
      },
      "execution_count": null,
      "outputs": []
    },
    {
      "cell_type": "code",
      "execution_count": null,
      "metadata": {
        "id": "ludVVSGflCq1"
      },
      "outputs": [],
      "source": [
        "anom_normal = mse_normal < threshold_mae\n",
        "anom_bfa = mse_bfa > threshold_mae\n",
        "anom_ddos  = mse_ddos > threshold_mae\n",
        "anom_prob = mse_prob > threshold_mae\n",
        "anom_WebAttack = mse_WebAttack > threshold_mae\n",
        "anom_BOTNET = mse_BOTNET >  threshold_mae\n",
        "anom_U2R = mse_U2R > threshold_mae\n",
        "anom_dos = mse_dos > threshold_mae"
      ]
    },
    {
      "cell_type": "code",
      "execution_count": null,
      "metadata": {
        "id": "okycfqvQuuWx"
      },
      "outputs": [],
      "source": [
        "def check(anom):\n",
        "  count =0\n",
        "  var_name = [name for name, value in globals().items() if value is anom][0]\n",
        "  for i in range(len(anom)):\n",
        "    if np.array(anom)[i]:\n",
        "      count = count +1\n",
        "\n",
        "  print(f\"{var_name} \\t accuracy: {count/len(anom)*100:.3f} \\t length: {len(anom)}\")"
      ]
    },
    {
      "cell_type": "code",
      "execution_count": null,
      "metadata": {
        "id": "IcOZKopAwe6C"
      },
      "outputs": [],
      "source": [
        "check(anom_normal)\n",
        "check(anom_bfa)\n",
        "check(anom_ddos)\n",
        "check(anom_prob)\n",
        "check(anom_WebAttack)\n",
        "check(anom_BOTNET)\n",
        "check(anom_U2R)\n",
        "check(anom_dos)"
      ]
    }
  ],
  "metadata": {
    "accelerator": "GPU",
    "colab": {
      "provenance": [],
      "gpuType": "T4",
      "include_colab_link": true
    },
    "kernelspec": {
      "display_name": "Python 3",
      "name": "python3"
    },
    "language_info": {
      "name": "python"
    }
  },
  "nbformat": 4,
  "nbformat_minor": 0
}