{
  "nbformat": 4,
  "nbformat_minor": 0,
  "metadata": {
    "colab": {
      "provenance": [],
      "include_colab_link": true
    },
    "kernelspec": {
      "name": "python3",
      "display_name": "Python 3"
    },
    "language_info": {
      "name": "python"
    }
  },
  "cells": [
    {
      "cell_type": "markdown",
      "metadata": {
        "id": "view-in-github",
        "colab_type": "text"
      },
      "source": [
        "<a href=\"https://colab.research.google.com/github/Ihalagedara/FYP2-IDS/blob/main/loss_value_with_77_parameters_with_accuracy_1.ipynb\" target=\"_parent\"><img src=\"https://colab.research.google.com/assets/colab-badge.svg\" alt=\"Open In Colab\"/></a>"
      ]
    },
    {
      "cell_type": "code",
      "execution_count": 1,
      "metadata": {
        "id": "oSbSaxh-6gQv"
      },
      "outputs": [],
      "source": [
        "import numpy as np\n",
        "import pandas as pd\n",
        "from sklearn.model_selection import train_test_split\n",
        "from sklearn.preprocessing import StandardScaler\n",
        "import tensorflow as tf\n",
        "import xgboost as xgb\n",
        "from sklearn.metrics import accuracy_score\n",
        "from sklearn.metrics import classification_report\n",
        "from sklearn.metrics import mean_absolute_error\n",
        "import numpy as np\n",
        "import tensorflow as tf\n",
        "from tensorflow import keras\n",
        "import matplotlib.pyplot as plt\n",
        "#import kerastuner as kt"
      ]
    },
    {
      "cell_type": "code",
      "execution_count": 2,
      "metadata": {
        "id": "5lcM4cfO5Ule",
        "colab": {
          "base_uri": "https://localhost:8080/"
        },
        "outputId": "28b0a202-8393-4c2c-ea92-63f2b237d402"
      },
      "outputs": [
        {
          "output_type": "stream",
          "name": "stdout",
          "text": [
            "Mounted at /content/drive\n"
          ]
        }
      ],
      "source": [
        "from google.colab import drive\n",
        "drive.mount('/content/drive')"
      ]
    },
    {
      "cell_type": "code",
      "execution_count": 3,
      "metadata": {
        "id": "OAGMOojG7rxT"
      },
      "outputs": [],
      "source": [
        "import keras\n",
        "from keras.models import Sequential\n",
        "from keras.layers import Activation\n",
        "from keras.layers import Dense, Dropout\n",
        "from keras.optimizers import Adam\n",
        "from keras.metrics import categorical_crossentropy\n",
        "from sklearn.metrics import classification_report\n",
        "from tensorflow.keras.models import Sequential\n",
        "from tensorflow.keras.layers import Dense\n",
        "from sklearn.preprocessing import StandardScaler,MinMaxScaler\n",
        "from tensorflow.keras.losses import MeanSquaredLogarithmicError"
      ]
    },
    {
      "cell_type": "markdown",
      "metadata": {
        "id": "b9blWVySmQ-0"
      },
      "source": [
        "## testing"
      ]
    },
    {
      "cell_type": "code",
      "source": [
        "model = tf.keras.models.load_model(\"/content/drive/MyDrive/FYP2/Colab/model save/AE_model_11102023_v_2_2\")#/content/drive/MyDrive/FYP2/Colab/model save/AE_model_11102023_v_2_1   #/content/drive/Shareddrives/FYP IDS SDN/FYP ML/Saved Models/AE_model_11102023_v_2"
      ],
      "metadata": {
        "id": "AInyZKT53siW"
      },
      "execution_count": 45,
      "outputs": []
    },
    {
      "cell_type": "code",
      "source": [
        "model.summary()"
      ],
      "metadata": {
        "colab": {
          "base_uri": "https://localhost:8080/"
        },
        "id": "S75Ux0R-yhvQ",
        "outputId": "b5a76046-0424-41d6-aa46-cd1a53d073f2"
      },
      "execution_count": 46,
      "outputs": [
        {
          "output_type": "stream",
          "name": "stdout",
          "text": [
            "Model: \"auto_encoder\"\n",
            "_________________________________________________________________\n",
            " Layer (type)                Output Shape              Param #   \n",
            "=================================================================\n",
            " sequential_1 (Sequential)   (None, 58)                1597072   \n",
            "                                                                 \n",
            " sequential_2 (Sequential)   (None, 77)                1597091   \n",
            "                                                                 \n",
            "=================================================================\n",
            "Total params: 3194163 (12.18 MB)\n",
            "Trainable params: 3194163 (12.18 MB)\n",
            "Non-trainable params: 0 (0.00 Byte)\n",
            "_________________________________________________________________\n"
          ]
        }
      ]
    },
    {
      "cell_type": "code",
      "source": [
        "for i in range(len(model.get_weights())):\n",
        "  print(len(model.get_weights()[i]))\n"
      ],
      "metadata": {
        "colab": {
          "base_uri": "https://localhost:8080/"
        },
        "id": "YRdRboY9SxrH",
        "outputId": "6777d4b3-2bd7-412a-899e-d6b8a9d0622a"
      },
      "execution_count": 47,
      "outputs": [
        {
          "output_type": "stream",
          "name": "stdout",
          "text": [
            "77\n",
            "126\n",
            "126\n",
            "460\n",
            "460\n",
            "680\n",
            "680\n",
            "148\n",
            "148\n",
            "534\n",
            "534\n",
            "762\n",
            "762\n",
            "536\n",
            "536\n",
            "228\n",
            "228\n",
            "334\n",
            "334\n",
            "58\n",
            "58\n",
            "334\n",
            "334\n",
            "228\n",
            "228\n",
            "536\n",
            "536\n",
            "762\n",
            "762\n",
            "534\n",
            "534\n",
            "148\n",
            "148\n",
            "680\n",
            "680\n",
            "460\n",
            "460\n",
            "126\n",
            "126\n",
            "77\n"
          ]
        }
      ]
    },
    {
      "cell_type": "code",
      "source": [
        "def cor(true_val, Pred_val):\n",
        "  corr = []\n",
        "  for i in range(len(true_val)):\n",
        "    corr.append(np.abs(np.corrcoef(true_val[i], Pred_val[i])[0,1]))\n",
        "\n",
        "  return np.array(corr)"
      ],
      "metadata": {
        "id": "pu2yAEW8jhQY"
      },
      "execution_count": 48,
      "outputs": []
    },
    {
      "cell_type": "code",
      "execution_count": 49,
      "metadata": {
        "id": "Xc4zrVgkwL7D"
      },
      "outputs": [],
      "source": [
        "#loss\n",
        "def loss(true_val,Pred_val):\n",
        "  #loss1 = tf.keras.losses.mean_squared_logarithmic_error(true_val, Pred_val)\n",
        "  loss1 = tf.keras.losses.mean_squared_logarithmic_error(true_val, Pred_val) - 0.3095703125*np.abs(cor(true_val, Pred_val))\n",
        "  return loss1"
      ]
    },
    {
      "cell_type": "markdown",
      "metadata": {
        "id": "lmnyXaIzdL89"
      },
      "source": [
        "### normal"
      ]
    },
    {
      "cell_type": "code",
      "execution_count": 50,
      "metadata": {
        "id": "SR-ITcyibUe2"
      },
      "outputs": [],
      "source": [
        "data = pd.read_csv('/content/drive/Shareddrives/FYP IDS SDN/FYP ML/InSDN_DatasetCSV/new_dataset.csv', sep=\",\")\n",
        "data = data.drop(['Flow ID','Src IP','Src Port','Dst IP', 'Dst Port', 'Timestamp'], axis=1)\n",
        "#selected_features = ['Protocol', 'Tot Fwd Pkts', 'Flow Pkts/s', 'Fwd Header Len', 'Bwd Header Len', 'Bwd Pkts/s', 'Pkt Len Max', 'Init Bwd Win Byts' , 'Label']\n",
        "#data = data.drop(columns=data.columns.difference(selected_features))\n",
        "condition4 = data['Label'] != 'Normal'\n",
        "data = data.drop(data[condition4].index)\n",
        "y_data_normal = data[\"Label\"]\n",
        "scaler = StandardScaler()\n",
        "data_normal = data.drop([\"Label\"],axis=1)\n",
        "data_scaled = scaler.fit(data_normal)\n",
        "data_normal = data_scaled.transform(data_normal)"
      ]
    },
    {
      "cell_type": "code",
      "execution_count": 51,
      "metadata": {
        "id": "5ep6Ilssbeww",
        "colab": {
          "base_uri": "https://localhost:8080/"
        },
        "outputId": "066be763-4839-4570-f086-8503a112abe4"
      },
      "outputs": [
        {
          "output_type": "stream",
          "name": "stdout",
          "text": [
            "2139/2139 [==============================] - 27s 13ms/step\n"
          ]
        }
      ],
      "source": [
        "reconstructions_normal = model.predict(np.array(data_normal))\n",
        "mse_normal = loss(data_normal , reconstructions_normal)"
      ]
    },
    {
      "cell_type": "markdown",
      "metadata": {
        "id": "PN0r-ZqqdONb"
      },
      "source": [
        "### bfa"
      ]
    },
    {
      "cell_type": "code",
      "execution_count": 52,
      "metadata": {
        "id": "r4U4b2YBbqcU"
      },
      "outputs": [],
      "source": [
        "data = pd.read_csv('/content/drive/Shareddrives/FYP IDS SDN/FYP ML/InSDN_DatasetCSV/new_dataset.csv', sep=\",\")\n",
        "data = data.drop(['Flow ID','Src IP','Src Port','Dst IP', 'Dst Port', 'Timestamp'], axis=1)\n",
        "selected_features = ['Protocol', 'Tot Fwd Pkts', 'Flow Pkts/s', 'Fwd Header Len', 'Bwd Header Len', 'Bwd Pkts/s', 'Pkt Len Max', 'Init Bwd Win Byts' , 'Label']\n",
        "#data = data.drop(columns=data.columns.difference(selected_features))\n",
        "condition4 = data['Label'] != 'BFA'\n",
        "data = data.drop(data[condition4].index)\n",
        "y_data_bfa = data[\"Label\"]\n",
        "data_bfa = data.drop([\"Label\"],axis=1)\n",
        "scaler = StandardScaler()\n",
        "data_scaled = scaler.fit(data_bfa)\n",
        "data_bfa = data_scaled.transform(data_bfa)"
      ]
    },
    {
      "cell_type": "code",
      "execution_count": 53,
      "metadata": {
        "id": "diwi-ptebsiv",
        "colab": {
          "base_uri": "https://localhost:8080/"
        },
        "outputId": "eee4a791-6713-42b0-c9d9-39197dd0e35c"
      },
      "outputs": [
        {
          "output_type": "stream",
          "name": "stdout",
          "text": [
            "44/44 [==============================] - 1s 20ms/step\n"
          ]
        }
      ],
      "source": [
        "reconstructions_bfa = model.predict(np.array(data_bfa))\n",
        "mse_bfa = loss(data_bfa , reconstructions_bfa)"
      ]
    },
    {
      "cell_type": "markdown",
      "metadata": {
        "id": "q4pHKanKdPyz"
      },
      "source": [
        "### ddos"
      ]
    },
    {
      "cell_type": "code",
      "execution_count": 54,
      "metadata": {
        "id": "tAPtsCEsc5v_"
      },
      "outputs": [],
      "source": [
        "data = pd.read_csv('/content/drive/Shareddrives/FYP IDS SDN/FYP ML/InSDN_DatasetCSV/new_dataset.csv', sep=\",\")\n",
        "data = data.drop(['Flow ID','Src IP','Src Port','Dst IP', 'Dst Port', 'Timestamp'], axis=1)\n",
        "selected_features = ['Protocol', 'Tot Fwd Pkts', 'Flow Pkts/s', 'Fwd Header Len', 'Bwd Header Len', 'Bwd Pkts/s', 'Pkt Len Max', 'Init Bwd Win Byts' , 'Label']\n",
        "#data = data.drop(columns=data.columns.difference(selected_features))\n",
        "condition4 = data['Label'] != 'DDoS '\n",
        "condition1 = data['Label'] != 'DDoS'\n",
        "data = data.drop(data[condition4 & condition1].index)\n",
        "y_data_ddos = data[\"Label\"]\n",
        "data_ddos = data.drop([\"Label\"],axis=1)\n",
        "scaler = StandardScaler()\n",
        "data_scaled = scaler.fit(data_ddos)\n",
        "data_ddos = data_scaled.transform(data_ddos)"
      ]
    },
    {
      "cell_type": "code",
      "execution_count": 55,
      "metadata": {
        "id": "TmAe8qYZcRr3",
        "colab": {
          "base_uri": "https://localhost:8080/"
        },
        "outputId": "99930436-9237-4d8b-e41c-e41fd983a3c0"
      },
      "outputs": [
        {
          "output_type": "stream",
          "name": "stdout",
          "text": [
            "3811/3811 [==============================] - 48s 13ms/step\n"
          ]
        }
      ],
      "source": [
        "reconstructions_ddos = model.predict(np.array(data_ddos))\n",
        "mse_ddos = loss(data_ddos, reconstructions_ddos)\n"
      ]
    },
    {
      "cell_type": "markdown",
      "metadata": {
        "id": "ToCyjrg-ig4Z"
      },
      "source": [
        "### dos"
      ]
    },
    {
      "cell_type": "code",
      "execution_count": 56,
      "metadata": {
        "id": "kBEFCM3JiiRY",
        "colab": {
          "base_uri": "https://localhost:8080/"
        },
        "outputId": "b50128d2-ea9f-46b7-f8e6-e5e0e873e1ed"
      },
      "outputs": [
        {
          "output_type": "stream",
          "name": "stderr",
          "text": [
            "/usr/local/lib/python3.10/dist-packages/sklearn/base.py:439: UserWarning: X does not have valid feature names, but StandardScaler was fitted with feature names\n",
            "  warnings.warn(\n"
          ]
        }
      ],
      "source": [
        "data = pd.read_csv('/content/drive/Shareddrives/FYP IDS SDN/FYP ML/InSDN_DatasetCSV/new_dataset.csv', sep=\",\")\n",
        "data = data.drop(['Flow ID','Src IP','Src Port','Dst IP', 'Dst Port', 'Timestamp'], axis=1)\n",
        "selected_features = ['Protocol', 'Tot Fwd Pkts', 'Flow Pkts/s', 'Fwd Header Len', 'Bwd Header Len', 'Bwd Pkts/s', 'Pkt Len Max', 'Init Bwd Win Byts' , 'Label']\n",
        "#data = data.drop(columns=data.columns.difference(selected_features))\n",
        "condition4 = data['Label'] != 'DoS'\n",
        "data = data.drop(data[condition4].index)\n",
        "y_data_dos = data[\"Label\"]\n",
        "data_dos = data.drop([\"Label\"],axis=1)\n",
        "scaler = StandardScaler()\n",
        "data_scaled = scaler.fit(data_dos)\n",
        "data_dos = data_scaled.transform(data_ddos)"
      ]
    },
    {
      "cell_type": "code",
      "execution_count": 57,
      "metadata": {
        "id": "OnMiyMMQikEs",
        "colab": {
          "base_uri": "https://localhost:8080/"
        },
        "outputId": "9f0a0c28-fbaa-44bf-a47f-08b02a2978d7"
      },
      "outputs": [
        {
          "output_type": "stream",
          "name": "stdout",
          "text": [
            "3811/3811 [==============================] - 54s 14ms/step\n"
          ]
        }
      ],
      "source": [
        "reconstructions_dos = model.predict(np.array(data_dos))\n",
        "mse_dos = loss(data_dos ,reconstructions_dos)\n"
      ]
    },
    {
      "cell_type": "markdown",
      "metadata": {
        "id": "I_MfL8z7dQ7G"
      },
      "source": [
        "### Probe"
      ]
    },
    {
      "cell_type": "code",
      "execution_count": 58,
      "metadata": {
        "id": "G-9zahsedV7w"
      },
      "outputs": [],
      "source": [
        "data = pd.read_csv('/content/drive/Shareddrives/FYP IDS SDN/FYP ML/InSDN_DatasetCSV/new_dataset.csv', sep=\",\")\n",
        "data = data.drop(['Flow ID','Src IP','Src Port','Dst IP', 'Dst Port', 'Timestamp'], axis=1)\n",
        "selected_features = ['Protocol', 'Tot Fwd Pkts', 'Flow Pkts/s', 'Fwd Header Len', 'Bwd Header Len', 'Bwd Pkts/s', 'Pkt Len Max', 'Init Bwd Win Byts' , 'Label']\n",
        "#data = data.drop(columns=data.columns.difference(selected_features))\n",
        "condition4 = data['Label'] != 'Probe'\n",
        "data = data.drop(data[condition4].index)\n",
        "y_data_prob = data[\"Label\"]\n",
        "data_prob = data.drop([\"Label\"],axis=1)\n",
        "scaler = StandardScaler()\n",
        "data_scaled = scaler.fit(data_prob)\n",
        "data_prob = data_scaled.transform(data_prob)"
      ]
    },
    {
      "cell_type": "code",
      "execution_count": 59,
      "metadata": {
        "id": "06KMTh7UdVxA",
        "colab": {
          "base_uri": "https://localhost:8080/"
        },
        "outputId": "439d6043-0231-478f-8bf3-c16b393f2d0b"
      },
      "outputs": [
        {
          "output_type": "stream",
          "name": "stdout",
          "text": [
            "3067/3067 [==============================] - 42s 14ms/step\n"
          ]
        }
      ],
      "source": [
        "reconstructions_prob = model.predict(np.array(data_prob))\n",
        "mse_prob = loss(data_prob , reconstructions_prob)"
      ]
    },
    {
      "cell_type": "markdown",
      "metadata": {
        "id": "wM9pznkEdikd"
      },
      "source": [
        "### Web-Attack"
      ]
    },
    {
      "cell_type": "code",
      "execution_count": 60,
      "metadata": {
        "id": "hO0iLc3Ydjg8"
      },
      "outputs": [],
      "source": [
        "data = pd.read_csv('/content/drive/Shareddrives/FYP IDS SDN/FYP ML/InSDN_DatasetCSV/new_dataset.csv', sep=\",\")\n",
        "data = data.drop(['Flow ID','Src IP','Src Port','Dst IP', 'Dst Port', 'Timestamp'], axis=1)\n",
        "selected_features = ['Protocol', 'Tot Fwd Pkts', 'Flow Pkts/s', 'Fwd Header Len', 'Bwd Header Len', 'Bwd Pkts/s', 'Pkt Len Max', 'Init Bwd Win Byts' , 'Label']\n",
        "#data = data.drop(columns=data.columns.difference(selected_features))\n",
        "condition4 = data['Label'] != 'Web-Attack'\n",
        "data = data.drop(data[condition4].index)\n",
        "y_data_WebAttack = data[\"Label\"]\n",
        "data_WebAttack = data.drop([\"Label\"],axis=1)\n",
        "scaler = StandardScaler()\n",
        "data_scaled = scaler.fit(data_WebAttack)\n",
        "data_WebAttack = data_scaled.transform(data_WebAttack)"
      ]
    },
    {
      "cell_type": "code",
      "execution_count": 61,
      "metadata": {
        "id": "b3NWbbGCdjXG",
        "colab": {
          "base_uri": "https://localhost:8080/"
        },
        "outputId": "2681a6da-331c-4fc5-bc0c-4e064578ec76"
      },
      "outputs": [
        {
          "output_type": "stream",
          "name": "stdout",
          "text": [
            "6/6 [==============================] - 0s 12ms/step\n"
          ]
        }
      ],
      "source": [
        "reconstructions_WebAttack = model.predict(np.array(data_WebAttack))\n",
        "mse_WebAttack = loss(data_WebAttack , reconstructions_WebAttack)"
      ]
    },
    {
      "cell_type": "markdown",
      "metadata": {
        "id": "vCBuv4qtdvu3"
      },
      "source": [
        "### BOTNET"
      ]
    },
    {
      "cell_type": "code",
      "execution_count": 62,
      "metadata": {
        "id": "BFCDYr9Vdwx2"
      },
      "outputs": [],
      "source": [
        "data = pd.read_csv('/content/drive/Shareddrives/FYP IDS SDN/FYP ML/InSDN_DatasetCSV/new_dataset.csv', sep=\",\")\n",
        "data = data.drop(['Flow ID','Src IP','Src Port','Dst IP', 'Dst Port', 'Timestamp'], axis=1)\n",
        "selected_features = ['Protocol', 'Tot Fwd Pkts', 'Flow Pkts/s', 'Fwd Header Len', 'Bwd Header Len', 'Bwd Pkts/s', 'Pkt Len Max', 'Init Bwd Win Byts' , 'Label']\n",
        "#data = data.drop(columns=data.columns.difference(selected_features))\n",
        "condition4 = data['Label'] != 'BOTNET'\n",
        "data = data.drop(data[condition4].index)\n",
        "y_data_BOTNET = data[\"Label\"]\n",
        "data_BOTNET = data.drop([\"Label\"],axis=1)\n",
        "scaler = StandardScaler()\n",
        "data_scaled = scaler.fit(data_BOTNET)\n",
        "data_BOTNET = data_scaled.transform(data_BOTNET)"
      ]
    },
    {
      "cell_type": "code",
      "execution_count": 63,
      "metadata": {
        "id": "Vk8P7kRXdwsx",
        "colab": {
          "base_uri": "https://localhost:8080/"
        },
        "outputId": "0f780d2a-1486-4304-f60c-bf1e4ef43c51"
      },
      "outputs": [
        {
          "output_type": "stream",
          "name": "stdout",
          "text": [
            "6/6 [==============================] - 0s 17ms/step\n"
          ]
        }
      ],
      "source": [
        "reconstructions_BOTNET = model.predict(np.array(data_BOTNET))\n",
        "mse_BOTNET = loss(data_BOTNET , reconstructions_BOTNET)"
      ]
    },
    {
      "cell_type": "markdown",
      "metadata": {
        "id": "U9FHNkSud5Vr"
      },
      "source": [
        "### U2R"
      ]
    },
    {
      "cell_type": "code",
      "execution_count": 64,
      "metadata": {
        "id": "4ZePuicbd6SS"
      },
      "outputs": [],
      "source": [
        "data = pd.read_csv('/content/drive/Shareddrives/FYP IDS SDN/FYP ML/InSDN_DatasetCSV/new_dataset.csv', sep=\",\")\n",
        "data = data.drop(['Flow ID','Src IP','Src Port','Dst IP', 'Dst Port', 'Timestamp'], axis=1)\n",
        "selected_features = ['Protocol', 'Tot Fwd Pkts', 'Flow Pkts/s', 'Fwd Header Len', 'Bwd Header Len', 'Bwd Pkts/s', 'Pkt Len Max', 'Init Bwd Win Byts' , 'Label']\n",
        "#data = data.drop(columns=data.columns.difference(selected_features))\n",
        "condition4 = data['Label'] != 'U2R'\n",
        "data = data.drop(data[condition4].index)\n",
        "y_data_U2R = data[\"Label\"]\n",
        "data_U2R = data.drop([\"Label\"],axis=1)\n",
        "scaler = StandardScaler()\n",
        "data_scaled = scaler.fit(data_U2R)\n",
        "data_U2R = data_scaled.transform(data_U2R)"
      ]
    },
    {
      "cell_type": "code",
      "execution_count": 65,
      "metadata": {
        "id": "ZkOtjXKrd6Jx",
        "colab": {
          "base_uri": "https://localhost:8080/"
        },
        "outputId": "318edfb5-4db4-4b93-b0e7-fa217b2a851b"
      },
      "outputs": [
        {
          "output_type": "stream",
          "name": "stdout",
          "text": [
            "1/1 [==============================] - 0s 30ms/step\n"
          ]
        }
      ],
      "source": [
        "reconstructions_U2R = model.predict(np.array(data_U2R))\n",
        "mse_U2R = loss(data_U2R , reconstructions_U2R)"
      ]
    },
    {
      "cell_type": "code",
      "execution_count": 66,
      "metadata": {
        "id": "MIHjUjyZceKN"
      },
      "outputs": [],
      "source": [
        "#threshold = np.percentile(mse, 95)\n",
        "\n",
        "#is_anomaly = mse < threshold"
      ]
    },
    {
      "cell_type": "markdown",
      "metadata": {
        "id": "EfxcPINifcq-"
      },
      "source": [
        "### out"
      ]
    },
    {
      "cell_type": "code",
      "execution_count": 67,
      "metadata": {
        "id": "T2FmHSfmhv8u",
        "colab": {
          "base_uri": "https://localhost:8080/"
        },
        "outputId": "659a7110-ef12-4736-ea64-9c890e675178"
      },
      "outputs": [
        {
          "output_type": "stream",
          "name": "stdout",
          "text": [
            "normal \t max 2.934598684310913 \t min -0.30953535437583923\n",
            "mse_bfa \t max 1.472919225692749 \t min -0.15571965277194977\n",
            "mse_ddos \t max 3.830650568008423 \t min -0.03104647621512413\n",
            "mse_prob \t max 2.2540876865386963 \t min -0.1860577017068863\n",
            "mse_WebAttack \t max 0.42943140864372253 \t min -0.16497847437858582\n",
            "mse_BOTNET \t max 0.3415701985359192 \t min -0.07735852152109146\n",
            "mse_U2R \t max 0.3781217038631439 \t min -0.1840018630027771\n",
            "mse_dos \t max 0.4996386766433716 \t min 0.10482321679592133\n"
          ]
        }
      ],
      "source": [
        "print(f\"normal \\t max {np.max(mse_normal)} \\t min {np.min(mse_normal)}\")\n",
        "print(f\"mse_bfa \\t max {np.max(mse_bfa)} \\t min {np.min(mse_bfa)}\")\n",
        "print(f\"mse_ddos \\t max {np.max(mse_ddos)} \\t min {np.min(mse_ddos)}\")\n",
        "print(f\"mse_prob \\t max {np.max(mse_prob)} \\t min {np.min(mse_prob)}\")\n",
        "print(f\"mse_WebAttack \\t max {np.max(mse_WebAttack)} \\t min {np.min(mse_WebAttack)}\")\n",
        "print(f\"mse_BOTNET \\t max {np.max(mse_BOTNET)} \\t min {np.min(mse_BOTNET)}\")\n",
        "print(f\"mse_U2R \\t max {np.max(mse_U2R)} \\t min {np.min(mse_U2R)}\")\n",
        "print(f\"mse_dos \\t max {np.max(mse_dos)} \\t min {np.min(mse_dos)}\")"
      ]
    },
    {
      "cell_type": "code",
      "execution_count": 68,
      "metadata": {
        "id": "FE0z-QcVh3Dt"
      },
      "outputs": [],
      "source": [
        "threshold_normal = np.percentile(mse_normal, 85)\n",
        "threshold_bfa = np.percentile(mse_bfa, 95)\n",
        "threshold_ddos = np.percentile(mse_ddos, 95)\n",
        "threshold_prob = np.percentile(mse_prob, 95)\n",
        "threshold_WebAttack = np.percentile(mse_WebAttack, 95)\n",
        "threshold_BOTNET = np.percentile(mse_BOTNET, 95)\n",
        "threshold_U2R = np.percentile(mse_U2R, 95)"
      ]
    },
    {
      "cell_type": "code",
      "execution_count": 69,
      "metadata": {
        "id": "oW0IZeH0jXTa",
        "colab": {
          "base_uri": "https://localhost:8080/"
        },
        "outputId": "1cdd6552-8137-472c-ee84-59208e1a5b45"
      },
      "outputs": [
        {
          "output_type": "stream",
          "name": "stdout",
          "text": [
            "-0.22437612488865855\n",
            "0.18751567006111142\n",
            "0.11501719057559967\n",
            "0.16628994941711425\n",
            "0.11724248453974717\n",
            "0.31094574481248854\n",
            "0.3411397397518158\n"
          ]
        }
      ],
      "source": [
        "print(threshold_normal)\n",
        "print(threshold_bfa)\n",
        "print(threshold_ddos)\n",
        "print(threshold_prob)\n",
        "print(threshold_WebAttack)\n",
        "print(threshold_BOTNET)\n",
        "print(threshold_U2R)"
      ]
    },
    {
      "cell_type": "markdown",
      "metadata": {
        "id": "WlAGyAeaL_ku"
      },
      "source": [
        "## accuracy"
      ]
    },
    {
      "cell_type": "code",
      "source": [
        "threshold_mae = np.percentile(mse_normal, 95)"
      ],
      "metadata": {
        "id": "848dH2-sMT9I"
      },
      "execution_count": 70,
      "outputs": []
    },
    {
      "cell_type": "code",
      "execution_count": 71,
      "metadata": {
        "id": "ludVVSGflCq1"
      },
      "outputs": [],
      "source": [
        "anom_normal = mse_normal < threshold_mae\n",
        "anom_bfa = mse_bfa > threshold_mae\n",
        "anom_ddos  = mse_ddos > threshold_mae\n",
        "anom_prob = mse_prob > threshold_mae\n",
        "anom_WebAttack = mse_WebAttack > threshold_mae\n",
        "anom_BOTNET = mse_BOTNET >  threshold_mae\n",
        "anom_U2R = mse_U2R > threshold_mae\n",
        "anom_dos = mse_dos > threshold_mae"
      ]
    },
    {
      "cell_type": "code",
      "execution_count": 72,
      "metadata": {
        "id": "okycfqvQuuWx"
      },
      "outputs": [],
      "source": [
        "def check(anom):\n",
        "  count =0\n",
        "  var_name = [name for name, value in globals().items() if value is anom][0]\n",
        "  for i in range(len(anom)):\n",
        "    if np.array(anom)[i]:\n",
        "      count = count +1\n",
        "\n",
        "  print(f\"{var_name} \\t  {count/len(anom)*100:.3f} \\t  {len(anom)}\")"
      ]
    },
    {
      "cell_type": "code",
      "execution_count": 73,
      "metadata": {
        "id": "IcOZKopAwe6C",
        "colab": {
          "base_uri": "https://localhost:8080/"
        },
        "outputId": "462423d6-05a3-4bdc-bfdf-59fe72fe33a3"
      },
      "outputs": [
        {
          "output_type": "stream",
          "name": "stdout",
          "text": [
            "anom_normal \t  94.994 \t  68424\n",
            "anom_bfa \t  94.021 \t  1405\n",
            "anom_ddos \t  100.000 \t  121942\n",
            "anom_prob \t  99.063 \t  98129\n",
            "anom_WebAttack \t  89.062 \t  192\n",
            "anom_BOTNET \t  100.000 \t  164\n",
            "anom_U2R \t  88.235 \t  17\n",
            "anom_dos \t  100.000 \t  121942\n"
          ]
        }
      ],
      "source": [
        "check(anom_normal)\n",
        "check(anom_bfa)\n",
        "check(anom_ddos)\n",
        "check(anom_prob)\n",
        "check(anom_WebAttack)\n",
        "check(anom_BOTNET)\n",
        "check(anom_U2R)\n",
        "check(anom_dos)"
      ]
    },
    {
      "cell_type": "markdown",
      "source": [
        "## Plots\n"
      ],
      "metadata": {
        "id": "xU4XxoA8u4MD"
      }
    },
    {
      "cell_type": "code",
      "source": [
        "plt.hist(mse_normal, bins=50, label='normal',alpha=0.5, range=[-0.27, 2.8], color = 'black')\n",
        "plt.hist(mse_bfa, bins=50, label='bfa',alpha=0.5, range=[-0.27, 2.8], color = 'blue')\n",
        "plt.hist(mse_ddos, bins=50, label='ddos',alpha=0.5, range=[-0.27, 2.8], color = 'red')\n",
        "plt.hist(mse_prob, bins=50, label='prob',alpha=0.5, range=[-0.27, 2.8], color = 'cyan')\n",
        "plt.hist(mse_WebAttack, bins=50, label='web',alpha=0.5, range=[-0.27, 2.8], color = 'orange')\n",
        "plt.hist(mse_BOTNET, bins=50, label='botnet',alpha=0.5, range=[-0.27, 2.8], color = 'green')\n",
        "plt.hist(mse_U2R, bins=50, label='u2r',alpha=0.5, range=[-0.27, 2.8], color = 'indigo')\n",
        "plt.hist(mse_dos, bins=50, label='dos',alpha=0.5, range=[-0.27, 2.8], color = 'pink')\n",
        "plt.axvline(threshold_mae, color='r', linewidth=1, linestyle='dashed', label='{:0.03f}'.format(threshold_mae))\n",
        "plt.legend()\n",
        "plt.show()"
      ],
      "metadata": {
        "colab": {
          "base_uri": "https://localhost:8080/",
          "height": 430
        },
        "id": "JKh4QjUou6TQ",
        "outputId": "f2a1c07e-a5e2-4a6c-e72c-73c6b242afce"
      },
      "execution_count": 32,
      "outputs": [
        {
          "output_type": "display_data",
          "data": {
            "text/plain": [
              "<Figure size 640x480 with 1 Axes>"
            ],
            "image/png": "[encoded data removed]"
          },
          "metadata": {}
        }
      ]
    },
    {
      "cell_type": "code",
      "source": [
        "plt.subplot(4, 2, 1)\n",
        "plt.hist(mse_normal, bins=50, label='normal', range=[-0.27, 2.8], color = 'blue')\n",
        "plt.axvline(threshold_mae, color='r', linewidth=1, linestyle='dashed', label='{:0.03f}'.format(threshold_mae))\n",
        "plt.legend()\n",
        "plt.subplot(4, 2, 2)\n",
        "plt.hist(mse_bfa, bins=50, label='bfa', range=[-0.27, 2.8], color = 'blue')\n",
        "plt.axvline(threshold_mae, color='r', linewidth=1, linestyle='dashed', label='{:0.03f}'.format(threshold_mae))\n",
        "plt.legend()\n",
        "plt.subplot(4, 2, 3)\n",
        "plt.hist(mse_ddos, bins=50, label='ddos', range=[-0.27, 2.8], color = 'blue')\n",
        "plt.axvline(threshold_mae, color='r', linewidth=1, linestyle='dashed', label='{:0.03f}'.format(threshold_mae))\n",
        "plt.legend()\n",
        "plt.subplot(4, 2, 4)\n",
        "plt.hist(mse_prob, bins=50, label='prob', range=[-0.27, 2.8], color = 'blue')\n",
        "plt.axvline(threshold_mae, color='r', linewidth=1, linestyle='dashed', label='{:0.03f}'.format(threshold_mae))\n",
        "plt.legend()\n",
        "plt.subplot(4, 2, 5)\n",
        "plt.hist(mse_WebAttack, bins=50, label='web', range=[-0.27, 2.8], color = 'blue')\n",
        "plt.axvline(threshold_mae, color='r', linewidth=1, linestyle='dashed', label='{:0.03f}'.format(threshold_mae))\n",
        "plt.legend()\n",
        "plt.subplot(4, 2, 6)\n",
        "plt.hist(mse_BOTNET, bins=50, label='botnet', range=[-0.27, 2.8], color = 'blue')\n",
        "plt.axvline(threshold_mae, color='r', linewidth=1, linestyle='dashed', label='{:0.03f}'.format(threshold_mae))\n",
        "plt.legend()\n",
        "plt.subplot(4, 2, 7)\n",
        "plt.hist(mse_U2R, bins=50, label='u2r', range=[-0.27, 2.8], color = 'blue')\n",
        "plt.axvline(threshold_mae, color='r', linewidth=1, linestyle='dashed', label='{:0.03f}'.format(threshold_mae))\n",
        "plt.legend()\n",
        "plt.subplot(4, 2, 8)\n",
        "plt.hist(mse_dos, bins=50, label='dos', range=[-0.27, 2.8], color = 'blue')\n",
        "plt.axvline(threshold_mae, color='r', linewidth=1, linestyle='dashed', label='{:0.03f}'.format(threshold_mae))\n",
        "plt.legend()\n",
        "plt.show()"
      ],
      "metadata": {
        "colab": {
          "base_uri": "https://localhost:8080/",
          "height": 610
        },
        "id": "DIatC8PVycIC",
        "outputId": "0e2a1aaf-c949-4c6f-db58-52244b7b918c"
      },
      "execution_count": 33,
      "outputs": [
        {
          "output_type": "error",
          "ename": "KeyboardInterrupt",
          "evalue": "ignored",
          "traceback": [
            "\u001b[0;31m---------------------------------------------------------------------------\u001b[0m",
            "\u001b[0;31mKeyboardInterrupt\u001b[0m                         Traceback (most recent call last)",
            "\u001b[0;32m<ipython-input-33-792d99612969>\u001b[0m in \u001b[0;36m<cell line: 10>\u001b[0;34m()\u001b[0m\n\u001b[1;32m      8\u001b[0m \u001b[0mplt\u001b[0m\u001b[0;34m.\u001b[0m\u001b[0mlegend\u001b[0m\u001b[0;34m(\u001b[0m\u001b[0;34m)\u001b[0m\u001b[0;34m\u001b[0m\u001b[0;34m\u001b[0m\u001b[0m\n\u001b[1;32m      9\u001b[0m \u001b[0mplt\u001b[0m\u001b[0;34m.\u001b[0m\u001b[0msubplot\u001b[0m\u001b[0;34m(\u001b[0m\u001b[0;36m4\u001b[0m\u001b[0;34m,\u001b[0m \u001b[0;36m2\u001b[0m\u001b[0;34m,\u001b[0m \u001b[0;36m3\u001b[0m\u001b[0;34m)\u001b[0m\u001b[0;34m\u001b[0m\u001b[0;34m\u001b[0m\u001b[0m\n\u001b[0;32m---> 10\u001b[0;31m \u001b[0mplt\u001b[0m\u001b[0;34m.\u001b[0m\u001b[0mhist\u001b[0m\u001b[0;34m(\u001b[0m\u001b[0mmse_ddos\u001b[0m\u001b[0;34m,\u001b[0m \u001b[0mbins\u001b[0m\u001b[0;34m=\u001b[0m\u001b[0;36m50\u001b[0m\u001b[0;34m,\u001b[0m \u001b[0mlabel\u001b[0m\u001b[0;34m=\u001b[0m\u001b[0;34m'ddos'\u001b[0m\u001b[0;34m,\u001b[0m \u001b[0mrange\u001b[0m\u001b[0;34m=\u001b[0m\u001b[0;34m[\u001b[0m\u001b[0;34m-\u001b[0m\u001b[0;36m0.27\u001b[0m\u001b[0;34m,\u001b[0m \u001b[0;36m2.8\u001b[0m\u001b[0;34m]\u001b[0m\u001b[0;34m,\u001b[0m \u001b[0mcolor\u001b[0m \u001b[0;34m=\u001b[0m \u001b[0;34m'blue'\u001b[0m\u001b[0;34m)\u001b[0m\u001b[0;34m\u001b[0m\u001b[0;34m\u001b[0m\u001b[0m\n\u001b[0m\u001b[1;32m     11\u001b[0m \u001b[0mplt\u001b[0m\u001b[0;34m.\u001b[0m\u001b[0maxvline\u001b[0m\u001b[0;34m(\u001b[0m\u001b[0mthreshold_mae\u001b[0m\u001b[0;34m,\u001b[0m \u001b[0mcolor\u001b[0m\u001b[0;34m=\u001b[0m\u001b[0;34m'r'\u001b[0m\u001b[0;34m,\u001b[0m \u001b[0mlinewidth\u001b[0m\u001b[0;34m=\u001b[0m\u001b[0;36m1\u001b[0m\u001b[0;34m,\u001b[0m \u001b[0mlinestyle\u001b[0m\u001b[0;34m=\u001b[0m\u001b[0;34m'dashed'\u001b[0m\u001b[0;34m,\u001b[0m \u001b[0mlabel\u001b[0m\u001b[0;34m=\u001b[0m\u001b[0;34m'{:0.03f}'\u001b[0m\u001b[0;34m.\u001b[0m\u001b[0mformat\u001b[0m\u001b[0;34m(\u001b[0m\u001b[0mthreshold_mae\u001b[0m\u001b[0;34m)\u001b[0m\u001b[0;34m)\u001b[0m\u001b[0;34m\u001b[0m\u001b[0;34m\u001b[0m\u001b[0m\n\u001b[1;32m     12\u001b[0m \u001b[0mplt\u001b[0m\u001b[0;34m.\u001b[0m\u001b[0mlegend\u001b[0m\u001b[0;34m(\u001b[0m\u001b[0;34m)\u001b[0m\u001b[0;34m\u001b[0m\u001b[0;34m\u001b[0m\u001b[0m\n",
            "\u001b[0;32m/usr/local/lib/python3.10/dist-packages/matplotlib/pyplot.py\u001b[0m in \u001b[0;36mhist\u001b[0;34m(x, bins, range, density, weights, cumulative, bottom, histtype, align, orientation, rwidth, log, color, label, stacked, data, **kwargs)\u001b[0m\n\u001b[1;32m   2643\u001b[0m         \u001b[0morientation\u001b[0m\u001b[0;34m=\u001b[0m\u001b[0;34m'vertical'\u001b[0m\u001b[0;34m,\u001b[0m \u001b[0mrwidth\u001b[0m\u001b[0;34m=\u001b[0m\u001b[0;32mNone\u001b[0m\u001b[0;34m,\u001b[0m \u001b[0mlog\u001b[0m\u001b[0;34m=\u001b[0m\u001b[0;32mFalse\u001b[0m\u001b[0;34m,\u001b[0m \u001b[0mcolor\u001b[0m\u001b[0;34m=\u001b[0m\u001b[0;32mNone\u001b[0m\u001b[0;34m,\u001b[0m\u001b[0;34m\u001b[0m\u001b[0;34m\u001b[0m\u001b[0m\n\u001b[1;32m   2644\u001b[0m         label=None, stacked=False, *, data=None, **kwargs):\n\u001b[0;32m-> 2645\u001b[0;31m     return gca().hist(\n\u001b[0m\u001b[1;32m   2646\u001b[0m         \u001b[0mx\u001b[0m\u001b[0;34m,\u001b[0m \u001b[0mbins\u001b[0m\u001b[0;34m=\u001b[0m\u001b[0mbins\u001b[0m\u001b[0;34m,\u001b[0m \u001b[0mrange\u001b[0m\u001b[0;34m=\u001b[0m\u001b[0mrange\u001b[0m\u001b[0;34m,\u001b[0m \u001b[0mdensity\u001b[0m\u001b[0;34m=\u001b[0m\u001b[0mdensity\u001b[0m\u001b[0;34m,\u001b[0m \u001b[0mweights\u001b[0m\u001b[0;34m=\u001b[0m\u001b[0mweights\u001b[0m\u001b[0;34m,\u001b[0m\u001b[0;34m\u001b[0m\u001b[0;34m\u001b[0m\u001b[0m\n\u001b[1;32m   2647\u001b[0m         \u001b[0mcumulative\u001b[0m\u001b[0;34m=\u001b[0m\u001b[0mcumulative\u001b[0m\u001b[0;34m,\u001b[0m \u001b[0mbottom\u001b[0m\u001b[0;34m=\u001b[0m\u001b[0mbottom\u001b[0m\u001b[0;34m,\u001b[0m \u001b[0mhisttype\u001b[0m\u001b[0;34m=\u001b[0m\u001b[0mhisttype\u001b[0m\u001b[0;34m,\u001b[0m\u001b[0;34m\u001b[0m\u001b[0;34m\u001b[0m\u001b[0m\n",
            "\u001b[0;32m/usr/local/lib/python3.10/dist-packages/matplotlib/__init__.py\u001b[0m in \u001b[0;36minner\u001b[0;34m(ax, data, *args, **kwargs)\u001b[0m\n\u001b[1;32m   1440\u001b[0m     \u001b[0;32mdef\u001b[0m \u001b[0minner\u001b[0m\u001b[0;34m(\u001b[0m\u001b[0max\u001b[0m\u001b[0;34m,\u001b[0m \u001b[0;34m*\u001b[0m\u001b[0margs\u001b[0m\u001b[0;34m,\u001b[0m \u001b[0mdata\u001b[0m\u001b[0;34m=\u001b[0m\u001b[0;32mNone\u001b[0m\u001b[0;34m,\u001b[0m \u001b[0;34m**\u001b[0m\u001b[0mkwargs\u001b[0m\u001b[0;34m)\u001b[0m\u001b[0;34m:\u001b[0m\u001b[0;34m\u001b[0m\u001b[0;34m\u001b[0m\u001b[0m\n\u001b[1;32m   1441\u001b[0m         \u001b[0;32mif\u001b[0m \u001b[0mdata\u001b[0m \u001b[0;32mis\u001b[0m \u001b[0;32mNone\u001b[0m\u001b[0;34m:\u001b[0m\u001b[0;34m\u001b[0m\u001b[0;34m\u001b[0m\u001b[0m\n\u001b[0;32m-> 1442\u001b[0;31m             \u001b[0;32mreturn\u001b[0m \u001b[0mfunc\u001b[0m\u001b[0;34m(\u001b[0m\u001b[0max\u001b[0m\u001b[0;34m,\u001b[0m \u001b[0;34m*\u001b[0m\u001b[0mmap\u001b[0m\u001b[0;34m(\u001b[0m\u001b[0msanitize_sequence\u001b[0m\u001b[0;34m,\u001b[0m \u001b[0margs\u001b[0m\u001b[0;34m)\u001b[0m\u001b[0;34m,\u001b[0m \u001b[0;34m**\u001b[0m\u001b[0mkwargs\u001b[0m\u001b[0;34m)\u001b[0m\u001b[0;34m\u001b[0m\u001b[0;34m\u001b[0m\u001b[0m\n\u001b[0m\u001b[1;32m   1443\u001b[0m \u001b[0;34m\u001b[0m\u001b[0m\n\u001b[1;32m   1444\u001b[0m         \u001b[0mbound\u001b[0m \u001b[0;34m=\u001b[0m \u001b[0mnew_sig\u001b[0m\u001b[0;34m.\u001b[0m\u001b[0mbind\u001b[0m\u001b[0;34m(\u001b[0m\u001b[0max\u001b[0m\u001b[0;34m,\u001b[0m \u001b[0;34m*\u001b[0m\u001b[0margs\u001b[0m\u001b[0;34m,\u001b[0m \u001b[0;34m**\u001b[0m\u001b[0mkwargs\u001b[0m\u001b[0;34m)\u001b[0m\u001b[0;34m\u001b[0m\u001b[0;34m\u001b[0m\u001b[0m\n",
            "\u001b[0;32m/usr/local/lib/python3.10/dist-packages/matplotlib/axes/_axes.py\u001b[0m in \u001b[0;36mhist\u001b[0;34m(self, x, bins, range, density, weights, cumulative, bottom, histtype, align, orientation, rwidth, log, color, label, stacked, **kwargs)\u001b[0m\n\u001b[1;32m   6701\u001b[0m \u001b[0;34m\u001b[0m\u001b[0m\n\u001b[1;32m   6702\u001b[0m         \u001b[0;31m# Massage 'x' for processing.\u001b[0m\u001b[0;34m\u001b[0m\u001b[0;34m\u001b[0m\u001b[0m\n\u001b[0;32m-> 6703\u001b[0;31m         \u001b[0mx\u001b[0m \u001b[0;34m=\u001b[0m \u001b[0mcbook\u001b[0m\u001b[0;34m.\u001b[0m\u001b[0m_reshape_2D\u001b[0m\u001b[0;34m(\u001b[0m\u001b[0mx\u001b[0m\u001b[0;34m,\u001b[0m \u001b[0;34m'x'\u001b[0m\u001b[0;34m)\u001b[0m\u001b[0;34m\u001b[0m\u001b[0;34m\u001b[0m\u001b[0m\n\u001b[0m\u001b[1;32m   6704\u001b[0m         \u001b[0mnx\u001b[0m \u001b[0;34m=\u001b[0m \u001b[0mlen\u001b[0m\u001b[0;34m(\u001b[0m\u001b[0mx\u001b[0m\u001b[0;34m)\u001b[0m  \u001b[0;31m# number of datasets\u001b[0m\u001b[0;34m\u001b[0m\u001b[0;34m\u001b[0m\u001b[0m\n\u001b[1;32m   6705\u001b[0m \u001b[0;34m\u001b[0m\u001b[0m\n",
            "\u001b[0;32m/usr/local/lib/python3.10/dist-packages/matplotlib/cbook/__init__.py\u001b[0m in \u001b[0;36m_reshape_2D\u001b[0;34m(X, name)\u001b[0m\n\u001b[1;32m   1392\u001b[0m         \u001b[0;32mif\u001b[0m \u001b[0;32mnot\u001b[0m \u001b[0misinstance\u001b[0m\u001b[0;34m(\u001b[0m\u001b[0mxi\u001b[0m\u001b[0;34m,\u001b[0m \u001b[0mstr\u001b[0m\u001b[0;34m)\u001b[0m\u001b[0;34m:\u001b[0m\u001b[0;34m\u001b[0m\u001b[0;34m\u001b[0m\u001b[0m\n\u001b[1;32m   1393\u001b[0m             \u001b[0;32mtry\u001b[0m\u001b[0;34m:\u001b[0m\u001b[0;34m\u001b[0m\u001b[0;34m\u001b[0m\u001b[0m\n\u001b[0;32m-> 1394\u001b[0;31m                 \u001b[0miter\u001b[0m\u001b[0;34m(\u001b[0m\u001b[0mxi\u001b[0m\u001b[0;34m)\u001b[0m\u001b[0;34m\u001b[0m\u001b[0;34m\u001b[0m\u001b[0m\n\u001b[0m\u001b[1;32m   1395\u001b[0m             \u001b[0;32mexcept\u001b[0m \u001b[0mTypeError\u001b[0m\u001b[0;34m:\u001b[0m\u001b[0;34m\u001b[0m\u001b[0;34m\u001b[0m\u001b[0m\n\u001b[1;32m   1396\u001b[0m                 \u001b[0;32mpass\u001b[0m\u001b[0;34m\u001b[0m\u001b[0;34m\u001b[0m\u001b[0m\n",
            "\u001b[0;32m/usr/local/lib/python3.10/dist-packages/tensorflow/python/framework/tensor.py\u001b[0m in \u001b[0;36m__iter__\u001b[0;34m(self)\u001b[0m\n\u001b[1;32m    320\u001b[0m     \u001b[0mself\u001b[0m\u001b[0;34m.\u001b[0m\u001b[0m_disallow\u001b[0m\u001b[0;34m(\u001b[0m\u001b[0;34m\"Iterating over a symbolic `tf.Tensor`\"\u001b[0m\u001b[0;34m)\u001b[0m\u001b[0;34m\u001b[0m\u001b[0;34m\u001b[0m\u001b[0m\n\u001b[1;32m    321\u001b[0m \u001b[0;34m\u001b[0m\u001b[0m\n\u001b[0;32m--> 322\u001b[0;31m   \u001b[0;32mdef\u001b[0m \u001b[0m__iter__\u001b[0m\u001b[0;34m(\u001b[0m\u001b[0mself\u001b[0m\u001b[0;34m)\u001b[0m\u001b[0;34m:\u001b[0m\u001b[0;34m\u001b[0m\u001b[0;34m\u001b[0m\u001b[0m\n\u001b[0m\u001b[1;32m    323\u001b[0m     \u001b[0;32mif\u001b[0m \u001b[0;32mnot\u001b[0m \u001b[0mcontext\u001b[0m\u001b[0;34m.\u001b[0m\u001b[0mexecuting_eagerly\u001b[0m\u001b[0;34m(\u001b[0m\u001b[0;34m)\u001b[0m\u001b[0;34m:\u001b[0m\u001b[0;34m\u001b[0m\u001b[0;34m\u001b[0m\u001b[0m\n\u001b[1;32m    324\u001b[0m       \u001b[0mself\u001b[0m\u001b[0;34m.\u001b[0m\u001b[0m_disallow_iteration\u001b[0m\u001b[0;34m(\u001b[0m\u001b[0;34m)\u001b[0m\u001b[0;34m\u001b[0m\u001b[0;34m\u001b[0m\u001b[0m\n",
            "\u001b[0;31mKeyboardInterrupt\u001b[0m: "
          ]
        },
        {
          "output_type": "display_data",
          "data": {
            "text/plain": [
              "<Figure size 640x480 with 3 Axes>"
            ],
            "image/png": "[encoded data removed]"
          },
          "metadata": {}
        }
      ]
    }
  ]
}